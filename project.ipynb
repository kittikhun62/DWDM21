{
  "nbformat": 4,
  "nbformat_minor": 0,
  "metadata": {
    "colab": {
      "name": "project.ipynb",
      "provenance": [],
      "authorship_tag": "ABX9TyPBLjUllwNma8IcE+47m8et",
      "include_colab_link": true
    },
    "kernelspec": {
      "name": "python3",
      "display_name": "Python 3"
    },
    "language_info": {
      "name": "python"
    }
  },
  "cells": [
    {
      "cell_type": "markdown",
      "metadata": {
        "id": "view-in-github",
        "colab_type": "text"
      },
      "source": [
        "<a href=\"https://colab.research.google.com/github/kittikhun62/DWDM21/blob/main/project.ipynb\" target=\"_parent\"><img src=\"https://colab.research.google.com/assets/colab-badge.svg\" alt=\"Open In Colab\"/></a>"
      ]
    },
    {
      "cell_type": "markdown",
      "metadata": {
        "id": "fGJM3hzGbAXd"
      },
      "source": [
        "#### Project กลุ่ม #### \n",
        "* present วันที่ 31 สิงหาคม 2564\n",
        "* ข้อมูลที่ไปดึงมาจาก 3 แหล่ง\n",
        "* แสดงวิธีการโหลด\n",
        "* ความเชื่อมโยงของ 3 ตาราง (index)\n",
        "\n"
      ]
    },
    {
      "cell_type": "code",
      "metadata": {
        "id": "jq9b0wuA7fj3"
      },
      "source": [
        "import pandas as pd # ข้อมูลลักษณะ ตาราง"
      ],
      "execution_count": 1,
      "outputs": []
    },
    {
      "cell_type": "code",
      "metadata": {
        "colab": {
          "base_uri": "https://localhost:8080/"
        },
        "id": "18ckP8SN72rE",
        "outputId": "214cedc9-5e0b-4328-91fe-ca2d69adeaa8"
      },
      "source": [
        "from google.colab import drive #เชื่อม google drive\n",
        "drive.mount('/content/drive')"
      ],
      "execution_count": 2,
      "outputs": [
        {
          "output_type": "stream",
          "text": [
            "Mounted at /content/drive\n"
          ],
          "name": "stdout"
        }
      ]
    },
    {
      "cell_type": "code",
      "metadata": {
        "id": "cgxOYkaXosxQ",
        "colab": {
          "base_uri": "https://localhost:8080/"
        },
        "outputId": "0ed43158-69ba-4825-bc56-727eb91eabd1"
      },
      "source": [
        "ls #เป็นคำสั่งไว้ตรวจสอบที่อยู่ของไฟลืว่ามีไฟล์ครบรึป่าว\n"
      ],
      "execution_count": 3,
      "outputs": [
        {
          "output_type": "stream",
          "text": [
            "\u001b[0m\u001b[01;34mdrive\u001b[0m/  \u001b[01;34msample_data\u001b[0m/\n"
          ],
          "name": "stdout"
        }
      ]
    },
    {
      "cell_type": "code",
      "metadata": {
        "id": "h8m1OJkp8DwP"
      },
      "source": [
        "import os # จัดการไฟล์เเละ path(ที่อยู่ของไฟล์)"
      ],
      "execution_count": 4,
      "outputs": []
    },
    {
      "cell_type": "code",
      "metadata": {
        "id": "_qc01Uy48FmG"
      },
      "source": [
        "path = '/content/drive/My Drive/PROJECT'"
      ],
      "execution_count": 5,
      "outputs": []
    },
    {
      "cell_type": "markdown",
      "metadata": {
        "id": "7-dmspUQgfqJ"
      },
      "source": [
        "## data 0"
      ]
    },
    {
      "cell_type": "code",
      "metadata": {
        "colab": {
          "base_uri": "https://localhost:8080/",
          "height": 416
        },
        "id": "DaNJvJEXCIM1",
        "outputId": "822eba24-d6f5-4b43-ee59-d81785245862"
      },
      "source": [
        "data = pd.read_csv(os.path.join(path,'workshop-participants.csv'))\n",
        "data"
      ],
      "execution_count": 6,
      "outputs": [
        {
          "output_type": "execute_result",
          "data": {
            "text/html": [
              "<div>\n",
              "<style scoped>\n",
              "    .dataframe tbody tr th:only-of-type {\n",
              "        vertical-align: middle;\n",
              "    }\n",
              "\n",
              "    .dataframe tbody tr th {\n",
              "        vertical-align: top;\n",
              "    }\n",
              "\n",
              "    .dataframe thead th {\n",
              "        text-align: right;\n",
              "    }\n",
              "</style>\n",
              "<table border=\"1\" class=\"dataframe\">\n",
              "  <thead>\n",
              "    <tr style=\"text-align: right;\">\n",
              "      <th></th>\n",
              "      <th>Fisical Year</th>\n",
              "      <th>Workshop Name</th>\n",
              "      <th>National paticipants</th>\n",
              "      <th>paticipants</th>\n",
              "    </tr>\n",
              "  </thead>\n",
              "  <tbody>\n",
              "    <tr>\n",
              "      <th>0</th>\n",
              "      <td>2010</td>\n",
              "      <td>ASEAN Workshops on Synchrotron Techniques</td>\n",
              "      <td>Thai</td>\n",
              "      <td>128</td>\n",
              "    </tr>\n",
              "    <tr>\n",
              "      <th>1</th>\n",
              "      <td>2010</td>\n",
              "      <td>ASEAN Workshops on Synchrotron Techniques</td>\n",
              "      <td>ASEN</td>\n",
              "      <td>7</td>\n",
              "    </tr>\n",
              "    <tr>\n",
              "      <th>2</th>\n",
              "      <td>2011</td>\n",
              "      <td>ASEAN Workshops on Synchrotron Techniques</td>\n",
              "      <td>Thai</td>\n",
              "      <td>148</td>\n",
              "    </tr>\n",
              "    <tr>\n",
              "      <th>3</th>\n",
              "      <td>2011</td>\n",
              "      <td>ASEAN Workshops on Synchrotron Techniques</td>\n",
              "      <td>ASEN</td>\n",
              "      <td>8</td>\n",
              "    </tr>\n",
              "    <tr>\n",
              "      <th>4</th>\n",
              "      <td>2011</td>\n",
              "      <td>ASEAN Workshops on Synchrotron Techniques</td>\n",
              "      <td>International</td>\n",
              "      <td>6</td>\n",
              "    </tr>\n",
              "    <tr>\n",
              "      <th>...</th>\n",
              "      <td>...</td>\n",
              "      <td>...</td>\n",
              "      <td>...</td>\n",
              "      <td>...</td>\n",
              "    </tr>\n",
              "    <tr>\n",
              "      <th>77</th>\n",
              "      <td>2015</td>\n",
              "      <td>Annual User Meeting (AUM)</td>\n",
              "      <td>Thai</td>\n",
              "      <td>123</td>\n",
              "    </tr>\n",
              "    <tr>\n",
              "      <th>78</th>\n",
              "      <td>2016</td>\n",
              "      <td>Annual User Meeting (AUM)</td>\n",
              "      <td>Thai</td>\n",
              "      <td>187</td>\n",
              "    </tr>\n",
              "    <tr>\n",
              "      <th>79</th>\n",
              "      <td>2017</td>\n",
              "      <td>Annual User Meeting (AUM)</td>\n",
              "      <td>Thai</td>\n",
              "      <td>87</td>\n",
              "    </tr>\n",
              "    <tr>\n",
              "      <th>80</th>\n",
              "      <td>2018</td>\n",
              "      <td>Annual User Meeting (AUM)</td>\n",
              "      <td>Thai</td>\n",
              "      <td>138</td>\n",
              "    </tr>\n",
              "    <tr>\n",
              "      <th>81</th>\n",
              "      <td>2019</td>\n",
              "      <td>Annual User Meeting (AUM)</td>\n",
              "      <td>Thai</td>\n",
              "      <td>130</td>\n",
              "    </tr>\n",
              "  </tbody>\n",
              "</table>\n",
              "<p>82 rows × 4 columns</p>\n",
              "</div>"
            ],
            "text/plain": [
              "    Fisical Year   ... paticipants\n",
              "0            2010  ...         128\n",
              "1            2010  ...           7\n",
              "2            2011  ...         148\n",
              "3            2011  ...           8\n",
              "4            2011  ...           6\n",
              "..            ...  ...         ...\n",
              "77           2015  ...         123\n",
              "78           2016  ...         187\n",
              "79           2017  ...          87\n",
              "80           2018  ...         138\n",
              "81           2019  ...         130\n",
              "\n",
              "[82 rows x 4 columns]"
            ]
          },
          "metadata": {},
          "execution_count": 6
        }
      ]
    },
    {
      "cell_type": "code",
      "metadata": {
        "id": "bUoGQdGsFcvn",
        "colab": {
          "base_uri": "https://localhost:8080/"
        },
        "outputId": "f315401a-381d-43d9-aa6e-7f222213e2cd"
      },
      "source": [
        "data.shape #ตรวจสอบว่ามีกี่หลักกี่เเถว"
      ],
      "execution_count": 38,
      "outputs": [
        {
          "output_type": "execute_result",
          "data": {
            "text/plain": [
              "(82, 4)"
            ]
          },
          "metadata": {},
          "execution_count": 38
        }
      ]
    },
    {
      "cell_type": "code",
      "metadata": {
        "id": "lpzrzvc_Hgll",
        "colab": {
          "base_uri": "https://localhost:8080/",
          "height": 416
        },
        "outputId": "7d1ceeb4-b294-45d5-f95e-3611aab37b5f"
      },
      "source": [
        "data.iloc[0:,[0,2,3]] #ลองชี้้ตารางข้อมูลที่เราต้องการ"
      ],
      "execution_count": 39,
      "outputs": [
        {
          "output_type": "execute_result",
          "data": {
            "text/html": [
              "<div>\n",
              "<style scoped>\n",
              "    .dataframe tbody tr th:only-of-type {\n",
              "        vertical-align: middle;\n",
              "    }\n",
              "\n",
              "    .dataframe tbody tr th {\n",
              "        vertical-align: top;\n",
              "    }\n",
              "\n",
              "    .dataframe thead th {\n",
              "        text-align: right;\n",
              "    }\n",
              "</style>\n",
              "<table border=\"1\" class=\"dataframe\">\n",
              "  <thead>\n",
              "    <tr style=\"text-align: right;\">\n",
              "      <th></th>\n",
              "      <th>Fisical Year</th>\n",
              "      <th>National paticipants</th>\n",
              "      <th>paticipants</th>\n",
              "    </tr>\n",
              "  </thead>\n",
              "  <tbody>\n",
              "    <tr>\n",
              "      <th>0</th>\n",
              "      <td>2010</td>\n",
              "      <td>Thai</td>\n",
              "      <td>128</td>\n",
              "    </tr>\n",
              "    <tr>\n",
              "      <th>1</th>\n",
              "      <td>2010</td>\n",
              "      <td>ASEN</td>\n",
              "      <td>7</td>\n",
              "    </tr>\n",
              "    <tr>\n",
              "      <th>2</th>\n",
              "      <td>2011</td>\n",
              "      <td>Thai</td>\n",
              "      <td>148</td>\n",
              "    </tr>\n",
              "    <tr>\n",
              "      <th>3</th>\n",
              "      <td>2011</td>\n",
              "      <td>ASEN</td>\n",
              "      <td>8</td>\n",
              "    </tr>\n",
              "    <tr>\n",
              "      <th>4</th>\n",
              "      <td>2011</td>\n",
              "      <td>International</td>\n",
              "      <td>6</td>\n",
              "    </tr>\n",
              "    <tr>\n",
              "      <th>...</th>\n",
              "      <td>...</td>\n",
              "      <td>...</td>\n",
              "      <td>...</td>\n",
              "    </tr>\n",
              "    <tr>\n",
              "      <th>77</th>\n",
              "      <td>2015</td>\n",
              "      <td>Thai</td>\n",
              "      <td>123</td>\n",
              "    </tr>\n",
              "    <tr>\n",
              "      <th>78</th>\n",
              "      <td>2016</td>\n",
              "      <td>Thai</td>\n",
              "      <td>187</td>\n",
              "    </tr>\n",
              "    <tr>\n",
              "      <th>79</th>\n",
              "      <td>2017</td>\n",
              "      <td>Thai</td>\n",
              "      <td>87</td>\n",
              "    </tr>\n",
              "    <tr>\n",
              "      <th>80</th>\n",
              "      <td>2018</td>\n",
              "      <td>Thai</td>\n",
              "      <td>138</td>\n",
              "    </tr>\n",
              "    <tr>\n",
              "      <th>81</th>\n",
              "      <td>2019</td>\n",
              "      <td>Thai</td>\n",
              "      <td>130</td>\n",
              "    </tr>\n",
              "  </tbody>\n",
              "</table>\n",
              "<p>82 rows × 3 columns</p>\n",
              "</div>"
            ],
            "text/plain": [
              "    Fisical Year  National paticipants  paticipants\n",
              "0            2010                 Thai          128\n",
              "1            2010                 ASEN            7\n",
              "2            2011                 Thai          148\n",
              "3            2011                 ASEN            8\n",
              "4            2011        International            6\n",
              "..            ...                  ...          ...\n",
              "77           2015                 Thai          123\n",
              "78           2016                 Thai          187\n",
              "79           2017                 Thai           87\n",
              "80           2018                 Thai          138\n",
              "81           2019                 Thai          130\n",
              "\n",
              "[82 rows x 3 columns]"
            ]
          },
          "metadata": {},
          "execution_count": 39
        }
      ]
    },
    {
      "cell_type": "code",
      "metadata": {
        "id": "a0j2ryeUHgiQ",
        "colab": {
          "base_uri": "https://localhost:8080/",
          "height": 295
        },
        "outputId": "25bb5c44-fce3-4561-8672-08106a30933c"
      },
      "source": [
        "data.describe() #เป็น method ของ Library ที่ชื่อ Pandas ใช้ในการสร้างสถิติเชิงบรรยายสถิติเชิงบรรยายที่ได้จะรวมถึงสถิติที่สรุปแนวโน้มศูนย์กลางการกระจายตัวและรูปร่างของการแจกแจงของชุดข้อมูลโดยจะไม่นับรวมค่า NaN หรือ missing data"
      ],
      "execution_count": 40,
      "outputs": [
        {
          "output_type": "execute_result",
          "data": {
            "text/html": [
              "<div>\n",
              "<style scoped>\n",
              "    .dataframe tbody tr th:only-of-type {\n",
              "        vertical-align: middle;\n",
              "    }\n",
              "\n",
              "    .dataframe tbody tr th {\n",
              "        vertical-align: top;\n",
              "    }\n",
              "\n",
              "    .dataframe thead th {\n",
              "        text-align: right;\n",
              "    }\n",
              "</style>\n",
              "<table border=\"1\" class=\"dataframe\">\n",
              "  <thead>\n",
              "    <tr style=\"text-align: right;\">\n",
              "      <th></th>\n",
              "      <th>Fisical Year</th>\n",
              "      <th>paticipants</th>\n",
              "    </tr>\n",
              "  </thead>\n",
              "  <tbody>\n",
              "    <tr>\n",
              "      <th>count</th>\n",
              "      <td>82.000000</td>\n",
              "      <td>82.000000</td>\n",
              "    </tr>\n",
              "    <tr>\n",
              "      <th>mean</th>\n",
              "      <td>2013.463415</td>\n",
              "      <td>130.451220</td>\n",
              "    </tr>\n",
              "    <tr>\n",
              "      <th>std</th>\n",
              "      <td>4.049676</td>\n",
              "      <td>194.623673</td>\n",
              "    </tr>\n",
              "    <tr>\n",
              "      <th>min</th>\n",
              "      <td>2004.000000</td>\n",
              "      <td>2.000000</td>\n",
              "    </tr>\n",
              "    <tr>\n",
              "      <th>25%</th>\n",
              "      <td>2011.000000</td>\n",
              "      <td>34.250000</td>\n",
              "    </tr>\n",
              "    <tr>\n",
              "      <th>50%</th>\n",
              "      <td>2014.000000</td>\n",
              "      <td>62.000000</td>\n",
              "    </tr>\n",
              "    <tr>\n",
              "      <th>75%</th>\n",
              "      <td>2017.000000</td>\n",
              "      <td>129.500000</td>\n",
              "    </tr>\n",
              "    <tr>\n",
              "      <th>max</th>\n",
              "      <td>2019.000000</td>\n",
              "      <td>963.000000</td>\n",
              "    </tr>\n",
              "  </tbody>\n",
              "</table>\n",
              "</div>"
            ],
            "text/plain": [
              "       Fisical Year   paticipants\n",
              "count      82.000000    82.000000\n",
              "mean     2013.463415   130.451220\n",
              "std         4.049676   194.623673\n",
              "min      2004.000000     2.000000\n",
              "25%      2011.000000    34.250000\n",
              "50%      2014.000000    62.000000\n",
              "75%      2017.000000   129.500000\n",
              "max      2019.000000   963.000000"
            ]
          },
          "metadata": {},
          "execution_count": 40
        }
      ]
    },
    {
      "cell_type": "code",
      "metadata": {
        "id": "PiCMwlPwHggM"
      },
      "source": [
        "from matplotlib import pyplot as plt"
      ],
      "execution_count": 10,
      "outputs": []
    },
    {
      "cell_type": "code",
      "metadata": {
        "id": "bxx02AewHgeb",
        "colab": {
          "base_uri": "https://localhost:8080/",
          "height": 400
        },
        "outputId": "dfda9672-c9e2-4163-c9fe-36f686de463f"
      },
      "source": [
        "plt.boxplot(data['paticipants'])"
      ],
      "execution_count": 11,
      "outputs": [
        {
          "output_type": "execute_result",
          "data": {
            "text/plain": [
              "{'boxes': [<matplotlib.lines.Line2D at 0x7f5fee84e410>],\n",
              " 'caps': [<matplotlib.lines.Line2D at 0x7f5fee85c590>,\n",
              "  <matplotlib.lines.Line2D at 0x7f5fee85cad0>],\n",
              " 'fliers': [<matplotlib.lines.Line2D at 0x7f5fee840710>],\n",
              " 'means': [],\n",
              " 'medians': [<matplotlib.lines.Line2D at 0x7f5fee863050>],\n",
              " 'whiskers': [<matplotlib.lines.Line2D at 0x7f5fee84eb10>,\n",
              "  <matplotlib.lines.Line2D at 0x7f5fee85c090>]}"
            ]
          },
          "metadata": {},
          "execution_count": 11
        },
        {
          "output_type": "display_data",
          "data": {
            "image/png": "[encoded data removed]",
            "text/plain": [
              "<Figure size 432x288 with 1 Axes>"
            ]
          },
          "metadata": {
            "needs_background": "light"
          }
        }
      ]
    },
    {
      "cell_type": "markdown",
      "metadata": {
        "id": "ARGTOpLVIhSu"
      },
      "source": [
        "### Missing Values\n"
      ]
    },
    {
      "cell_type": "code",
      "metadata": {
        "id": "_53pXhT_IhAI",
        "colab": {
          "base_uri": "https://localhost:8080/",
          "height": 416
        },
        "outputId": "f1ee4737-b64a-40c5-eaa4-de1cf0785a5e"
      },
      "source": [
        "data.isnull()"
      ],
      "execution_count": 12,
      "outputs": [
        {
          "output_type": "execute_result",
          "data": {
            "text/html": [
              "<div>\n",
              "<style scoped>\n",
              "    .dataframe tbody tr th:only-of-type {\n",
              "        vertical-align: middle;\n",
              "    }\n",
              "\n",
              "    .dataframe tbody tr th {\n",
              "        vertical-align: top;\n",
              "    }\n",
              "\n",
              "    .dataframe thead th {\n",
              "        text-align: right;\n",
              "    }\n",
              "</style>\n",
              "<table border=\"1\" class=\"dataframe\">\n",
              "  <thead>\n",
              "    <tr style=\"text-align: right;\">\n",
              "      <th></th>\n",
              "      <th>Fisical Year</th>\n",
              "      <th>Workshop Name</th>\n",
              "      <th>National paticipants</th>\n",
              "      <th>paticipants</th>\n",
              "    </tr>\n",
              "  </thead>\n",
              "  <tbody>\n",
              "    <tr>\n",
              "      <th>0</th>\n",
              "      <td>False</td>\n",
              "      <td>False</td>\n",
              "      <td>False</td>\n",
              "      <td>False</td>\n",
              "    </tr>\n",
              "    <tr>\n",
              "      <th>1</th>\n",
              "      <td>False</td>\n",
              "      <td>False</td>\n",
              "      <td>False</td>\n",
              "      <td>False</td>\n",
              "    </tr>\n",
              "    <tr>\n",
              "      <th>2</th>\n",
              "      <td>False</td>\n",
              "      <td>False</td>\n",
              "      <td>False</td>\n",
              "      <td>False</td>\n",
              "    </tr>\n",
              "    <tr>\n",
              "      <th>3</th>\n",
              "      <td>False</td>\n",
              "      <td>False</td>\n",
              "      <td>False</td>\n",
              "      <td>False</td>\n",
              "    </tr>\n",
              "    <tr>\n",
              "      <th>4</th>\n",
              "      <td>False</td>\n",
              "      <td>False</td>\n",
              "      <td>False</td>\n",
              "      <td>False</td>\n",
              "    </tr>\n",
              "    <tr>\n",
              "      <th>...</th>\n",
              "      <td>...</td>\n",
              "      <td>...</td>\n",
              "      <td>...</td>\n",
              "      <td>...</td>\n",
              "    </tr>\n",
              "    <tr>\n",
              "      <th>77</th>\n",
              "      <td>False</td>\n",
              "      <td>False</td>\n",
              "      <td>False</td>\n",
              "      <td>False</td>\n",
              "    </tr>\n",
              "    <tr>\n",
              "      <th>78</th>\n",
              "      <td>False</td>\n",
              "      <td>False</td>\n",
              "      <td>False</td>\n",
              "      <td>False</td>\n",
              "    </tr>\n",
              "    <tr>\n",
              "      <th>79</th>\n",
              "      <td>False</td>\n",
              "      <td>False</td>\n",
              "      <td>False</td>\n",
              "      <td>False</td>\n",
              "    </tr>\n",
              "    <tr>\n",
              "      <th>80</th>\n",
              "      <td>False</td>\n",
              "      <td>False</td>\n",
              "      <td>False</td>\n",
              "      <td>False</td>\n",
              "    </tr>\n",
              "    <tr>\n",
              "      <th>81</th>\n",
              "      <td>False</td>\n",
              "      <td>False</td>\n",
              "      <td>False</td>\n",
              "      <td>False</td>\n",
              "    </tr>\n",
              "  </tbody>\n",
              "</table>\n",
              "<p>82 rows × 4 columns</p>\n",
              "</div>"
            ],
            "text/plain": [
              "    Fisical Year   Workshop Name  National paticipants  paticipants\n",
              "0           False          False                 False        False\n",
              "1           False          False                 False        False\n",
              "2           False          False                 False        False\n",
              "3           False          False                 False        False\n",
              "4           False          False                 False        False\n",
              "..            ...            ...                   ...          ...\n",
              "77          False          False                 False        False\n",
              "78          False          False                 False        False\n",
              "79          False          False                 False        False\n",
              "80          False          False                 False        False\n",
              "81          False          False                 False        False\n",
              "\n",
              "[82 rows x 4 columns]"
            ]
          },
          "metadata": {},
          "execution_count": 12
        }
      ]
    },
    {
      "cell_type": "code",
      "metadata": {
        "id": "qcDRyF9rHgcZ",
        "colab": {
          "base_uri": "https://localhost:8080/"
        },
        "outputId": "22f3c019-15a1-416c-b618-4abad3db265e"
      },
      "source": [
        "data.isnull().any()"
      ],
      "execution_count": 13,
      "outputs": [
        {
          "output_type": "execute_result",
          "data": {
            "text/plain": [
              "Fisical Year            False\n",
              "Workshop Name           False\n",
              "National paticipants    False\n",
              "paticipants             False\n",
              "dtype: bool"
            ]
          },
          "metadata": {},
          "execution_count": 13
        }
      ]
    },
    {
      "cell_type": "markdown",
      "metadata": {
        "id": "FlIztUNZI31Q"
      },
      "source": [
        "พบว่าในข้อมูลไม่มี missing Values ข้อมูลเป็น False เเปลว่าถูกหมดเเล้ว ดังนั้นไม่ต้องทำ Hadling Missing Value"
      ]
    },
    {
      "cell_type": "code",
      "metadata": {
        "id": "daixhAL6JMhe",
        "colab": {
          "base_uri": "https://localhost:8080/",
          "height": 400
        },
        "outputId": "fb5e2cb5-8ef0-495b-93b3-e2fbbf5f97ed"
      },
      "source": [
        "###ลองทำ Hadling Missing Value\n",
        "plt.boxplot(data['paticipants'].dropna())"
      ],
      "execution_count": 14,
      "outputs": [
        {
          "output_type": "execute_result",
          "data": {
            "text/plain": [
              "{'boxes': [<matplotlib.lines.Line2D at 0x7f5fee32ead0>],\n",
              " 'caps': [<matplotlib.lines.Line2D at 0x7f5fee335b10>,\n",
              "  <matplotlib.lines.Line2D at 0x7f5fee33d090>],\n",
              " 'fliers': [<matplotlib.lines.Line2D at 0x7f5fee33db50>],\n",
              " 'means': [],\n",
              " 'medians': [<matplotlib.lines.Line2D at 0x7f5fee33d610>],\n",
              " 'whiskers': [<matplotlib.lines.Line2D at 0x7f5fee335090>,\n",
              "  <matplotlib.lines.Line2D at 0x7f5fee3355d0>]}"
            ]
          },
          "metadata": {},
          "execution_count": 14
        },
        {
          "output_type": "display_data",
          "data": {
            "image/png": "[encoded data removed]",
            "text/plain": [
              "<Figure size 432x288 with 1 Axes>"
            ]
          },
          "metadata": {
            "needs_background": "light"
          }
        }
      ]
    },
    {
      "cell_type": "code",
      "metadata": {
        "id": "iqvW-qgyJe17",
        "colab": {
          "base_uri": "https://localhost:8080/",
          "height": 416
        },
        "outputId": "e094b1ce-06fd-41a3-dc9f-d3854fa6d60c"
      },
      "source": [
        "data.dropna()"
      ],
      "execution_count": 15,
      "outputs": [
        {
          "output_type": "execute_result",
          "data": {
            "text/html": [
              "<div>\n",
              "<style scoped>\n",
              "    .dataframe tbody tr th:only-of-type {\n",
              "        vertical-align: middle;\n",
              "    }\n",
              "\n",
              "    .dataframe tbody tr th {\n",
              "        vertical-align: top;\n",
              "    }\n",
              "\n",
              "    .dataframe thead th {\n",
              "        text-align: right;\n",
              "    }\n",
              "</style>\n",
              "<table border=\"1\" class=\"dataframe\">\n",
              "  <thead>\n",
              "    <tr style=\"text-align: right;\">\n",
              "      <th></th>\n",
              "      <th>Fisical Year</th>\n",
              "      <th>Workshop Name</th>\n",
              "      <th>National paticipants</th>\n",
              "      <th>paticipants</th>\n",
              "    </tr>\n",
              "  </thead>\n",
              "  <tbody>\n",
              "    <tr>\n",
              "      <th>0</th>\n",
              "      <td>2010</td>\n",
              "      <td>ASEAN Workshops on Synchrotron Techniques</td>\n",
              "      <td>Thai</td>\n",
              "      <td>128</td>\n",
              "    </tr>\n",
              "    <tr>\n",
              "      <th>1</th>\n",
              "      <td>2010</td>\n",
              "      <td>ASEAN Workshops on Synchrotron Techniques</td>\n",
              "      <td>ASEN</td>\n",
              "      <td>7</td>\n",
              "    </tr>\n",
              "    <tr>\n",
              "      <th>2</th>\n",
              "      <td>2011</td>\n",
              "      <td>ASEAN Workshops on Synchrotron Techniques</td>\n",
              "      <td>Thai</td>\n",
              "      <td>148</td>\n",
              "    </tr>\n",
              "    <tr>\n",
              "      <th>3</th>\n",
              "      <td>2011</td>\n",
              "      <td>ASEAN Workshops on Synchrotron Techniques</td>\n",
              "      <td>ASEN</td>\n",
              "      <td>8</td>\n",
              "    </tr>\n",
              "    <tr>\n",
              "      <th>4</th>\n",
              "      <td>2011</td>\n",
              "      <td>ASEAN Workshops on Synchrotron Techniques</td>\n",
              "      <td>International</td>\n",
              "      <td>6</td>\n",
              "    </tr>\n",
              "    <tr>\n",
              "      <th>...</th>\n",
              "      <td>...</td>\n",
              "      <td>...</td>\n",
              "      <td>...</td>\n",
              "      <td>...</td>\n",
              "    </tr>\n",
              "    <tr>\n",
              "      <th>77</th>\n",
              "      <td>2015</td>\n",
              "      <td>Annual User Meeting (AUM)</td>\n",
              "      <td>Thai</td>\n",
              "      <td>123</td>\n",
              "    </tr>\n",
              "    <tr>\n",
              "      <th>78</th>\n",
              "      <td>2016</td>\n",
              "      <td>Annual User Meeting (AUM)</td>\n",
              "      <td>Thai</td>\n",
              "      <td>187</td>\n",
              "    </tr>\n",
              "    <tr>\n",
              "      <th>79</th>\n",
              "      <td>2017</td>\n",
              "      <td>Annual User Meeting (AUM)</td>\n",
              "      <td>Thai</td>\n",
              "      <td>87</td>\n",
              "    </tr>\n",
              "    <tr>\n",
              "      <th>80</th>\n",
              "      <td>2018</td>\n",
              "      <td>Annual User Meeting (AUM)</td>\n",
              "      <td>Thai</td>\n",
              "      <td>138</td>\n",
              "    </tr>\n",
              "    <tr>\n",
              "      <th>81</th>\n",
              "      <td>2019</td>\n",
              "      <td>Annual User Meeting (AUM)</td>\n",
              "      <td>Thai</td>\n",
              "      <td>130</td>\n",
              "    </tr>\n",
              "  </tbody>\n",
              "</table>\n",
              "<p>82 rows × 4 columns</p>\n",
              "</div>"
            ],
            "text/plain": [
              "    Fisical Year   ... paticipants\n",
              "0            2010  ...         128\n",
              "1            2010  ...           7\n",
              "2            2011  ...         148\n",
              "3            2011  ...           8\n",
              "4            2011  ...           6\n",
              "..            ...  ...         ...\n",
              "77           2015  ...         123\n",
              "78           2016  ...         187\n",
              "79           2017  ...          87\n",
              "80           2018  ...         138\n",
              "81           2019  ...         130\n",
              "\n",
              "[82 rows x 4 columns]"
            ]
          },
          "metadata": {},
          "execution_count": 15
        }
      ]
    },
    {
      "cell_type": "code",
      "metadata": {
        "id": "dM6wqDyFJey5",
        "colab": {
          "base_uri": "https://localhost:8080/"
        },
        "outputId": "0af77a21-b08d-48b1-f217-d1ac3d5e3e28"
      },
      "source": [
        "data.dropna().shape"
      ],
      "execution_count": 16,
      "outputs": [
        {
          "output_type": "execute_result",
          "data": {
            "text/plain": [
              "(82, 4)"
            ]
          },
          "metadata": {},
          "execution_count": 16
        }
      ]
    },
    {
      "cell_type": "code",
      "metadata": {
        "id": "DaE5kZBWJew6",
        "colab": {
          "base_uri": "https://localhost:8080/"
        },
        "outputId": "55a96884-9937-4e60-c5c8-dd5f70e544fb"
      },
      "source": [
        "data.dropna().shape[0]"
      ],
      "execution_count": 17,
      "outputs": [
        {
          "output_type": "execute_result",
          "data": {
            "text/plain": [
              "82"
            ]
          },
          "metadata": {},
          "execution_count": 17
        }
      ]
    },
    {
      "cell_type": "markdown",
      "metadata": {
        "id": "RaWdWF4DKKun"
      },
      "source": [
        "เเละเมื่อไม่ได้เเก้ missing เเล้ว พอทำ dropna() ข้อมูลจึงเท่าเดิมเพราะไม่มีค่า missing "
      ]
    },
    {
      "cell_type": "markdown",
      "metadata": {
        "id": "qk9szlRUJFwH"
      },
      "source": [
        "##data2"
      ]
    },
    {
      "cell_type": "code",
      "metadata": {
        "colab": {
          "base_uri": "https://localhost:8080/",
          "height": 416
        },
        "id": "Y7Xc3aX0UMWd",
        "outputId": "4eb47e5a-4fad-4cd3-9130-8b2d4776f2ab"
      },
      "source": [
        "data2 = pd.read_csv(os.path.join(path,'summary_beamtime-proposals-research-clusters.csv'))\n",
        "data2"
      ],
      "execution_count": 18,
      "outputs": [
        {
          "output_type": "execute_result",
          "data": {
            "text/html": [
              "<div>\n",
              "<style scoped>\n",
              "    .dataframe tbody tr th:only-of-type {\n",
              "        vertical-align: middle;\n",
              "    }\n",
              "\n",
              "    .dataframe tbody tr th {\n",
              "        vertical-align: top;\n",
              "    }\n",
              "\n",
              "    .dataframe thead th {\n",
              "        text-align: right;\n",
              "    }\n",
              "</style>\n",
              "<table border=\"1\" class=\"dataframe\">\n",
              "  <thead>\n",
              "    <tr style=\"text-align: right;\">\n",
              "      <th></th>\n",
              "      <th>Fiscal Year</th>\n",
              "      <th>Research Clusters</th>\n",
              "      <th>Beamline</th>\n",
              "      <th>Proposals</th>\n",
              "    </tr>\n",
              "  </thead>\n",
              "  <tbody>\n",
              "    <tr>\n",
              "      <th>0</th>\n",
              "      <td>2017</td>\n",
              "      <td>Materials Science and Engineering</td>\n",
              "      <td>BL1.1W MXT</td>\n",
              "      <td>17</td>\n",
              "    </tr>\n",
              "    <tr>\n",
              "      <th>1</th>\n",
              "      <td>2017</td>\n",
              "      <td>Chemistry</td>\n",
              "      <td>BL1.1W MXT</td>\n",
              "      <td>3</td>\n",
              "    </tr>\n",
              "    <tr>\n",
              "      <th>2</th>\n",
              "      <td>2017</td>\n",
              "      <td>Biological and Life Science</td>\n",
              "      <td>BL1.1W MXT</td>\n",
              "      <td>1</td>\n",
              "    </tr>\n",
              "    <tr>\n",
              "      <th>3</th>\n",
              "      <td>2017</td>\n",
              "      <td>Earth Science, Gemology and Archeology</td>\n",
              "      <td>BL1.1W MXT</td>\n",
              "      <td>9</td>\n",
              "    </tr>\n",
              "    <tr>\n",
              "      <th>4</th>\n",
              "      <td>2017</td>\n",
              "      <td>Environmental Science</td>\n",
              "      <td>BL1.1W MXT</td>\n",
              "      <td>1</td>\n",
              "    </tr>\n",
              "    <tr>\n",
              "      <th>...</th>\n",
              "      <td>...</td>\n",
              "      <td>...</td>\n",
              "      <td>...</td>\n",
              "      <td>...</td>\n",
              "    </tr>\n",
              "    <tr>\n",
              "      <th>333</th>\n",
              "      <td>2020</td>\n",
              "      <td>Environmental Science</td>\n",
              "      <td>BL8 XAS</td>\n",
              "      <td>3</td>\n",
              "    </tr>\n",
              "    <tr>\n",
              "      <th>334</th>\n",
              "      <td>2020</td>\n",
              "      <td>Polymers</td>\n",
              "      <td>BL8 XAS</td>\n",
              "      <td>4</td>\n",
              "    </tr>\n",
              "    <tr>\n",
              "      <th>335</th>\n",
              "      <td>2020</td>\n",
              "      <td>Surface, Interface and Thin Films</td>\n",
              "      <td>BL8 XAS</td>\n",
              "      <td>6</td>\n",
              "    </tr>\n",
              "    <tr>\n",
              "      <th>336</th>\n",
              "      <td>2020</td>\n",
              "      <td>Food and Agricutural Science</td>\n",
              "      <td>BL8 XAS</td>\n",
              "      <td>3</td>\n",
              "    </tr>\n",
              "    <tr>\n",
              "      <th>337</th>\n",
              "      <td>2020</td>\n",
              "      <td>Biological and Life Science</td>\n",
              "      <td>BL8 XAS</td>\n",
              "      <td>1</td>\n",
              "    </tr>\n",
              "  </tbody>\n",
              "</table>\n",
              "<p>338 rows × 4 columns</p>\n",
              "</div>"
            ],
            "text/plain": [
              "     Fiscal Year   ... Proposals\n",
              "0            2017  ...        17\n",
              "1            2017  ...         3\n",
              "2            2017  ...         1\n",
              "3            2017  ...         9\n",
              "4            2017  ...         1\n",
              "..            ...  ...       ...\n",
              "333          2020  ...         3\n",
              "334          2020  ...         4\n",
              "335          2020  ...         6\n",
              "336          2020  ...         3\n",
              "337          2020  ...         1\n",
              "\n",
              "[338 rows x 4 columns]"
            ]
          },
          "metadata": {},
          "execution_count": 18
        }
      ]
    },
    {
      "cell_type": "code",
      "metadata": {
        "id": "7PMaNsMSK4CX",
        "colab": {
          "base_uri": "https://localhost:8080/"
        },
        "outputId": "92558492-5088-4e74-a1e6-b7ae5d07cb66"
      },
      "source": [
        "data2.shape"
      ],
      "execution_count": 19,
      "outputs": [
        {
          "output_type": "execute_result",
          "data": {
            "text/plain": [
              "(338, 4)"
            ]
          },
          "metadata": {},
          "execution_count": 19
        }
      ]
    },
    {
      "cell_type": "code",
      "metadata": {
        "id": "ByJwiDkYK3-_",
        "colab": {
          "base_uri": "https://localhost:8080/",
          "height": 295
        },
        "outputId": "cedf71a2-112b-42ea-9e71-8826de0b8f40"
      },
      "source": [
        "data2.describe()"
      ],
      "execution_count": 20,
      "outputs": [
        {
          "output_type": "execute_result",
          "data": {
            "text/html": [
              "<div>\n",
              "<style scoped>\n",
              "    .dataframe tbody tr th:only-of-type {\n",
              "        vertical-align: middle;\n",
              "    }\n",
              "\n",
              "    .dataframe tbody tr th {\n",
              "        vertical-align: top;\n",
              "    }\n",
              "\n",
              "    .dataframe thead th {\n",
              "        text-align: right;\n",
              "    }\n",
              "</style>\n",
              "<table border=\"1\" class=\"dataframe\">\n",
              "  <thead>\n",
              "    <tr style=\"text-align: right;\">\n",
              "      <th></th>\n",
              "      <th>Fiscal Year</th>\n",
              "      <th>Proposals</th>\n",
              "    </tr>\n",
              "  </thead>\n",
              "  <tbody>\n",
              "    <tr>\n",
              "      <th>count</th>\n",
              "      <td>338.000000</td>\n",
              "      <td>338.000000</td>\n",
              "    </tr>\n",
              "    <tr>\n",
              "      <th>mean</th>\n",
              "      <td>2018.156805</td>\n",
              "      <td>6.588757</td>\n",
              "    </tr>\n",
              "    <tr>\n",
              "      <th>std</th>\n",
              "      <td>1.376670</td>\n",
              "      <td>8.317483</td>\n",
              "    </tr>\n",
              "    <tr>\n",
              "      <th>min</th>\n",
              "      <td>2016.000000</td>\n",
              "      <td>1.000000</td>\n",
              "    </tr>\n",
              "    <tr>\n",
              "      <th>25%</th>\n",
              "      <td>2017.000000</td>\n",
              "      <td>1.000000</td>\n",
              "    </tr>\n",
              "    <tr>\n",
              "      <th>50%</th>\n",
              "      <td>2018.000000</td>\n",
              "      <td>4.000000</td>\n",
              "    </tr>\n",
              "    <tr>\n",
              "      <th>75%</th>\n",
              "      <td>2019.000000</td>\n",
              "      <td>8.000000</td>\n",
              "    </tr>\n",
              "    <tr>\n",
              "      <th>max</th>\n",
              "      <td>2020.000000</td>\n",
              "      <td>63.000000</td>\n",
              "    </tr>\n",
              "  </tbody>\n",
              "</table>\n",
              "</div>"
            ],
            "text/plain": [
              "       Fiscal Year    Proposals\n",
              "count    338.000000  338.000000\n",
              "mean    2018.156805    6.588757\n",
              "std        1.376670    8.317483\n",
              "min     2016.000000    1.000000\n",
              "25%     2017.000000    1.000000\n",
              "50%     2018.000000    4.000000\n",
              "75%     2019.000000    8.000000\n",
              "max     2020.000000   63.000000"
            ]
          },
          "metadata": {},
          "execution_count": 20
        }
      ]
    },
    {
      "cell_type": "code",
      "metadata": {
        "id": "UQGX4sIBK303"
      },
      "source": [
        "from matplotlib import pyplot as plt"
      ],
      "execution_count": 21,
      "outputs": []
    },
    {
      "cell_type": "code",
      "metadata": {
        "id": "xOk0H-MpK3xi",
        "colab": {
          "base_uri": "https://localhost:8080/",
          "height": 399
        },
        "outputId": "8b5a7121-6352-4f7e-8aba-7b3898e3458f"
      },
      "source": [
        "plt.boxplot(data2['Proposals'])"
      ],
      "execution_count": 22,
      "outputs": [
        {
          "output_type": "execute_result",
          "data": {
            "text/plain": [
              "{'boxes': [<matplotlib.lines.Line2D at 0x7f5fed81dfd0>],\n",
              " 'caps': [<matplotlib.lines.Line2D at 0x7f5fed82d050>,\n",
              "  <matplotlib.lines.Line2D at 0x7f5fed82d590>],\n",
              " 'fliers': [<matplotlib.lines.Line2D at 0x7f5fed833090>],\n",
              " 'means': [],\n",
              " 'medians': [<matplotlib.lines.Line2D at 0x7f5fed82db10>],\n",
              " 'whiskers': [<matplotlib.lines.Line2D at 0x7f5fed827590>,\n",
              "  <matplotlib.lines.Line2D at 0x7f5fed827ad0>]}"
            ]
          },
          "metadata": {},
          "execution_count": 22
        },
        {
          "output_type": "display_data",
          "data": {
            "image/png": "[encoded data removed]",
            "text/plain": [
              "<Figure size 432x288 with 1 Axes>"
            ]
          },
          "metadata": {
            "needs_background": "light"
          }
        }
      ]
    },
    {
      "cell_type": "markdown",
      "metadata": {
        "id": "ryqGLDMOLiju"
      },
      "source": [
        "ตรวจสอบ missing data2"
      ]
    },
    {
      "cell_type": "code",
      "metadata": {
        "id": "nRPg5XoULiEL",
        "colab": {
          "base_uri": "https://localhost:8080/",
          "height": 416
        },
        "outputId": "81910a61-17d5-4e1d-bda4-605eccc8010f"
      },
      "source": [
        "data2.isnull()"
      ],
      "execution_count": 23,
      "outputs": [
        {
          "output_type": "execute_result",
          "data": {
            "text/html": [
              "<div>\n",
              "<style scoped>\n",
              "    .dataframe tbody tr th:only-of-type {\n",
              "        vertical-align: middle;\n",
              "    }\n",
              "\n",
              "    .dataframe tbody tr th {\n",
              "        vertical-align: top;\n",
              "    }\n",
              "\n",
              "    .dataframe thead th {\n",
              "        text-align: right;\n",
              "    }\n",
              "</style>\n",
              "<table border=\"1\" class=\"dataframe\">\n",
              "  <thead>\n",
              "    <tr style=\"text-align: right;\">\n",
              "      <th></th>\n",
              "      <th>Fiscal Year</th>\n",
              "      <th>Research Clusters</th>\n",
              "      <th>Beamline</th>\n",
              "      <th>Proposals</th>\n",
              "    </tr>\n",
              "  </thead>\n",
              "  <tbody>\n",
              "    <tr>\n",
              "      <th>0</th>\n",
              "      <td>False</td>\n",
              "      <td>False</td>\n",
              "      <td>False</td>\n",
              "      <td>False</td>\n",
              "    </tr>\n",
              "    <tr>\n",
              "      <th>1</th>\n",
              "      <td>False</td>\n",
              "      <td>False</td>\n",
              "      <td>False</td>\n",
              "      <td>False</td>\n",
              "    </tr>\n",
              "    <tr>\n",
              "      <th>2</th>\n",
              "      <td>False</td>\n",
              "      <td>False</td>\n",
              "      <td>False</td>\n",
              "      <td>False</td>\n",
              "    </tr>\n",
              "    <tr>\n",
              "      <th>3</th>\n",
              "      <td>False</td>\n",
              "      <td>False</td>\n",
              "      <td>False</td>\n",
              "      <td>False</td>\n",
              "    </tr>\n",
              "    <tr>\n",
              "      <th>4</th>\n",
              "      <td>False</td>\n",
              "      <td>False</td>\n",
              "      <td>False</td>\n",
              "      <td>False</td>\n",
              "    </tr>\n",
              "    <tr>\n",
              "      <th>...</th>\n",
              "      <td>...</td>\n",
              "      <td>...</td>\n",
              "      <td>...</td>\n",
              "      <td>...</td>\n",
              "    </tr>\n",
              "    <tr>\n",
              "      <th>333</th>\n",
              "      <td>False</td>\n",
              "      <td>False</td>\n",
              "      <td>False</td>\n",
              "      <td>False</td>\n",
              "    </tr>\n",
              "    <tr>\n",
              "      <th>334</th>\n",
              "      <td>False</td>\n",
              "      <td>False</td>\n",
              "      <td>False</td>\n",
              "      <td>False</td>\n",
              "    </tr>\n",
              "    <tr>\n",
              "      <th>335</th>\n",
              "      <td>False</td>\n",
              "      <td>False</td>\n",
              "      <td>False</td>\n",
              "      <td>False</td>\n",
              "    </tr>\n",
              "    <tr>\n",
              "      <th>336</th>\n",
              "      <td>False</td>\n",
              "      <td>False</td>\n",
              "      <td>False</td>\n",
              "      <td>False</td>\n",
              "    </tr>\n",
              "    <tr>\n",
              "      <th>337</th>\n",
              "      <td>False</td>\n",
              "      <td>False</td>\n",
              "      <td>False</td>\n",
              "      <td>False</td>\n",
              "    </tr>\n",
              "  </tbody>\n",
              "</table>\n",
              "<p>338 rows × 4 columns</p>\n",
              "</div>"
            ],
            "text/plain": [
              "     Fiscal Year   Research Clusters  Beamline  Proposals\n",
              "0           False              False     False      False\n",
              "1           False              False     False      False\n",
              "2           False              False     False      False\n",
              "3           False              False     False      False\n",
              "4           False              False     False      False\n",
              "..            ...                ...       ...        ...\n",
              "333         False              False     False      False\n",
              "334         False              False     False      False\n",
              "335         False              False     False      False\n",
              "336         False              False     False      False\n",
              "337         False              False     False      False\n",
              "\n",
              "[338 rows x 4 columns]"
            ]
          },
          "metadata": {},
          "execution_count": 23
        }
      ]
    },
    {
      "cell_type": "code",
      "metadata": {
        "id": "WdFfVG15K3vk",
        "colab": {
          "base_uri": "https://localhost:8080/"
        },
        "outputId": "233cc16e-2572-4fc2-ae27-d97b4231d496"
      },
      "source": [
        "data2.isnull().any()"
      ],
      "execution_count": 24,
      "outputs": [
        {
          "output_type": "execute_result",
          "data": {
            "text/plain": [
              "Fiscal Year          False\n",
              "Research Clusters    False\n",
              "Beamline             False\n",
              "Proposals            False\n",
              "dtype: bool"
            ]
          },
          "metadata": {},
          "execution_count": 24
        }
      ]
    },
    {
      "cell_type": "markdown",
      "metadata": {
        "id": "BiF2wfIcL2e9"
      },
      "source": [
        "data2 ไม่มี missing เหมือนกัน"
      ]
    },
    {
      "cell_type": "code",
      "metadata": {
        "id": "60Znao-0K3tZ",
        "colab": {
          "base_uri": "https://localhost:8080/",
          "height": 399
        },
        "outputId": "5aff1e9c-2dc3-4ff8-a584-581e3db59a69"
      },
      "source": [
        "###ลองทำ Hadling Missing Value\n",
        "plt.boxplot(data2['Proposals'].dropna())"
      ],
      "execution_count": 25,
      "outputs": [
        {
          "output_type": "execute_result",
          "data": {
            "text/plain": [
              "{'boxes': [<matplotlib.lines.Line2D at 0x7f5fed79bd50>],\n",
              " 'caps': [<matplotlib.lines.Line2D at 0x7f5fed79fd90>,\n",
              "  <matplotlib.lines.Line2D at 0x7f5fed7a7310>],\n",
              " 'fliers': [<matplotlib.lines.Line2D at 0x7f5fed7a7dd0>],\n",
              " 'means': [],\n",
              " 'medians': [<matplotlib.lines.Line2D at 0x7f5fed7a7890>],\n",
              " 'whiskers': [<matplotlib.lines.Line2D at 0x7f5fed79f310>,\n",
              "  <matplotlib.lines.Line2D at 0x7f5fed79f850>]}"
            ]
          },
          "metadata": {},
          "execution_count": 25
        },
        {
          "output_type": "display_data",
          "data": {
            "image/png": "[encoded data removed]",
            "text/plain": [
              "<Figure size 432x288 with 1 Axes>"
            ]
          },
          "metadata": {
            "needs_background": "light"
          }
        }
      ]
    },
    {
      "cell_type": "code",
      "metadata": {
        "id": "zHW172CcMId1",
        "colab": {
          "base_uri": "https://localhost:8080/",
          "height": 416
        },
        "outputId": "0ae901bd-0da6-4840-ea64-b3f5ef40a2a5"
      },
      "source": [
        "data2.dropna()"
      ],
      "execution_count": 26,
      "outputs": [
        {
          "output_type": "execute_result",
          "data": {
            "text/html": [
              "<div>\n",
              "<style scoped>\n",
              "    .dataframe tbody tr th:only-of-type {\n",
              "        vertical-align: middle;\n",
              "    }\n",
              "\n",
              "    .dataframe tbody tr th {\n",
              "        vertical-align: top;\n",
              "    }\n",
              "\n",
              "    .dataframe thead th {\n",
              "        text-align: right;\n",
              "    }\n",
              "</style>\n",
              "<table border=\"1\" class=\"dataframe\">\n",
              "  <thead>\n",
              "    <tr style=\"text-align: right;\">\n",
              "      <th></th>\n",
              "      <th>Fiscal Year</th>\n",
              "      <th>Research Clusters</th>\n",
              "      <th>Beamline</th>\n",
              "      <th>Proposals</th>\n",
              "    </tr>\n",
              "  </thead>\n",
              "  <tbody>\n",
              "    <tr>\n",
              "      <th>0</th>\n",
              "      <td>2017</td>\n",
              "      <td>Materials Science and Engineering</td>\n",
              "      <td>BL1.1W MXT</td>\n",
              "      <td>17</td>\n",
              "    </tr>\n",
              "    <tr>\n",
              "      <th>1</th>\n",
              "      <td>2017</td>\n",
              "      <td>Chemistry</td>\n",
              "      <td>BL1.1W MXT</td>\n",
              "      <td>3</td>\n",
              "    </tr>\n",
              "    <tr>\n",
              "      <th>2</th>\n",
              "      <td>2017</td>\n",
              "      <td>Biological and Life Science</td>\n",
              "      <td>BL1.1W MXT</td>\n",
              "      <td>1</td>\n",
              "    </tr>\n",
              "    <tr>\n",
              "      <th>3</th>\n",
              "      <td>2017</td>\n",
              "      <td>Earth Science, Gemology and Archeology</td>\n",
              "      <td>BL1.1W MXT</td>\n",
              "      <td>9</td>\n",
              "    </tr>\n",
              "    <tr>\n",
              "      <th>4</th>\n",
              "      <td>2017</td>\n",
              "      <td>Environmental Science</td>\n",
              "      <td>BL1.1W MXT</td>\n",
              "      <td>1</td>\n",
              "    </tr>\n",
              "    <tr>\n",
              "      <th>...</th>\n",
              "      <td>...</td>\n",
              "      <td>...</td>\n",
              "      <td>...</td>\n",
              "      <td>...</td>\n",
              "    </tr>\n",
              "    <tr>\n",
              "      <th>333</th>\n",
              "      <td>2020</td>\n",
              "      <td>Environmental Science</td>\n",
              "      <td>BL8 XAS</td>\n",
              "      <td>3</td>\n",
              "    </tr>\n",
              "    <tr>\n",
              "      <th>334</th>\n",
              "      <td>2020</td>\n",
              "      <td>Polymers</td>\n",
              "      <td>BL8 XAS</td>\n",
              "      <td>4</td>\n",
              "    </tr>\n",
              "    <tr>\n",
              "      <th>335</th>\n",
              "      <td>2020</td>\n",
              "      <td>Surface, Interface and Thin Films</td>\n",
              "      <td>BL8 XAS</td>\n",
              "      <td>6</td>\n",
              "    </tr>\n",
              "    <tr>\n",
              "      <th>336</th>\n",
              "      <td>2020</td>\n",
              "      <td>Food and Agricutural Science</td>\n",
              "      <td>BL8 XAS</td>\n",
              "      <td>3</td>\n",
              "    </tr>\n",
              "    <tr>\n",
              "      <th>337</th>\n",
              "      <td>2020</td>\n",
              "      <td>Biological and Life Science</td>\n",
              "      <td>BL8 XAS</td>\n",
              "      <td>1</td>\n",
              "    </tr>\n",
              "  </tbody>\n",
              "</table>\n",
              "<p>338 rows × 4 columns</p>\n",
              "</div>"
            ],
            "text/plain": [
              "     Fiscal Year   ... Proposals\n",
              "0            2017  ...        17\n",
              "1            2017  ...         3\n",
              "2            2017  ...         1\n",
              "3            2017  ...         9\n",
              "4            2017  ...         1\n",
              "..            ...  ...       ...\n",
              "333          2020  ...         3\n",
              "334          2020  ...         4\n",
              "335          2020  ...         6\n",
              "336          2020  ...         3\n",
              "337          2020  ...         1\n",
              "\n",
              "[338 rows x 4 columns]"
            ]
          },
          "metadata": {},
          "execution_count": 26
        }
      ]
    },
    {
      "cell_type": "code",
      "metadata": {
        "id": "S57LB92rMRL-",
        "colab": {
          "base_uri": "https://localhost:8080/"
        },
        "outputId": "95f37de0-7b05-48c3-b3f3-26c4cdc09419"
      },
      "source": [
        "data2.dropna().shape"
      ],
      "execution_count": 27,
      "outputs": [
        {
          "output_type": "execute_result",
          "data": {
            "text/plain": [
              "(338, 4)"
            ]
          },
          "metadata": {},
          "execution_count": 27
        }
      ]
    },
    {
      "cell_type": "markdown",
      "metadata": {
        "id": "naBjzWNKMdfr"
      },
      "source": [
        "เเละเมื่อไม่ได้เเก้ missing เเล้ว พอทำ dropna() ข้อมูลจึงเท่าเดิมเพราะไม่มีค่า missing"
      ]
    },
    {
      "cell_type": "markdown",
      "metadata": {
        "id": "5RUr4GiiJI82"
      },
      "source": [
        "##data3"
      ]
    },
    {
      "cell_type": "code",
      "metadata": {
        "colab": {
          "base_uri": "https://localhost:8080/",
          "height": 416
        },
        "id": "afTI0YX_UVLV",
        "outputId": "41006dca-0aa3-42da-d95a-04b86b0d75de"
      },
      "source": [
        "data3 =  pd.read_csv(os.path.join(path,'summary_research_publications.csv'))\n",
        "data3"
      ],
      "execution_count": 28,
      "outputs": [
        {
          "output_type": "execute_result",
          "data": {
            "text/html": [
              "<div>\n",
              "<style scoped>\n",
              "    .dataframe tbody tr th:only-of-type {\n",
              "        vertical-align: middle;\n",
              "    }\n",
              "\n",
              "    .dataframe tbody tr th {\n",
              "        vertical-align: top;\n",
              "    }\n",
              "\n",
              "    .dataframe thead th {\n",
              "        text-align: right;\n",
              "    }\n",
              "</style>\n",
              "<table border=\"1\" class=\"dataframe\">\n",
              "  <thead>\n",
              "    <tr style=\"text-align: right;\">\n",
              "      <th></th>\n",
              "      <th>Fiscal Year</th>\n",
              "      <th>Research Clusters</th>\n",
              "      <th>Beamline</th>\n",
              "      <th>Publications</th>\n",
              "    </tr>\n",
              "  </thead>\n",
              "  <tbody>\n",
              "    <tr>\n",
              "      <th>0</th>\n",
              "      <td>2017</td>\n",
              "      <td>Materials Science and Engineering</td>\n",
              "      <td>BL1.1W MXT</td>\n",
              "      <td>1</td>\n",
              "    </tr>\n",
              "    <tr>\n",
              "      <th>1</th>\n",
              "      <td>2017</td>\n",
              "      <td>Chemistry</td>\n",
              "      <td>BL1.1W MXT</td>\n",
              "      <td>1</td>\n",
              "    </tr>\n",
              "    <tr>\n",
              "      <th>2</th>\n",
              "      <td>2018</td>\n",
              "      <td>Materials Science and Engineering</td>\n",
              "      <td>BL1.1W MXT</td>\n",
              "      <td>4</td>\n",
              "    </tr>\n",
              "    <tr>\n",
              "      <th>3</th>\n",
              "      <td>2018</td>\n",
              "      <td>Food and Agricutural Science</td>\n",
              "      <td>BL1.1W MXT</td>\n",
              "      <td>1</td>\n",
              "    </tr>\n",
              "    <tr>\n",
              "      <th>4</th>\n",
              "      <td>2019</td>\n",
              "      <td>Materials Science and Engineering</td>\n",
              "      <td>BL1.1W MXT</td>\n",
              "      <td>9</td>\n",
              "    </tr>\n",
              "    <tr>\n",
              "      <th>...</th>\n",
              "      <td>...</td>\n",
              "      <td>...</td>\n",
              "      <td>...</td>\n",
              "      <td>...</td>\n",
              "    </tr>\n",
              "    <tr>\n",
              "      <th>191</th>\n",
              "      <td>2020</td>\n",
              "      <td>Materials Science and Engineering</td>\n",
              "      <td>BL8 XAS</td>\n",
              "      <td>18</td>\n",
              "    </tr>\n",
              "    <tr>\n",
              "      <th>192</th>\n",
              "      <td>2020</td>\n",
              "      <td>Chemistry</td>\n",
              "      <td>BL8 XAS</td>\n",
              "      <td>5</td>\n",
              "    </tr>\n",
              "    <tr>\n",
              "      <th>193</th>\n",
              "      <td>2020</td>\n",
              "      <td>Environmental Science</td>\n",
              "      <td>BL8 XAS</td>\n",
              "      <td>4</td>\n",
              "    </tr>\n",
              "    <tr>\n",
              "      <th>194</th>\n",
              "      <td>2020</td>\n",
              "      <td>Earth Science, Gemology and Archeology</td>\n",
              "      <td>BL8 XAS</td>\n",
              "      <td>6</td>\n",
              "    </tr>\n",
              "    <tr>\n",
              "      <th>195</th>\n",
              "      <td>2020</td>\n",
              "      <td>Surface, Interface and Thin films</td>\n",
              "      <td>BL8 XAS</td>\n",
              "      <td>3</td>\n",
              "    </tr>\n",
              "  </tbody>\n",
              "</table>\n",
              "<p>196 rows × 4 columns</p>\n",
              "</div>"
            ],
            "text/plain": [
              "     Fiscal Year   ... Publications\n",
              "0            2017  ...            1\n",
              "1            2017  ...            1\n",
              "2            2018  ...            4\n",
              "3            2018  ...            1\n",
              "4            2019  ...            9\n",
              "..            ...  ...          ...\n",
              "191          2020  ...           18\n",
              "192          2020  ...            5\n",
              "193          2020  ...            4\n",
              "194          2020  ...            6\n",
              "195          2020  ...            3\n",
              "\n",
              "[196 rows x 4 columns]"
            ]
          },
          "metadata": {},
          "execution_count": 28
        }
      ]
    },
    {
      "cell_type": "code",
      "metadata": {
        "id": "wfVP5v4dUogV",
        "colab": {
          "base_uri": "https://localhost:8080/"
        },
        "outputId": "766eadd5-8e3c-403d-f785-72b7bd28a48e"
      },
      "source": [
        "data3.shape"
      ],
      "execution_count": 29,
      "outputs": [
        {
          "output_type": "execute_result",
          "data": {
            "text/plain": [
              "(196, 4)"
            ]
          },
          "metadata": {},
          "execution_count": 29
        }
      ]
    },
    {
      "cell_type": "code",
      "metadata": {
        "id": "mIe-kA3DMhrl",
        "colab": {
          "base_uri": "https://localhost:8080/",
          "height": 295
        },
        "outputId": "ec74bbbf-401a-4a40-c53e-d436c0ced5b5"
      },
      "source": [
        "data3.describe()"
      ],
      "execution_count": 30,
      "outputs": [
        {
          "output_type": "execute_result",
          "data": {
            "text/html": [
              "<div>\n",
              "<style scoped>\n",
              "    .dataframe tbody tr th:only-of-type {\n",
              "        vertical-align: middle;\n",
              "    }\n",
              "\n",
              "    .dataframe tbody tr th {\n",
              "        vertical-align: top;\n",
              "    }\n",
              "\n",
              "    .dataframe thead th {\n",
              "        text-align: right;\n",
              "    }\n",
              "</style>\n",
              "<table border=\"1\" class=\"dataframe\">\n",
              "  <thead>\n",
              "    <tr style=\"text-align: right;\">\n",
              "      <th></th>\n",
              "      <th>Fiscal Year</th>\n",
              "      <th>Publications</th>\n",
              "    </tr>\n",
              "  </thead>\n",
              "  <tbody>\n",
              "    <tr>\n",
              "      <th>count</th>\n",
              "      <td>196.000000</td>\n",
              "      <td>196.000000</td>\n",
              "    </tr>\n",
              "    <tr>\n",
              "      <th>mean</th>\n",
              "      <td>2018.260204</td>\n",
              "      <td>4.494898</td>\n",
              "    </tr>\n",
              "    <tr>\n",
              "      <th>std</th>\n",
              "      <td>1.431746</td>\n",
              "      <td>6.128954</td>\n",
              "    </tr>\n",
              "    <tr>\n",
              "      <th>min</th>\n",
              "      <td>2016.000000</td>\n",
              "      <td>1.000000</td>\n",
              "    </tr>\n",
              "    <tr>\n",
              "      <th>25%</th>\n",
              "      <td>2017.000000</td>\n",
              "      <td>1.000000</td>\n",
              "    </tr>\n",
              "    <tr>\n",
              "      <th>50%</th>\n",
              "      <td>2018.000000</td>\n",
              "      <td>2.000000</td>\n",
              "    </tr>\n",
              "    <tr>\n",
              "      <th>75%</th>\n",
              "      <td>2020.000000</td>\n",
              "      <td>6.000000</td>\n",
              "    </tr>\n",
              "    <tr>\n",
              "      <th>max</th>\n",
              "      <td>2020.000000</td>\n",
              "      <td>37.000000</td>\n",
              "    </tr>\n",
              "  </tbody>\n",
              "</table>\n",
              "</div>"
            ],
            "text/plain": [
              "       Fiscal Year   Publications\n",
              "count    196.000000    196.000000\n",
              "mean    2018.260204      4.494898\n",
              "std        1.431746      6.128954\n",
              "min     2016.000000      1.000000\n",
              "25%     2017.000000      1.000000\n",
              "50%     2018.000000      2.000000\n",
              "75%     2020.000000      6.000000\n",
              "max     2020.000000     37.000000"
            ]
          },
          "metadata": {},
          "execution_count": 30
        }
      ]
    },
    {
      "cell_type": "code",
      "metadata": {
        "id": "HMDJTcVGMjr5"
      },
      "source": [
        "from matplotlib import pyplot as plt"
      ],
      "execution_count": 31,
      "outputs": []
    },
    {
      "cell_type": "code",
      "metadata": {
        "id": "Evf62pxhMnlz",
        "colab": {
          "base_uri": "https://localhost:8080/",
          "height": 399
        },
        "outputId": "549cfae7-b1fb-46dd-d742-531e33fbbbf3"
      },
      "source": [
        "plt.boxplot(data3['Publications'])"
      ],
      "execution_count": 32,
      "outputs": [
        {
          "output_type": "execute_result",
          "data": {
            "text/plain": [
              "{'boxes': [<matplotlib.lines.Line2D at 0x7f5fed71a410>],\n",
              " 'caps': [<matplotlib.lines.Line2D at 0x7f5fed720450>,\n",
              "  <matplotlib.lines.Line2D at 0x7f5fed720990>],\n",
              " 'fliers': [<matplotlib.lines.Line2D at 0x7f5fed728490>],\n",
              " 'means': [],\n",
              " 'medians': [<matplotlib.lines.Line2D at 0x7f5fed720f10>],\n",
              " 'whiskers': [<matplotlib.lines.Line2D at 0x7f5fed71a990>,\n",
              "  <matplotlib.lines.Line2D at 0x7f5fed71aed0>]}"
            ]
          },
          "metadata": {},
          "execution_count": 32
        },
        {
          "output_type": "display_data",
          "data": {
            "image/png": "[encoded data removed]",
            "text/plain": [
              "<Figure size 432x288 with 1 Axes>"
            ]
          },
          "metadata": {
            "needs_background": "light"
          }
        }
      ]
    },
    {
      "cell_type": "markdown",
      "metadata": {
        "id": "EtsmEiebM3zd"
      },
      "source": [
        "ตรวจสอบdata3 missing "
      ]
    },
    {
      "cell_type": "code",
      "metadata": {
        "id": "nnv9qmxPMyxp",
        "colab": {
          "base_uri": "https://localhost:8080/",
          "height": 416
        },
        "outputId": "d64ebd39-8163-469e-eb1a-54a4807ff54a"
      },
      "source": [
        "data3.isnull()"
      ],
      "execution_count": 33,
      "outputs": [
        {
          "output_type": "execute_result",
          "data": {
            "text/html": [
              "<div>\n",
              "<style scoped>\n",
              "    .dataframe tbody tr th:only-of-type {\n",
              "        vertical-align: middle;\n",
              "    }\n",
              "\n",
              "    .dataframe tbody tr th {\n",
              "        vertical-align: top;\n",
              "    }\n",
              "\n",
              "    .dataframe thead th {\n",
              "        text-align: right;\n",
              "    }\n",
              "</style>\n",
              "<table border=\"1\" class=\"dataframe\">\n",
              "  <thead>\n",
              "    <tr style=\"text-align: right;\">\n",
              "      <th></th>\n",
              "      <th>Fiscal Year</th>\n",
              "      <th>Research Clusters</th>\n",
              "      <th>Beamline</th>\n",
              "      <th>Publications</th>\n",
              "    </tr>\n",
              "  </thead>\n",
              "  <tbody>\n",
              "    <tr>\n",
              "      <th>0</th>\n",
              "      <td>False</td>\n",
              "      <td>False</td>\n",
              "      <td>False</td>\n",
              "      <td>False</td>\n",
              "    </tr>\n",
              "    <tr>\n",
              "      <th>1</th>\n",
              "      <td>False</td>\n",
              "      <td>False</td>\n",
              "      <td>False</td>\n",
              "      <td>False</td>\n",
              "    </tr>\n",
              "    <tr>\n",
              "      <th>2</th>\n",
              "      <td>False</td>\n",
              "      <td>False</td>\n",
              "      <td>False</td>\n",
              "      <td>False</td>\n",
              "    </tr>\n",
              "    <tr>\n",
              "      <th>3</th>\n",
              "      <td>False</td>\n",
              "      <td>False</td>\n",
              "      <td>False</td>\n",
              "      <td>False</td>\n",
              "    </tr>\n",
              "    <tr>\n",
              "      <th>4</th>\n",
              "      <td>False</td>\n",
              "      <td>False</td>\n",
              "      <td>False</td>\n",
              "      <td>False</td>\n",
              "    </tr>\n",
              "    <tr>\n",
              "      <th>...</th>\n",
              "      <td>...</td>\n",
              "      <td>...</td>\n",
              "      <td>...</td>\n",
              "      <td>...</td>\n",
              "    </tr>\n",
              "    <tr>\n",
              "      <th>191</th>\n",
              "      <td>False</td>\n",
              "      <td>False</td>\n",
              "      <td>False</td>\n",
              "      <td>False</td>\n",
              "    </tr>\n",
              "    <tr>\n",
              "      <th>192</th>\n",
              "      <td>False</td>\n",
              "      <td>False</td>\n",
              "      <td>False</td>\n",
              "      <td>False</td>\n",
              "    </tr>\n",
              "    <tr>\n",
              "      <th>193</th>\n",
              "      <td>False</td>\n",
              "      <td>False</td>\n",
              "      <td>False</td>\n",
              "      <td>False</td>\n",
              "    </tr>\n",
              "    <tr>\n",
              "      <th>194</th>\n",
              "      <td>False</td>\n",
              "      <td>False</td>\n",
              "      <td>False</td>\n",
              "      <td>False</td>\n",
              "    </tr>\n",
              "    <tr>\n",
              "      <th>195</th>\n",
              "      <td>False</td>\n",
              "      <td>False</td>\n",
              "      <td>False</td>\n",
              "      <td>False</td>\n",
              "    </tr>\n",
              "  </tbody>\n",
              "</table>\n",
              "<p>196 rows × 4 columns</p>\n",
              "</div>"
            ],
            "text/plain": [
              "     Fiscal Year   Research Clusters  Beamline  Publications\n",
              "0           False              False     False         False\n",
              "1           False              False     False         False\n",
              "2           False              False     False         False\n",
              "3           False              False     False         False\n",
              "4           False              False     False         False\n",
              "..            ...                ...       ...           ...\n",
              "191         False              False     False         False\n",
              "192         False              False     False         False\n",
              "193         False              False     False         False\n",
              "194         False              False     False         False\n",
              "195         False              False     False         False\n",
              "\n",
              "[196 rows x 4 columns]"
            ]
          },
          "metadata": {},
          "execution_count": 33
        }
      ]
    },
    {
      "cell_type": "code",
      "metadata": {
        "id": "afZNB1YpM_C1",
        "colab": {
          "base_uri": "https://localhost:8080/"
        },
        "outputId": "4c768b1f-a387-494f-e6e3-0082a01e7a48"
      },
      "source": [
        "data3.isnull().any()"
      ],
      "execution_count": 34,
      "outputs": [
        {
          "output_type": "execute_result",
          "data": {
            "text/plain": [
              "Fiscal Year          False\n",
              "Research Clusters    False\n",
              "Beamline             False\n",
              "Publications         False\n",
              "dtype: bool"
            ]
          },
          "metadata": {},
          "execution_count": 34
        }
      ]
    },
    {
      "cell_type": "markdown",
      "metadata": {
        "id": "rBSyefbxNI3A"
      },
      "source": [
        "data3ไม่มี missing "
      ]
    },
    {
      "cell_type": "code",
      "metadata": {
        "id": "NcHs3ErRNDdm",
        "colab": {
          "base_uri": "https://localhost:8080/",
          "height": 399
        },
        "outputId": "5450da65-b224-4d9e-dabe-4e1ad39040fc"
      },
      "source": [
        "###ลองทำ Hadling Missing Value\n",
        "plt.boxplot(data3['Publications'].dropna())"
      ],
      "execution_count": 35,
      "outputs": [
        {
          "output_type": "execute_result",
          "data": {
            "text/plain": [
              "{'boxes': [<matplotlib.lines.Line2D at 0x7f5fed7152d0>],\n",
              " 'caps': [<matplotlib.lines.Line2D at 0x7f5fed69b310>,\n",
              "  <matplotlib.lines.Line2D at 0x7f5fed69b850>],\n",
              " 'fliers': [<matplotlib.lines.Line2D at 0x7f5fed6a4350>],\n",
              " 'means': [],\n",
              " 'medians': [<matplotlib.lines.Line2D at 0x7f5fed69bdd0>],\n",
              " 'whiskers': [<matplotlib.lines.Line2D at 0x7f5fed715850>,\n",
              "  <matplotlib.lines.Line2D at 0x7f5fed715d90>]}"
            ]
          },
          "metadata": {},
          "execution_count": 35
        },
        {
          "output_type": "display_data",
          "data": {
            "image/png": "[encoded data removed]",
            "text/plain": [
              "<Figure size 432x288 with 1 Axes>"
            ]
          },
          "metadata": {
            "needs_background": "light"
          }
        }
      ]
    },
    {
      "cell_type": "code",
      "metadata": {
        "id": "XwhsXagVNaZX",
        "colab": {
          "base_uri": "https://localhost:8080/",
          "height": 416
        },
        "outputId": "6a9cfcb6-4e36-4eaa-a8cd-9a1dbe0a26a6"
      },
      "source": [
        "data3.dropna()"
      ],
      "execution_count": 36,
      "outputs": [
        {
          "output_type": "execute_result",
          "data": {
            "text/html": [
              "<div>\n",
              "<style scoped>\n",
              "    .dataframe tbody tr th:only-of-type {\n",
              "        vertical-align: middle;\n",
              "    }\n",
              "\n",
              "    .dataframe tbody tr th {\n",
              "        vertical-align: top;\n",
              "    }\n",
              "\n",
              "    .dataframe thead th {\n",
              "        text-align: right;\n",
              "    }\n",
              "</style>\n",
              "<table border=\"1\" class=\"dataframe\">\n",
              "  <thead>\n",
              "    <tr style=\"text-align: right;\">\n",
              "      <th></th>\n",
              "      <th>Fiscal Year</th>\n",
              "      <th>Research Clusters</th>\n",
              "      <th>Beamline</th>\n",
              "      <th>Publications</th>\n",
              "    </tr>\n",
              "  </thead>\n",
              "  <tbody>\n",
              "    <tr>\n",
              "      <th>0</th>\n",
              "      <td>2017</td>\n",
              "      <td>Materials Science and Engineering</td>\n",
              "      <td>BL1.1W MXT</td>\n",
              "      <td>1</td>\n",
              "    </tr>\n",
              "    <tr>\n",
              "      <th>1</th>\n",
              "      <td>2017</td>\n",
              "      <td>Chemistry</td>\n",
              "      <td>BL1.1W MXT</td>\n",
              "      <td>1</td>\n",
              "    </tr>\n",
              "    <tr>\n",
              "      <th>2</th>\n",
              "      <td>2018</td>\n",
              "      <td>Materials Science and Engineering</td>\n",
              "      <td>BL1.1W MXT</td>\n",
              "      <td>4</td>\n",
              "    </tr>\n",
              "    <tr>\n",
              "      <th>3</th>\n",
              "      <td>2018</td>\n",
              "      <td>Food and Agricutural Science</td>\n",
              "      <td>BL1.1W MXT</td>\n",
              "      <td>1</td>\n",
              "    </tr>\n",
              "    <tr>\n",
              "      <th>4</th>\n",
              "      <td>2019</td>\n",
              "      <td>Materials Science and Engineering</td>\n",
              "      <td>BL1.1W MXT</td>\n",
              "      <td>9</td>\n",
              "    </tr>\n",
              "    <tr>\n",
              "      <th>...</th>\n",
              "      <td>...</td>\n",
              "      <td>...</td>\n",
              "      <td>...</td>\n",
              "      <td>...</td>\n",
              "    </tr>\n",
              "    <tr>\n",
              "      <th>191</th>\n",
              "      <td>2020</td>\n",
              "      <td>Materials Science and Engineering</td>\n",
              "      <td>BL8 XAS</td>\n",
              "      <td>18</td>\n",
              "    </tr>\n",
              "    <tr>\n",
              "      <th>192</th>\n",
              "      <td>2020</td>\n",
              "      <td>Chemistry</td>\n",
              "      <td>BL8 XAS</td>\n",
              "      <td>5</td>\n",
              "    </tr>\n",
              "    <tr>\n",
              "      <th>193</th>\n",
              "      <td>2020</td>\n",
              "      <td>Environmental Science</td>\n",
              "      <td>BL8 XAS</td>\n",
              "      <td>4</td>\n",
              "    </tr>\n",
              "    <tr>\n",
              "      <th>194</th>\n",
              "      <td>2020</td>\n",
              "      <td>Earth Science, Gemology and Archeology</td>\n",
              "      <td>BL8 XAS</td>\n",
              "      <td>6</td>\n",
              "    </tr>\n",
              "    <tr>\n",
              "      <th>195</th>\n",
              "      <td>2020</td>\n",
              "      <td>Surface, Interface and Thin films</td>\n",
              "      <td>BL8 XAS</td>\n",
              "      <td>3</td>\n",
              "    </tr>\n",
              "  </tbody>\n",
              "</table>\n",
              "<p>196 rows × 4 columns</p>\n",
              "</div>"
            ],
            "text/plain": [
              "     Fiscal Year   ... Publications\n",
              "0            2017  ...            1\n",
              "1            2017  ...            1\n",
              "2            2018  ...            4\n",
              "3            2018  ...            1\n",
              "4            2019  ...            9\n",
              "..            ...  ...          ...\n",
              "191          2020  ...           18\n",
              "192          2020  ...            5\n",
              "193          2020  ...            4\n",
              "194          2020  ...            6\n",
              "195          2020  ...            3\n",
              "\n",
              "[196 rows x 4 columns]"
            ]
          },
          "metadata": {},
          "execution_count": 36
        }
      ]
    },
    {
      "cell_type": "code",
      "metadata": {
        "id": "qi-lZGhxNf5Q",
        "colab": {
          "base_uri": "https://localhost:8080/"
        },
        "outputId": "a37dd0ab-fa58-40a5-e561-1eb83bfaf25b"
      },
      "source": [
        "data3.dropna().shape"
      ],
      "execution_count": 37,
      "outputs": [
        {
          "output_type": "execute_result",
          "data": {
            "text/plain": [
              "(196, 4)"
            ]
          },
          "metadata": {},
          "execution_count": 37
        }
      ]
    },
    {
      "cell_type": "markdown",
      "metadata": {
        "id": "i9Ca_r6VNwus"
      },
      "source": [
        "เเละเมื่อไม่ได้เเก้ missing เเล้ว พอทำ dropna() ข้อมูลจึงเท่าเดิมเพราะไม่มีค่า missing"
      ]
    },
    {
      "cell_type": "markdown",
      "metadata": {
        "id": "YZrxx2BHgnnK"
      },
      "source": [
        "## รวมตาราง"
      ]
    },
    {
      "cell_type": "code",
      "metadata": {
        "id": "KOlU9PJfNmWO",
        "outputId": "4b93cfca-5742-4bbd-c2d9-ffeaa4c36610",
        "colab": {
          "base_uri": "https://localhost:8080/",
          "height": 34
        }
      },
      "source": [
        "os.path.join(path,'workshop-participants.csv')"
      ],
      "execution_count": 41,
      "outputs": [
        {
          "output_type": "execute_result",
          "data": {
            "application/vnd.google.colaboratory.intrinsic+json": {
              "type": "string"
            },
            "text/plain": [
              "'/content/drive/My Drive/PROJECT/workshop-participants.csv'"
            ]
          },
          "metadata": {},
          "execution_count": 41
        }
      ]
    },
    {
      "cell_type": "code",
      "metadata": {
        "id": "xGWKAT5Cgj8J"
      },
      "source": [
        "data4 = pd.read_csv(os.path.join(path,'workshop-participants.csv'))\n",
        "data5 = pd.read_csv(os.path.join(path,'summary_beamtime-proposals-research-clusters.csv'))\n",
        "data6 = pd.read_csv(os.path.join(path,'summary_research_publications.csv'))\n"
      ],
      "execution_count": 42,
      "outputs": []
    },
    {
      "cell_type": "code",
      "metadata": {
        "id": "WtryqTDJiCUR",
        "outputId": "5bb926b1-d529-4c88-98d7-46bf3f922c71",
        "colab": {
          "base_uri": "https://localhost:8080/",
          "height": 416
        }
      },
      "source": [
        "data4"
      ],
      "execution_count": 46,
      "outputs": [
        {
          "output_type": "execute_result",
          "data": {
            "text/html": [
              "<div>\n",
              "<style scoped>\n",
              "    .dataframe tbody tr th:only-of-type {\n",
              "        vertical-align: middle;\n",
              "    }\n",
              "\n",
              "    .dataframe tbody tr th {\n",
              "        vertical-align: top;\n",
              "    }\n",
              "\n",
              "    .dataframe thead th {\n",
              "        text-align: right;\n",
              "    }\n",
              "</style>\n",
              "<table border=\"1\" class=\"dataframe\">\n",
              "  <thead>\n",
              "    <tr style=\"text-align: right;\">\n",
              "      <th></th>\n",
              "      <th>Fisical Year</th>\n",
              "      <th>Workshop Name</th>\n",
              "      <th>National paticipants</th>\n",
              "      <th>paticipants</th>\n",
              "    </tr>\n",
              "  </thead>\n",
              "  <tbody>\n",
              "    <tr>\n",
              "      <th>0</th>\n",
              "      <td>2010</td>\n",
              "      <td>ASEAN Workshops on Synchrotron Techniques</td>\n",
              "      <td>Thai</td>\n",
              "      <td>128</td>\n",
              "    </tr>\n",
              "    <tr>\n",
              "      <th>1</th>\n",
              "      <td>2010</td>\n",
              "      <td>ASEAN Workshops on Synchrotron Techniques</td>\n",
              "      <td>ASEN</td>\n",
              "      <td>7</td>\n",
              "    </tr>\n",
              "    <tr>\n",
              "      <th>2</th>\n",
              "      <td>2011</td>\n",
              "      <td>ASEAN Workshops on Synchrotron Techniques</td>\n",
              "      <td>Thai</td>\n",
              "      <td>148</td>\n",
              "    </tr>\n",
              "    <tr>\n",
              "      <th>3</th>\n",
              "      <td>2011</td>\n",
              "      <td>ASEAN Workshops on Synchrotron Techniques</td>\n",
              "      <td>ASEN</td>\n",
              "      <td>8</td>\n",
              "    </tr>\n",
              "    <tr>\n",
              "      <th>4</th>\n",
              "      <td>2011</td>\n",
              "      <td>ASEAN Workshops on Synchrotron Techniques</td>\n",
              "      <td>International</td>\n",
              "      <td>6</td>\n",
              "    </tr>\n",
              "    <tr>\n",
              "      <th>...</th>\n",
              "      <td>...</td>\n",
              "      <td>...</td>\n",
              "      <td>...</td>\n",
              "      <td>...</td>\n",
              "    </tr>\n",
              "    <tr>\n",
              "      <th>77</th>\n",
              "      <td>2015</td>\n",
              "      <td>Annual User Meeting (AUM)</td>\n",
              "      <td>Thai</td>\n",
              "      <td>123</td>\n",
              "    </tr>\n",
              "    <tr>\n",
              "      <th>78</th>\n",
              "      <td>2016</td>\n",
              "      <td>Annual User Meeting (AUM)</td>\n",
              "      <td>Thai</td>\n",
              "      <td>187</td>\n",
              "    </tr>\n",
              "    <tr>\n",
              "      <th>79</th>\n",
              "      <td>2017</td>\n",
              "      <td>Annual User Meeting (AUM)</td>\n",
              "      <td>Thai</td>\n",
              "      <td>87</td>\n",
              "    </tr>\n",
              "    <tr>\n",
              "      <th>80</th>\n",
              "      <td>2018</td>\n",
              "      <td>Annual User Meeting (AUM)</td>\n",
              "      <td>Thai</td>\n",
              "      <td>138</td>\n",
              "    </tr>\n",
              "    <tr>\n",
              "      <th>81</th>\n",
              "      <td>2019</td>\n",
              "      <td>Annual User Meeting (AUM)</td>\n",
              "      <td>Thai</td>\n",
              "      <td>130</td>\n",
              "    </tr>\n",
              "  </tbody>\n",
              "</table>\n",
              "<p>82 rows × 4 columns</p>\n",
              "</div>"
            ],
            "text/plain": [
              "    Fisical Year   ... paticipants\n",
              "0            2010  ...         128\n",
              "1            2010  ...           7\n",
              "2            2011  ...         148\n",
              "3            2011  ...           8\n",
              "4            2011  ...           6\n",
              "..            ...  ...         ...\n",
              "77           2015  ...         123\n",
              "78           2016  ...         187\n",
              "79           2017  ...          87\n",
              "80           2018  ...         138\n",
              "81           2019  ...         130\n",
              "\n",
              "[82 rows x 4 columns]"
            ]
          },
          "metadata": {},
          "execution_count": 46
        }
      ]
    },
    {
      "cell_type": "code",
      "metadata": {
        "id": "6PS9T0TChpEZ",
        "outputId": "e0d53fda-50c3-475e-c406-a76b56d585b9",
        "colab": {
          "base_uri": "https://localhost:8080/"
        }
      },
      "source": [
        "data4.shape"
      ],
      "execution_count": 43,
      "outputs": [
        {
          "output_type": "execute_result",
          "data": {
            "text/plain": [
              "(82, 4)"
            ]
          },
          "metadata": {},
          "execution_count": 43
        }
      ]
    },
    {
      "cell_type": "code",
      "metadata": {
        "id": "otGkzG1JhvaS",
        "outputId": "3117d495-cf09-44c9-fb45-cc2c08089582",
        "colab": {
          "base_uri": "https://localhost:8080/",
          "height": 219
        }
      },
      "source": [
        "print(data5.shape)\n",
        "data5.head()"
      ],
      "execution_count": 44,
      "outputs": [
        {
          "output_type": "stream",
          "text": [
            "(338, 4)\n"
          ],
          "name": "stdout"
        },
        {
          "output_type": "execute_result",
          "data": {
            "text/html": [
              "<div>\n",
              "<style scoped>\n",
              "    .dataframe tbody tr th:only-of-type {\n",
              "        vertical-align: middle;\n",
              "    }\n",
              "\n",
              "    .dataframe tbody tr th {\n",
              "        vertical-align: top;\n",
              "    }\n",
              "\n",
              "    .dataframe thead th {\n",
              "        text-align: right;\n",
              "    }\n",
              "</style>\n",
              "<table border=\"1\" class=\"dataframe\">\n",
              "  <thead>\n",
              "    <tr style=\"text-align: right;\">\n",
              "      <th></th>\n",
              "      <th>Fiscal Year</th>\n",
              "      <th>Research Clusters</th>\n",
              "      <th>Beamline</th>\n",
              "      <th>Proposals</th>\n",
              "    </tr>\n",
              "  </thead>\n",
              "  <tbody>\n",
              "    <tr>\n",
              "      <th>0</th>\n",
              "      <td>2017</td>\n",
              "      <td>Materials Science and Engineering</td>\n",
              "      <td>BL1.1W MXT</td>\n",
              "      <td>17</td>\n",
              "    </tr>\n",
              "    <tr>\n",
              "      <th>1</th>\n",
              "      <td>2017</td>\n",
              "      <td>Chemistry</td>\n",
              "      <td>BL1.1W MXT</td>\n",
              "      <td>3</td>\n",
              "    </tr>\n",
              "    <tr>\n",
              "      <th>2</th>\n",
              "      <td>2017</td>\n",
              "      <td>Biological and Life Science</td>\n",
              "      <td>BL1.1W MXT</td>\n",
              "      <td>1</td>\n",
              "    </tr>\n",
              "    <tr>\n",
              "      <th>3</th>\n",
              "      <td>2017</td>\n",
              "      <td>Earth Science, Gemology and Archeology</td>\n",
              "      <td>BL1.1W MXT</td>\n",
              "      <td>9</td>\n",
              "    </tr>\n",
              "    <tr>\n",
              "      <th>4</th>\n",
              "      <td>2017</td>\n",
              "      <td>Environmental Science</td>\n",
              "      <td>BL1.1W MXT</td>\n",
              "      <td>1</td>\n",
              "    </tr>\n",
              "  </tbody>\n",
              "</table>\n",
              "</div>"
            ],
            "text/plain": [
              "   Fiscal Year                        Research Clusters    Beamline  Proposals\n",
              "0          2017       Materials Science and Engineering  BL1.1W MXT         17\n",
              "1          2017                               Chemistry  BL1.1W MXT          3\n",
              "2          2017             Biological and Life Science  BL1.1W MXT          1\n",
              "3          2017  Earth Science, Gemology and Archeology  BL1.1W MXT          9\n",
              "4          2017                   Environmental Science  BL1.1W MXT          1"
            ]
          },
          "metadata": {},
          "execution_count": 44
        }
      ]
    },
    {
      "cell_type": "code",
      "metadata": {
        "id": "D4kbrlUPh5yU",
        "outputId": "a53bb9c2-36d4-4934-f472-d8454d4b727b",
        "colab": {
          "base_uri": "https://localhost:8080/",
          "height": 219
        }
      },
      "source": [
        "print(data6.shape)\n",
        "data6.head()"
      ],
      "execution_count": 45,
      "outputs": [
        {
          "output_type": "stream",
          "text": [
            "(196, 4)\n"
          ],
          "name": "stdout"
        },
        {
          "output_type": "execute_result",
          "data": {
            "text/html": [
              "<div>\n",
              "<style scoped>\n",
              "    .dataframe tbody tr th:only-of-type {\n",
              "        vertical-align: middle;\n",
              "    }\n",
              "\n",
              "    .dataframe tbody tr th {\n",
              "        vertical-align: top;\n",
              "    }\n",
              "\n",
              "    .dataframe thead th {\n",
              "        text-align: right;\n",
              "    }\n",
              "</style>\n",
              "<table border=\"1\" class=\"dataframe\">\n",
              "  <thead>\n",
              "    <tr style=\"text-align: right;\">\n",
              "      <th></th>\n",
              "      <th>Fiscal Year</th>\n",
              "      <th>Research Clusters</th>\n",
              "      <th>Beamline</th>\n",
              "      <th>Publications</th>\n",
              "    </tr>\n",
              "  </thead>\n",
              "  <tbody>\n",
              "    <tr>\n",
              "      <th>0</th>\n",
              "      <td>2017</td>\n",
              "      <td>Materials Science and Engineering</td>\n",
              "      <td>BL1.1W MXT</td>\n",
              "      <td>1</td>\n",
              "    </tr>\n",
              "    <tr>\n",
              "      <th>1</th>\n",
              "      <td>2017</td>\n",
              "      <td>Chemistry</td>\n",
              "      <td>BL1.1W MXT</td>\n",
              "      <td>1</td>\n",
              "    </tr>\n",
              "    <tr>\n",
              "      <th>2</th>\n",
              "      <td>2018</td>\n",
              "      <td>Materials Science and Engineering</td>\n",
              "      <td>BL1.1W MXT</td>\n",
              "      <td>4</td>\n",
              "    </tr>\n",
              "    <tr>\n",
              "      <th>3</th>\n",
              "      <td>2018</td>\n",
              "      <td>Food and Agricutural Science</td>\n",
              "      <td>BL1.1W MXT</td>\n",
              "      <td>1</td>\n",
              "    </tr>\n",
              "    <tr>\n",
              "      <th>4</th>\n",
              "      <td>2019</td>\n",
              "      <td>Materials Science and Engineering</td>\n",
              "      <td>BL1.1W MXT</td>\n",
              "      <td>9</td>\n",
              "    </tr>\n",
              "  </tbody>\n",
              "</table>\n",
              "</div>"
            ],
            "text/plain": [
              "   Fiscal Year                   Research Clusters    Beamline  Publications\n",
              "0          2017  Materials Science and Engineering  BL1.1W MXT             1\n",
              "1          2017                          Chemistry  BL1.1W MXT             1\n",
              "2          2018  Materials Science and Engineering  BL1.1W MXT             4\n",
              "3          2018       Food and Agricutural Science  BL1.1W MXT             1\n",
              "4          2019  Materials Science and Engineering  BL1.1W MXT             9"
            ]
          },
          "metadata": {},
          "execution_count": 45
        }
      ]
    },
    {
      "cell_type": "markdown",
      "metadata": {
        "id": "N29N4Ly6iJbT"
      },
      "source": [
        "อยากได้ข้อมูลที่เหมือนกันล่าสุด"
      ]
    },
    {
      "cell_type": "code",
      "metadata": {
        "id": "-hN0Gkjmh92m",
        "outputId": "695d8810-7acf-4f92-875a-1f4f5e6b1eb1",
        "colab": {
          "base_uri": "https://localhost:8080/",
          "height": 664
        }
      },
      "source": [
        "data_x = data4.iloc[-20:,:]\n",
        "data_x"
      ],
      "execution_count": 48,
      "outputs": [
        {
          "output_type": "execute_result",
          "data": {
            "text/html": [
              "<div>\n",
              "<style scoped>\n",
              "    .dataframe tbody tr th:only-of-type {\n",
              "        vertical-align: middle;\n",
              "    }\n",
              "\n",
              "    .dataframe tbody tr th {\n",
              "        vertical-align: top;\n",
              "    }\n",
              "\n",
              "    .dataframe thead th {\n",
              "        text-align: right;\n",
              "    }\n",
              "</style>\n",
              "<table border=\"1\" class=\"dataframe\">\n",
              "  <thead>\n",
              "    <tr style=\"text-align: right;\">\n",
              "      <th></th>\n",
              "      <th>Fisical Year</th>\n",
              "      <th>Workshop Name</th>\n",
              "      <th>National paticipants</th>\n",
              "      <th>paticipants</th>\n",
              "    </tr>\n",
              "  </thead>\n",
              "  <tbody>\n",
              "    <tr>\n",
              "      <th>62</th>\n",
              "      <td>2019</td>\n",
              "      <td>ASEAN Synchrotron Science Camp</td>\n",
              "      <td>ASEN</td>\n",
              "      <td>42</td>\n",
              "    </tr>\n",
              "    <tr>\n",
              "      <th>63</th>\n",
              "      <td>2011</td>\n",
              "      <td>Synchrotron Science Camp for Teachers</td>\n",
              "      <td>Thai</td>\n",
              "      <td>34</td>\n",
              "    </tr>\n",
              "    <tr>\n",
              "      <th>64</th>\n",
              "      <td>2012</td>\n",
              "      <td>Synchrotron Science Camp for Teachers</td>\n",
              "      <td>Thai</td>\n",
              "      <td>17</td>\n",
              "    </tr>\n",
              "    <tr>\n",
              "      <th>65</th>\n",
              "      <td>2014</td>\n",
              "      <td>Synchrotron Science Camp for Teachers</td>\n",
              "      <td>Thai</td>\n",
              "      <td>39</td>\n",
              "    </tr>\n",
              "    <tr>\n",
              "      <th>66</th>\n",
              "      <td>2015</td>\n",
              "      <td>Synchrotron Science Camp for Teachers</td>\n",
              "      <td>Thai</td>\n",
              "      <td>38</td>\n",
              "    </tr>\n",
              "    <tr>\n",
              "      <th>67</th>\n",
              "      <td>2016</td>\n",
              "      <td>Synchrotron Science Camp for Teachers</td>\n",
              "      <td>Thai</td>\n",
              "      <td>35</td>\n",
              "    </tr>\n",
              "    <tr>\n",
              "      <th>68</th>\n",
              "      <td>2017</td>\n",
              "      <td>Synchrotron Science Camp for Teachers</td>\n",
              "      <td>Thai</td>\n",
              "      <td>50</td>\n",
              "    </tr>\n",
              "    <tr>\n",
              "      <th>69</th>\n",
              "      <td>2018</td>\n",
              "      <td>Synchrotron Science Camp for Teachers</td>\n",
              "      <td>Thai</td>\n",
              "      <td>49</td>\n",
              "    </tr>\n",
              "    <tr>\n",
              "      <th>70</th>\n",
              "      <td>2019</td>\n",
              "      <td>Synchrotron Science Camp for Teachers</td>\n",
              "      <td>Thai</td>\n",
              "      <td>39</td>\n",
              "    </tr>\n",
              "    <tr>\n",
              "      <th>71</th>\n",
              "      <td>2007</td>\n",
              "      <td>Annual User Meeting (AUM)</td>\n",
              "      <td>Thai</td>\n",
              "      <td>83</td>\n",
              "    </tr>\n",
              "    <tr>\n",
              "      <th>72</th>\n",
              "      <td>2008</td>\n",
              "      <td>Annual User Meeting (AUM)</td>\n",
              "      <td>Thai</td>\n",
              "      <td>144</td>\n",
              "    </tr>\n",
              "    <tr>\n",
              "      <th>73</th>\n",
              "      <td>2010</td>\n",
              "      <td>Annual User Meeting (AUM)</td>\n",
              "      <td>Thai</td>\n",
              "      <td>96</td>\n",
              "    </tr>\n",
              "    <tr>\n",
              "      <th>74</th>\n",
              "      <td>2011</td>\n",
              "      <td>Annual User Meeting (AUM)</td>\n",
              "      <td>Thai</td>\n",
              "      <td>72</td>\n",
              "    </tr>\n",
              "    <tr>\n",
              "      <th>75</th>\n",
              "      <td>2012</td>\n",
              "      <td>Annual User Meeting (AUM)</td>\n",
              "      <td>Thai</td>\n",
              "      <td>112</td>\n",
              "    </tr>\n",
              "    <tr>\n",
              "      <th>76</th>\n",
              "      <td>2013</td>\n",
              "      <td>Annual User Meeting (AUM)</td>\n",
              "      <td>Thai</td>\n",
              "      <td>54</td>\n",
              "    </tr>\n",
              "    <tr>\n",
              "      <th>77</th>\n",
              "      <td>2015</td>\n",
              "      <td>Annual User Meeting (AUM)</td>\n",
              "      <td>Thai</td>\n",
              "      <td>123</td>\n",
              "    </tr>\n",
              "    <tr>\n",
              "      <th>78</th>\n",
              "      <td>2016</td>\n",
              "      <td>Annual User Meeting (AUM)</td>\n",
              "      <td>Thai</td>\n",
              "      <td>187</td>\n",
              "    </tr>\n",
              "    <tr>\n",
              "      <th>79</th>\n",
              "      <td>2017</td>\n",
              "      <td>Annual User Meeting (AUM)</td>\n",
              "      <td>Thai</td>\n",
              "      <td>87</td>\n",
              "    </tr>\n",
              "    <tr>\n",
              "      <th>80</th>\n",
              "      <td>2018</td>\n",
              "      <td>Annual User Meeting (AUM)</td>\n",
              "      <td>Thai</td>\n",
              "      <td>138</td>\n",
              "    </tr>\n",
              "    <tr>\n",
              "      <th>81</th>\n",
              "      <td>2019</td>\n",
              "      <td>Annual User Meeting (AUM)</td>\n",
              "      <td>Thai</td>\n",
              "      <td>130</td>\n",
              "    </tr>\n",
              "  </tbody>\n",
              "</table>\n",
              "</div>"
            ],
            "text/plain": [
              "    Fisical Year   ... paticipants\n",
              "62           2019  ...          42\n",
              "63           2011  ...          34\n",
              "64           2012  ...          17\n",
              "65           2014  ...          39\n",
              "66           2015  ...          38\n",
              "67           2016  ...          35\n",
              "68           2017  ...          50\n",
              "69           2018  ...          49\n",
              "70           2019  ...          39\n",
              "71           2007  ...          83\n",
              "72           2008  ...         144\n",
              "73           2010  ...          96\n",
              "74           2011  ...          72\n",
              "75           2012  ...         112\n",
              "76           2013  ...          54\n",
              "77           2015  ...         123\n",
              "78           2016  ...         187\n",
              "79           2017  ...          87\n",
              "80           2018  ...         138\n",
              "81           2019  ...         130\n",
              "\n",
              "[20 rows x 4 columns]"
            ]
          },
          "metadata": {},
          "execution_count": 48
        }
      ]
    },
    {
      "cell_type": "markdown",
      "metadata": {
        "id": "0umbWyaOVj4w"
      },
      "source": [
        "\n",
        "\n",
        "1.   รวม 3 ตารางเข้าด้วยกัน\n",
        "2.   เลือกมาเฉพาะบาง column จากอีกตารางหนึ่งมาแปะไว้\n",
        "\n"
      ]
    },
    {
      "cell_type": "code",
      "metadata": {
        "id": "4Kw24sDgipU4",
        "outputId": "e84b2166-0133-4fd5-d378-63379f6cba9d",
        "colab": {
          "base_uri": "https://localhost:8080/",
          "height": 128
        }
      },
      "source": [
        "merged_table = data_x..merge(data6t,how='left',left_on='Research Clusters',right_on='Year')\n",
        "merged_table"
      ],
      "execution_count": 49,
      "outputs": [
        {
          "output_type": "error",
          "ename": "SyntaxError",
          "evalue": "ignored",
          "traceback": [
            "\u001b[0;36m  File \u001b[0;32m\"<ipython-input-49-c02ffa0d58bc>\"\u001b[0;36m, line \u001b[0;32m1\u001b[0m\n\u001b[0;31m    merged_table = data_x..merge(data6t,how='left',left_on='Research Clusters',right_on='Year')\u001b[0m\n\u001b[0m                          ^\u001b[0m\n\u001b[0;31mSyntaxError\u001b[0m\u001b[0;31m:\u001b[0m invalid syntax\n"
          ]
        }
      ]
    },
    {
      "cell_type": "code",
      "metadata": {
        "id": "nV8dJPEDjvQw"
      },
      "source": [
        ""
      ],
      "execution_count": null,
      "outputs": []
    }
  ]
}