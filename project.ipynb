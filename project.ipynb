{
  "nbformat": 4,
  "nbformat_minor": 0,
  "metadata": {
    "colab": {
      "name": "project.ipynb",
      "provenance": [],
      "authorship_tag": "ABX9TyN8tFnLcXdQg9Fj7zO5Kurc",
      "include_colab_link": true
    },
    "kernelspec": {
      "name": "python3",
      "display_name": "Python 3"
    },
    "language_info": {
      "name": "python"
    }
  },
  "cells": [
    {
      "cell_type": "markdown",
      "metadata": {
        "id": "view-in-github",
        "colab_type": "text"
      },
      "source": [
        "<a href=\"https://colab.research.google.com/github/kittikhun62/DWDM21/blob/main/project.ipynb\" target=\"_parent\"><img src=\"https://colab.research.google.com/assets/colab-badge.svg\" alt=\"Open In Colab\"/></a>"
      ]
    },
    {
      "cell_type": "markdown",
      "metadata": {
        "id": "fGJM3hzGbAXd"
      },
      "source": [
        "#### Project กลุ่ม #### \n",
        "* present วันที่ 31 สิงหาคม 2564\n",
        "* ข้อมูลที่ไปดึงมาจาก 3 แหล่ง\n",
        "* แสดงวิธีการโหลด\n",
        "* ความเชื่อมโยงของ 3 ตาราง (index)\n",
        "\n"
      ]
    },
    {
      "cell_type": "code",
      "metadata": {
        "id": "jq9b0wuA7fj3"
      },
      "source": [
        "import pandas as pd # ข้อมูลลักษณะ ตาราง"
      ],
      "execution_count": 1,
      "outputs": []
    },
    {
      "cell_type": "code",
      "metadata": {
        "colab": {
          "base_uri": "https://localhost:8080/"
        },
        "id": "18ckP8SN72rE",
        "outputId": "7f344b9f-5a9d-4ae9-deb2-dc5b5716da43"
      },
      "source": [
        "from google.colab import drive #เชื่อม google drive\n",
        "drive.mount('/content/drive')"
      ],
      "execution_count": 2,
      "outputs": [
        {
          "output_type": "stream",
          "text": [
            "Mounted at /content/drive\n"
          ],
          "name": "stdout"
        }
      ]
    },
    {
      "cell_type": "code",
      "metadata": {
        "id": "cgxOYkaXosxQ",
        "colab": {
          "base_uri": "https://localhost:8080/"
        },
        "outputId": "07e91168-7a9d-406f-acb4-79d57cee4a5f"
      },
      "source": [
        "ls"
      ],
      "execution_count": 3,
      "outputs": [
        {
          "output_type": "stream",
          "text": [
            "\u001b[0m\u001b[01;34mdrive\u001b[0m/  \u001b[01;34msample_data\u001b[0m/\n"
          ],
          "name": "stdout"
        }
      ]
    },
    {
      "cell_type": "code",
      "metadata": {
        "id": "h8m1OJkp8DwP"
      },
      "source": [
        "import os # จัดการไฟล์เเละ path(ที่อยู่ของไฟล์)"
      ],
      "execution_count": 4,
      "outputs": []
    },
    {
      "cell_type": "code",
      "metadata": {
        "id": "_qc01Uy48FmG"
      },
      "source": [
        "path = '/content/drive/My Drive/PROJECT'"
      ],
      "execution_count": 5,
      "outputs": []
    },
    {
      "cell_type": "markdown",
      "metadata": {
        "id": "aiAawuqLP7ZL"
      },
      "source": [
        "### อีก 1 data"
      ]
    },
    {
      "cell_type": "code",
      "metadata": {
        "colab": {
          "base_uri": "https://localhost:8080/",
          "height": 416
        },
        "id": "DaNJvJEXCIM1",
        "outputId": "a76d41fd-243f-42a4-c4eb-1b46b9c7f73f"
      },
      "source": [
        "data = pd.read_csv(os.path.join(path,'workshop-participants.csv'))\n",
        "data"
      ],
      "execution_count": 19,
      "outputs": [
        {
          "output_type": "execute_result",
          "data": {
            "text/html": [
              "<div>\n",
              "<style scoped>\n",
              "    .dataframe tbody tr th:only-of-type {\n",
              "        vertical-align: middle;\n",
              "    }\n",
              "\n",
              "    .dataframe tbody tr th {\n",
              "        vertical-align: top;\n",
              "    }\n",
              "\n",
              "    .dataframe thead th {\n",
              "        text-align: right;\n",
              "    }\n",
              "</style>\n",
              "<table border=\"1\" class=\"dataframe\">\n",
              "  <thead>\n",
              "    <tr style=\"text-align: right;\">\n",
              "      <th></th>\n",
              "      <th>Fisical Year</th>\n",
              "      <th>Workshop Name</th>\n",
              "      <th>National paticipants</th>\n",
              "      <th>paticipants</th>\n",
              "    </tr>\n",
              "  </thead>\n",
              "  <tbody>\n",
              "    <tr>\n",
              "      <th>0</th>\n",
              "      <td>2010</td>\n",
              "      <td>ASEAN Workshops on Synchrotron Techniques</td>\n",
              "      <td>Thai</td>\n",
              "      <td>128</td>\n",
              "    </tr>\n",
              "    <tr>\n",
              "      <th>1</th>\n",
              "      <td>2010</td>\n",
              "      <td>ASEAN Workshops on Synchrotron Techniques</td>\n",
              "      <td>ASEN</td>\n",
              "      <td>7</td>\n",
              "    </tr>\n",
              "    <tr>\n",
              "      <th>2</th>\n",
              "      <td>2011</td>\n",
              "      <td>ASEAN Workshops on Synchrotron Techniques</td>\n",
              "      <td>Thai</td>\n",
              "      <td>148</td>\n",
              "    </tr>\n",
              "    <tr>\n",
              "      <th>3</th>\n",
              "      <td>2011</td>\n",
              "      <td>ASEAN Workshops on Synchrotron Techniques</td>\n",
              "      <td>ASEN</td>\n",
              "      <td>8</td>\n",
              "    </tr>\n",
              "    <tr>\n",
              "      <th>4</th>\n",
              "      <td>2011</td>\n",
              "      <td>ASEAN Workshops on Synchrotron Techniques</td>\n",
              "      <td>International</td>\n",
              "      <td>6</td>\n",
              "    </tr>\n",
              "    <tr>\n",
              "      <th>...</th>\n",
              "      <td>...</td>\n",
              "      <td>...</td>\n",
              "      <td>...</td>\n",
              "      <td>...</td>\n",
              "    </tr>\n",
              "    <tr>\n",
              "      <th>77</th>\n",
              "      <td>2015</td>\n",
              "      <td>Annual User Meeting (AUM)</td>\n",
              "      <td>Thai</td>\n",
              "      <td>123</td>\n",
              "    </tr>\n",
              "    <tr>\n",
              "      <th>78</th>\n",
              "      <td>2016</td>\n",
              "      <td>Annual User Meeting (AUM)</td>\n",
              "      <td>Thai</td>\n",
              "      <td>187</td>\n",
              "    </tr>\n",
              "    <tr>\n",
              "      <th>79</th>\n",
              "      <td>2017</td>\n",
              "      <td>Annual User Meeting (AUM)</td>\n",
              "      <td>Thai</td>\n",
              "      <td>87</td>\n",
              "    </tr>\n",
              "    <tr>\n",
              "      <th>80</th>\n",
              "      <td>2018</td>\n",
              "      <td>Annual User Meeting (AUM)</td>\n",
              "      <td>Thai</td>\n",
              "      <td>138</td>\n",
              "    </tr>\n",
              "    <tr>\n",
              "      <th>81</th>\n",
              "      <td>2019</td>\n",
              "      <td>Annual User Meeting (AUM)</td>\n",
              "      <td>Thai</td>\n",
              "      <td>130</td>\n",
              "    </tr>\n",
              "  </tbody>\n",
              "</table>\n",
              "<p>82 rows × 4 columns</p>\n",
              "</div>"
            ],
            "text/plain": [
              "    Fisical Year   ... paticipants\n",
              "0            2010  ...         128\n",
              "1            2010  ...           7\n",
              "2            2011  ...         148\n",
              "3            2011  ...           8\n",
              "4            2011  ...           6\n",
              "..            ...  ...         ...\n",
              "77           2015  ...         123\n",
              "78           2016  ...         187\n",
              "79           2017  ...          87\n",
              "80           2018  ...         138\n",
              "81           2019  ...         130\n",
              "\n",
              "[82 rows x 4 columns]"
            ]
          },
          "metadata": {},
          "execution_count": 19
        }
      ]
    },
    {
      "cell_type": "code",
      "metadata": {
        "id": "bUoGQdGsFcvn",
        "outputId": "9c21c7b7-abcd-4a78-ea69-03ddcb22e215",
        "colab": {
          "base_uri": "https://localhost:8080/"
        }
      },
      "source": [
        "data.shape"
      ],
      "execution_count": 23,
      "outputs": [
        {
          "output_type": "execute_result",
          "data": {
            "text/plain": [
              "(82, 4)"
            ]
          },
          "metadata": {},
          "execution_count": 23
        }
      ]
    },
    {
      "cell_type": "code",
      "metadata": {
        "id": "lpzrzvc_Hgll",
        "outputId": "c25346c2-3d4a-4fc1-ee76-caff7cc351b0",
        "colab": {
          "base_uri": "https://localhost:8080/",
          "height": 416
        }
      },
      "source": [
        "data.iloc[0:,[0,2,3]]"
      ],
      "execution_count": 27,
      "outputs": [
        {
          "output_type": "execute_result",
          "data": {
            "text/html": [
              "<div>\n",
              "<style scoped>\n",
              "    .dataframe tbody tr th:only-of-type {\n",
              "        vertical-align: middle;\n",
              "    }\n",
              "\n",
              "    .dataframe tbody tr th {\n",
              "        vertical-align: top;\n",
              "    }\n",
              "\n",
              "    .dataframe thead th {\n",
              "        text-align: right;\n",
              "    }\n",
              "</style>\n",
              "<table border=\"1\" class=\"dataframe\">\n",
              "  <thead>\n",
              "    <tr style=\"text-align: right;\">\n",
              "      <th></th>\n",
              "      <th>Fisical Year</th>\n",
              "      <th>National paticipants</th>\n",
              "      <th>paticipants</th>\n",
              "    </tr>\n",
              "  </thead>\n",
              "  <tbody>\n",
              "    <tr>\n",
              "      <th>0</th>\n",
              "      <td>2010</td>\n",
              "      <td>Thai</td>\n",
              "      <td>128</td>\n",
              "    </tr>\n",
              "    <tr>\n",
              "      <th>1</th>\n",
              "      <td>2010</td>\n",
              "      <td>ASEN</td>\n",
              "      <td>7</td>\n",
              "    </tr>\n",
              "    <tr>\n",
              "      <th>2</th>\n",
              "      <td>2011</td>\n",
              "      <td>Thai</td>\n",
              "      <td>148</td>\n",
              "    </tr>\n",
              "    <tr>\n",
              "      <th>3</th>\n",
              "      <td>2011</td>\n",
              "      <td>ASEN</td>\n",
              "      <td>8</td>\n",
              "    </tr>\n",
              "    <tr>\n",
              "      <th>4</th>\n",
              "      <td>2011</td>\n",
              "      <td>International</td>\n",
              "      <td>6</td>\n",
              "    </tr>\n",
              "    <tr>\n",
              "      <th>...</th>\n",
              "      <td>...</td>\n",
              "      <td>...</td>\n",
              "      <td>...</td>\n",
              "    </tr>\n",
              "    <tr>\n",
              "      <th>77</th>\n",
              "      <td>2015</td>\n",
              "      <td>Thai</td>\n",
              "      <td>123</td>\n",
              "    </tr>\n",
              "    <tr>\n",
              "      <th>78</th>\n",
              "      <td>2016</td>\n",
              "      <td>Thai</td>\n",
              "      <td>187</td>\n",
              "    </tr>\n",
              "    <tr>\n",
              "      <th>79</th>\n",
              "      <td>2017</td>\n",
              "      <td>Thai</td>\n",
              "      <td>87</td>\n",
              "    </tr>\n",
              "    <tr>\n",
              "      <th>80</th>\n",
              "      <td>2018</td>\n",
              "      <td>Thai</td>\n",
              "      <td>138</td>\n",
              "    </tr>\n",
              "    <tr>\n",
              "      <th>81</th>\n",
              "      <td>2019</td>\n",
              "      <td>Thai</td>\n",
              "      <td>130</td>\n",
              "    </tr>\n",
              "  </tbody>\n",
              "</table>\n",
              "<p>82 rows × 3 columns</p>\n",
              "</div>"
            ],
            "text/plain": [
              "    Fisical Year  National paticipants  paticipants\n",
              "0            2010                 Thai          128\n",
              "1            2010                 ASEN            7\n",
              "2            2011                 Thai          148\n",
              "3            2011                 ASEN            8\n",
              "4            2011        International            6\n",
              "..            ...                  ...          ...\n",
              "77           2015                 Thai          123\n",
              "78           2016                 Thai          187\n",
              "79           2017                 Thai           87\n",
              "80           2018                 Thai          138\n",
              "81           2019                 Thai          130\n",
              "\n",
              "[82 rows x 3 columns]"
            ]
          },
          "metadata": {},
          "execution_count": 27
        }
      ]
    },
    {
      "cell_type": "code",
      "metadata": {
        "id": "a0j2ryeUHgiQ",
        "outputId": "571a29e5-727e-4bb8-e530-2e634514193b",
        "colab": {
          "base_uri": "https://localhost:8080/",
          "height": 295
        }
      },
      "source": [
        "data.describe()"
      ],
      "execution_count": 28,
      "outputs": [
        {
          "output_type": "execute_result",
          "data": {
            "text/html": [
              "<div>\n",
              "<style scoped>\n",
              "    .dataframe tbody tr th:only-of-type {\n",
              "        vertical-align: middle;\n",
              "    }\n",
              "\n",
              "    .dataframe tbody tr th {\n",
              "        vertical-align: top;\n",
              "    }\n",
              "\n",
              "    .dataframe thead th {\n",
              "        text-align: right;\n",
              "    }\n",
              "</style>\n",
              "<table border=\"1\" class=\"dataframe\">\n",
              "  <thead>\n",
              "    <tr style=\"text-align: right;\">\n",
              "      <th></th>\n",
              "      <th>Fisical Year</th>\n",
              "      <th>paticipants</th>\n",
              "    </tr>\n",
              "  </thead>\n",
              "  <tbody>\n",
              "    <tr>\n",
              "      <th>count</th>\n",
              "      <td>82.000000</td>\n",
              "      <td>82.000000</td>\n",
              "    </tr>\n",
              "    <tr>\n",
              "      <th>mean</th>\n",
              "      <td>2013.463415</td>\n",
              "      <td>130.451220</td>\n",
              "    </tr>\n",
              "    <tr>\n",
              "      <th>std</th>\n",
              "      <td>4.049676</td>\n",
              "      <td>194.623673</td>\n",
              "    </tr>\n",
              "    <tr>\n",
              "      <th>min</th>\n",
              "      <td>2004.000000</td>\n",
              "      <td>2.000000</td>\n",
              "    </tr>\n",
              "    <tr>\n",
              "      <th>25%</th>\n",
              "      <td>2011.000000</td>\n",
              "      <td>34.250000</td>\n",
              "    </tr>\n",
              "    <tr>\n",
              "      <th>50%</th>\n",
              "      <td>2014.000000</td>\n",
              "      <td>62.000000</td>\n",
              "    </tr>\n",
              "    <tr>\n",
              "      <th>75%</th>\n",
              "      <td>2017.000000</td>\n",
              "      <td>129.500000</td>\n",
              "    </tr>\n",
              "    <tr>\n",
              "      <th>max</th>\n",
              "      <td>2019.000000</td>\n",
              "      <td>963.000000</td>\n",
              "    </tr>\n",
              "  </tbody>\n",
              "</table>\n",
              "</div>"
            ],
            "text/plain": [
              "       Fisical Year   paticipants\n",
              "count      82.000000    82.000000\n",
              "mean     2013.463415   130.451220\n",
              "std         4.049676   194.623673\n",
              "min      2004.000000     2.000000\n",
              "25%      2011.000000    34.250000\n",
              "50%      2014.000000    62.000000\n",
              "75%      2017.000000   129.500000\n",
              "max      2019.000000   963.000000"
            ]
          },
          "metadata": {},
          "execution_count": 28
        }
      ]
    },
    {
      "cell_type": "code",
      "metadata": {
        "id": "PiCMwlPwHggM"
      },
      "source": [
        "from matplotlib import pyplot as plt"
      ],
      "execution_count": 29,
      "outputs": []
    },
    {
      "cell_type": "code",
      "metadata": {
        "id": "bxx02AewHgeb",
        "outputId": "45b4ed3b-1865-4f64-d6b0-99144b680436",
        "colab": {
          "base_uri": "https://localhost:8080/",
          "height": 400
        }
      },
      "source": [
        "plt.boxplot(data['paticipants'])"
      ],
      "execution_count": 44,
      "outputs": [
        {
          "output_type": "execute_result",
          "data": {
            "text/plain": [
              "{'boxes': [<matplotlib.lines.Line2D at 0x7f24064c7810>],\n",
              " 'caps': [<matplotlib.lines.Line2D at 0x7f24064d33d0>,\n",
              "  <matplotlib.lines.Line2D at 0x7f24064d3450>],\n",
              " 'fliers': [<matplotlib.lines.Line2D at 0x7f2406478a90>],\n",
              " 'means': [],\n",
              " 'medians': [<matplotlib.lines.Line2D at 0x7f24064d3d50>],\n",
              " 'whiskers': [<matplotlib.lines.Line2D at 0x7f24064b4ed0>,\n",
              "  <matplotlib.lines.Line2D at 0x7f24064b4450>]}"
            ]
          },
          "metadata": {},
          "execution_count": 44
        },
        {
          "output_type": "display_data",
          "data": {
            "image/png": "[encoded data removed]",
            "text/plain": [
              "<Figure size 432x288 with 1 Axes>"
            ]
          },
          "metadata": {
            "needs_background": "light"
          }
        }
      ]
    },
    {
      "cell_type": "markdown",
      "metadata": {
        "id": "ARGTOpLVIhSu"
      },
      "source": [
        "### Missing Values\n"
      ]
    },
    {
      "cell_type": "code",
      "metadata": {
        "id": "_53pXhT_IhAI",
        "outputId": "1611bcdf-108c-4895-eaf0-fac45a3354dc",
        "colab": {
          "base_uri": "https://localhost:8080/",
          "height": 416
        }
      },
      "source": [
        "data.isnull()"
      ],
      "execution_count": 32,
      "outputs": [
        {
          "output_type": "execute_result",
          "data": {
            "text/html": [
              "<div>\n",
              "<style scoped>\n",
              "    .dataframe tbody tr th:only-of-type {\n",
              "        vertical-align: middle;\n",
              "    }\n",
              "\n",
              "    .dataframe tbody tr th {\n",
              "        vertical-align: top;\n",
              "    }\n",
              "\n",
              "    .dataframe thead th {\n",
              "        text-align: right;\n",
              "    }\n",
              "</style>\n",
              "<table border=\"1\" class=\"dataframe\">\n",
              "  <thead>\n",
              "    <tr style=\"text-align: right;\">\n",
              "      <th></th>\n",
              "      <th>Fisical Year</th>\n",
              "      <th>Workshop Name</th>\n",
              "      <th>National paticipants</th>\n",
              "      <th>paticipants</th>\n",
              "    </tr>\n",
              "  </thead>\n",
              "  <tbody>\n",
              "    <tr>\n",
              "      <th>0</th>\n",
              "      <td>False</td>\n",
              "      <td>False</td>\n",
              "      <td>False</td>\n",
              "      <td>False</td>\n",
              "    </tr>\n",
              "    <tr>\n",
              "      <th>1</th>\n",
              "      <td>False</td>\n",
              "      <td>False</td>\n",
              "      <td>False</td>\n",
              "      <td>False</td>\n",
              "    </tr>\n",
              "    <tr>\n",
              "      <th>2</th>\n",
              "      <td>False</td>\n",
              "      <td>False</td>\n",
              "      <td>False</td>\n",
              "      <td>False</td>\n",
              "    </tr>\n",
              "    <tr>\n",
              "      <th>3</th>\n",
              "      <td>False</td>\n",
              "      <td>False</td>\n",
              "      <td>False</td>\n",
              "      <td>False</td>\n",
              "    </tr>\n",
              "    <tr>\n",
              "      <th>4</th>\n",
              "      <td>False</td>\n",
              "      <td>False</td>\n",
              "      <td>False</td>\n",
              "      <td>False</td>\n",
              "    </tr>\n",
              "    <tr>\n",
              "      <th>...</th>\n",
              "      <td>...</td>\n",
              "      <td>...</td>\n",
              "      <td>...</td>\n",
              "      <td>...</td>\n",
              "    </tr>\n",
              "    <tr>\n",
              "      <th>77</th>\n",
              "      <td>False</td>\n",
              "      <td>False</td>\n",
              "      <td>False</td>\n",
              "      <td>False</td>\n",
              "    </tr>\n",
              "    <tr>\n",
              "      <th>78</th>\n",
              "      <td>False</td>\n",
              "      <td>False</td>\n",
              "      <td>False</td>\n",
              "      <td>False</td>\n",
              "    </tr>\n",
              "    <tr>\n",
              "      <th>79</th>\n",
              "      <td>False</td>\n",
              "      <td>False</td>\n",
              "      <td>False</td>\n",
              "      <td>False</td>\n",
              "    </tr>\n",
              "    <tr>\n",
              "      <th>80</th>\n",
              "      <td>False</td>\n",
              "      <td>False</td>\n",
              "      <td>False</td>\n",
              "      <td>False</td>\n",
              "    </tr>\n",
              "    <tr>\n",
              "      <th>81</th>\n",
              "      <td>False</td>\n",
              "      <td>False</td>\n",
              "      <td>False</td>\n",
              "      <td>False</td>\n",
              "    </tr>\n",
              "  </tbody>\n",
              "</table>\n",
              "<p>82 rows × 4 columns</p>\n",
              "</div>"
            ],
            "text/plain": [
              "    Fisical Year   Workshop Name  National paticipants  paticipants\n",
              "0           False          False                 False        False\n",
              "1           False          False                 False        False\n",
              "2           False          False                 False        False\n",
              "3           False          False                 False        False\n",
              "4           False          False                 False        False\n",
              "..            ...            ...                   ...          ...\n",
              "77          False          False                 False        False\n",
              "78          False          False                 False        False\n",
              "79          False          False                 False        False\n",
              "80          False          False                 False        False\n",
              "81          False          False                 False        False\n",
              "\n",
              "[82 rows x 4 columns]"
            ]
          },
          "metadata": {},
          "execution_count": 32
        }
      ]
    },
    {
      "cell_type": "code",
      "metadata": {
        "id": "qcDRyF9rHgcZ",
        "outputId": "975a6ed9-6b49-47dd-fcad-d959daddde16",
        "colab": {
          "base_uri": "https://localhost:8080/"
        }
      },
      "source": [
        "data.isnull().any()"
      ],
      "execution_count": 33,
      "outputs": [
        {
          "output_type": "execute_result",
          "data": {
            "text/plain": [
              "Fisical Year            False\n",
              "Workshop Name           False\n",
              "National paticipants    False\n",
              "paticipants             False\n",
              "dtype: bool"
            ]
          },
          "metadata": {},
          "execution_count": 33
        }
      ]
    },
    {
      "cell_type": "markdown",
      "metadata": {
        "id": "FlIztUNZI31Q"
      },
      "source": [
        "พบว่าในข้อมูลไม่มี missing Values ข้อมูลเป็น False เเปลว่าถูกหมดเเล้ว ดังนั้นไม่ต้องทำ Hadling Missing Value"
      ]
    },
    {
      "cell_type": "code",
      "metadata": {
        "id": "daixhAL6JMhe",
        "outputId": "ba469ea1-de05-4d2e-934b-56d27bd4038d",
        "colab": {
          "base_uri": "https://localhost:8080/",
          "height": 400
        }
      },
      "source": [
        "###ลองทำ Hadling Missing Value\n",
        "plt.boxplot(data['paticipants'].dropna())"
      ],
      "execution_count": 35,
      "outputs": [
        {
          "output_type": "execute_result",
          "data": {
            "text/plain": [
              "{'boxes': [<matplotlib.lines.Line2D at 0x7f24064f3450>],\n",
              " 'caps': [<matplotlib.lines.Line2D at 0x7f24064f94d0>,\n",
              "  <matplotlib.lines.Line2D at 0x7f24064f9a10>],\n",
              " 'fliers': [<matplotlib.lines.Line2D at 0x7f2406501510>],\n",
              " 'means': [],\n",
              " 'medians': [<matplotlib.lines.Line2D at 0x7f24064f9f90>],\n",
              " 'whiskers': [<matplotlib.lines.Line2D at 0x7f24064f3a10>,\n",
              "  <matplotlib.lines.Line2D at 0x7f24064f3f50>]}"
            ]
          },
          "metadata": {},
          "execution_count": 35
        },
        {
          "output_type": "display_data",
          "data": {
            "image/png": "[encoded data removed]",
            "text/plain": [
              "<Figure size 432x288 with 1 Axes>"
            ]
          },
          "metadata": {
            "needs_background": "light"
          }
        }
      ]
    },
    {
      "cell_type": "code",
      "metadata": {
        "id": "iqvW-qgyJe17",
        "outputId": "9a28737e-5874-4bbb-dc82-378f539e5ce5",
        "colab": {
          "base_uri": "https://localhost:8080/",
          "height": 416
        }
      },
      "source": [
        "data.dropna()"
      ],
      "execution_count": 36,
      "outputs": [
        {
          "output_type": "execute_result",
          "data": {
            "text/html": [
              "<div>\n",
              "<style scoped>\n",
              "    .dataframe tbody tr th:only-of-type {\n",
              "        vertical-align: middle;\n",
              "    }\n",
              "\n",
              "    .dataframe tbody tr th {\n",
              "        vertical-align: top;\n",
              "    }\n",
              "\n",
              "    .dataframe thead th {\n",
              "        text-align: right;\n",
              "    }\n",
              "</style>\n",
              "<table border=\"1\" class=\"dataframe\">\n",
              "  <thead>\n",
              "    <tr style=\"text-align: right;\">\n",
              "      <th></th>\n",
              "      <th>Fisical Year</th>\n",
              "      <th>Workshop Name</th>\n",
              "      <th>National paticipants</th>\n",
              "      <th>paticipants</th>\n",
              "    </tr>\n",
              "  </thead>\n",
              "  <tbody>\n",
              "    <tr>\n",
              "      <th>0</th>\n",
              "      <td>2010</td>\n",
              "      <td>ASEAN Workshops on Synchrotron Techniques</td>\n",
              "      <td>Thai</td>\n",
              "      <td>128</td>\n",
              "    </tr>\n",
              "    <tr>\n",
              "      <th>1</th>\n",
              "      <td>2010</td>\n",
              "      <td>ASEAN Workshops on Synchrotron Techniques</td>\n",
              "      <td>ASEN</td>\n",
              "      <td>7</td>\n",
              "    </tr>\n",
              "    <tr>\n",
              "      <th>2</th>\n",
              "      <td>2011</td>\n",
              "      <td>ASEAN Workshops on Synchrotron Techniques</td>\n",
              "      <td>Thai</td>\n",
              "      <td>148</td>\n",
              "    </tr>\n",
              "    <tr>\n",
              "      <th>3</th>\n",
              "      <td>2011</td>\n",
              "      <td>ASEAN Workshops on Synchrotron Techniques</td>\n",
              "      <td>ASEN</td>\n",
              "      <td>8</td>\n",
              "    </tr>\n",
              "    <tr>\n",
              "      <th>4</th>\n",
              "      <td>2011</td>\n",
              "      <td>ASEAN Workshops on Synchrotron Techniques</td>\n",
              "      <td>International</td>\n",
              "      <td>6</td>\n",
              "    </tr>\n",
              "    <tr>\n",
              "      <th>...</th>\n",
              "      <td>...</td>\n",
              "      <td>...</td>\n",
              "      <td>...</td>\n",
              "      <td>...</td>\n",
              "    </tr>\n",
              "    <tr>\n",
              "      <th>77</th>\n",
              "      <td>2015</td>\n",
              "      <td>Annual User Meeting (AUM)</td>\n",
              "      <td>Thai</td>\n",
              "      <td>123</td>\n",
              "    </tr>\n",
              "    <tr>\n",
              "      <th>78</th>\n",
              "      <td>2016</td>\n",
              "      <td>Annual User Meeting (AUM)</td>\n",
              "      <td>Thai</td>\n",
              "      <td>187</td>\n",
              "    </tr>\n",
              "    <tr>\n",
              "      <th>79</th>\n",
              "      <td>2017</td>\n",
              "      <td>Annual User Meeting (AUM)</td>\n",
              "      <td>Thai</td>\n",
              "      <td>87</td>\n",
              "    </tr>\n",
              "    <tr>\n",
              "      <th>80</th>\n",
              "      <td>2018</td>\n",
              "      <td>Annual User Meeting (AUM)</td>\n",
              "      <td>Thai</td>\n",
              "      <td>138</td>\n",
              "    </tr>\n",
              "    <tr>\n",
              "      <th>81</th>\n",
              "      <td>2019</td>\n",
              "      <td>Annual User Meeting (AUM)</td>\n",
              "      <td>Thai</td>\n",
              "      <td>130</td>\n",
              "    </tr>\n",
              "  </tbody>\n",
              "</table>\n",
              "<p>82 rows × 4 columns</p>\n",
              "</div>"
            ],
            "text/plain": [
              "    Fisical Year   ... paticipants\n",
              "0            2010  ...         128\n",
              "1            2010  ...           7\n",
              "2            2011  ...         148\n",
              "3            2011  ...           8\n",
              "4            2011  ...           6\n",
              "..            ...  ...         ...\n",
              "77           2015  ...         123\n",
              "78           2016  ...         187\n",
              "79           2017  ...          87\n",
              "80           2018  ...         138\n",
              "81           2019  ...         130\n",
              "\n",
              "[82 rows x 4 columns]"
            ]
          },
          "metadata": {},
          "execution_count": 36
        }
      ]
    },
    {
      "cell_type": "code",
      "metadata": {
        "id": "dM6wqDyFJey5",
        "outputId": "07fb64df-8a59-4a19-f077-b62edc1f1ce3",
        "colab": {
          "base_uri": "https://localhost:8080/"
        }
      },
      "source": [
        "data.dropna().shape"
      ],
      "execution_count": 37,
      "outputs": [
        {
          "output_type": "execute_result",
          "data": {
            "text/plain": [
              "(82, 4)"
            ]
          },
          "metadata": {},
          "execution_count": 37
        }
      ]
    },
    {
      "cell_type": "code",
      "metadata": {
        "id": "DaE5kZBWJew6",
        "outputId": "657105c3-059e-4557-c40a-0a15ab91ec9d",
        "colab": {
          "base_uri": "https://localhost:8080/"
        }
      },
      "source": [
        "data.dropna().shape[0]"
      ],
      "execution_count": 39,
      "outputs": [
        {
          "output_type": "execute_result",
          "data": {
            "text/plain": [
              "82"
            ]
          },
          "metadata": {},
          "execution_count": 39
        }
      ]
    },
    {
      "cell_type": "markdown",
      "metadata": {
        "id": "RaWdWF4DKKun"
      },
      "source": [
        "เเละเมื่อไม่ได้เเก้ missing เเล้ว พอทำ dropna() ข้อมูลจึงเท่าเดิมเพราะไม่มีค่า missing "
      ]
    },
    {
      "cell_type": "code",
      "metadata": {
        "id": "Pvcs9jQAJeu6"
      },
      "source": [
        ""
      ],
      "execution_count": null,
      "outputs": []
    },
    {
      "cell_type": "markdown",
      "metadata": {
        "id": "qk9szlRUJFwH"
      },
      "source": [
        "##data2"
      ]
    },
    {
      "cell_type": "code",
      "metadata": {
        "colab": {
          "base_uri": "https://localhost:8080/",
          "height": 416
        },
        "id": "Y7Xc3aX0UMWd",
        "outputId": "189c409a-be61-461a-fe46-9707fed14083"
      },
      "source": [
        "data2 = pd.read_csv(os.path.join(path,'summary_beamtime-proposals-research-clusters.csv'))\n",
        "data2"
      ],
      "execution_count": 21,
      "outputs": [
        {
          "output_type": "execute_result",
          "data": {
            "text/html": [
              "<div>\n",
              "<style scoped>\n",
              "    .dataframe tbody tr th:only-of-type {\n",
              "        vertical-align: middle;\n",
              "    }\n",
              "\n",
              "    .dataframe tbody tr th {\n",
              "        vertical-align: top;\n",
              "    }\n",
              "\n",
              "    .dataframe thead th {\n",
              "        text-align: right;\n",
              "    }\n",
              "</style>\n",
              "<table border=\"1\" class=\"dataframe\">\n",
              "  <thead>\n",
              "    <tr style=\"text-align: right;\">\n",
              "      <th></th>\n",
              "      <th>Fiscal Year</th>\n",
              "      <th>Research Clusters</th>\n",
              "      <th>Beamline</th>\n",
              "      <th>Proposals</th>\n",
              "    </tr>\n",
              "  </thead>\n",
              "  <tbody>\n",
              "    <tr>\n",
              "      <th>0</th>\n",
              "      <td>2017</td>\n",
              "      <td>Materials Science and Engineering</td>\n",
              "      <td>BL1.1W MXT</td>\n",
              "      <td>17</td>\n",
              "    </tr>\n",
              "    <tr>\n",
              "      <th>1</th>\n",
              "      <td>2017</td>\n",
              "      <td>Chemistry</td>\n",
              "      <td>BL1.1W MXT</td>\n",
              "      <td>3</td>\n",
              "    </tr>\n",
              "    <tr>\n",
              "      <th>2</th>\n",
              "      <td>2017</td>\n",
              "      <td>Biological and Life Science</td>\n",
              "      <td>BL1.1W MXT</td>\n",
              "      <td>1</td>\n",
              "    </tr>\n",
              "    <tr>\n",
              "      <th>3</th>\n",
              "      <td>2017</td>\n",
              "      <td>Earth Science, Gemology and Archeology</td>\n",
              "      <td>BL1.1W MXT</td>\n",
              "      <td>9</td>\n",
              "    </tr>\n",
              "    <tr>\n",
              "      <th>4</th>\n",
              "      <td>2017</td>\n",
              "      <td>Environmental Science</td>\n",
              "      <td>BL1.1W MXT</td>\n",
              "      <td>1</td>\n",
              "    </tr>\n",
              "    <tr>\n",
              "      <th>...</th>\n",
              "      <td>...</td>\n",
              "      <td>...</td>\n",
              "      <td>...</td>\n",
              "      <td>...</td>\n",
              "    </tr>\n",
              "    <tr>\n",
              "      <th>333</th>\n",
              "      <td>2020</td>\n",
              "      <td>Environmental Science</td>\n",
              "      <td>BL8 XAS</td>\n",
              "      <td>3</td>\n",
              "    </tr>\n",
              "    <tr>\n",
              "      <th>334</th>\n",
              "      <td>2020</td>\n",
              "      <td>Polymers</td>\n",
              "      <td>BL8 XAS</td>\n",
              "      <td>4</td>\n",
              "    </tr>\n",
              "    <tr>\n",
              "      <th>335</th>\n",
              "      <td>2020</td>\n",
              "      <td>Surface, Interface and Thin Films</td>\n",
              "      <td>BL8 XAS</td>\n",
              "      <td>6</td>\n",
              "    </tr>\n",
              "    <tr>\n",
              "      <th>336</th>\n",
              "      <td>2020</td>\n",
              "      <td>Food and Agricutural Science</td>\n",
              "      <td>BL8 XAS</td>\n",
              "      <td>3</td>\n",
              "    </tr>\n",
              "    <tr>\n",
              "      <th>337</th>\n",
              "      <td>2020</td>\n",
              "      <td>Biological and Life Science</td>\n",
              "      <td>BL8 XAS</td>\n",
              "      <td>1</td>\n",
              "    </tr>\n",
              "  </tbody>\n",
              "</table>\n",
              "<p>338 rows × 4 columns</p>\n",
              "</div>"
            ],
            "text/plain": [
              "     Fiscal Year   ... Proposals\n",
              "0            2017  ...        17\n",
              "1            2017  ...         3\n",
              "2            2017  ...         1\n",
              "3            2017  ...         9\n",
              "4            2017  ...         1\n",
              "..            ...  ...       ...\n",
              "333          2020  ...         3\n",
              "334          2020  ...         4\n",
              "335          2020  ...         6\n",
              "336          2020  ...         3\n",
              "337          2020  ...         1\n",
              "\n",
              "[338 rows x 4 columns]"
            ]
          },
          "metadata": {},
          "execution_count": 21
        }
      ]
    },
    {
      "cell_type": "code",
      "metadata": {
        "id": "7PMaNsMSK4CX",
        "outputId": "baaad473-505d-4327-9fe8-6cc9bf1c7ebc",
        "colab": {
          "base_uri": "https://localhost:8080/"
        }
      },
      "source": [
        "data2.shape"
      ],
      "execution_count": 41,
      "outputs": [
        {
          "output_type": "execute_result",
          "data": {
            "text/plain": [
              "(338, 4)"
            ]
          },
          "metadata": {},
          "execution_count": 41
        }
      ]
    },
    {
      "cell_type": "code",
      "metadata": {
        "id": "ByJwiDkYK3-_",
        "outputId": "c8e27ad9-4932-43f8-b703-a0d097f1340a",
        "colab": {
          "base_uri": "https://localhost:8080/",
          "height": 295
        }
      },
      "source": [
        "data2.describe()"
      ],
      "execution_count": 42,
      "outputs": [
        {
          "output_type": "execute_result",
          "data": {
            "text/html": [
              "<div>\n",
              "<style scoped>\n",
              "    .dataframe tbody tr th:only-of-type {\n",
              "        vertical-align: middle;\n",
              "    }\n",
              "\n",
              "    .dataframe tbody tr th {\n",
              "        vertical-align: top;\n",
              "    }\n",
              "\n",
              "    .dataframe thead th {\n",
              "        text-align: right;\n",
              "    }\n",
              "</style>\n",
              "<table border=\"1\" class=\"dataframe\">\n",
              "  <thead>\n",
              "    <tr style=\"text-align: right;\">\n",
              "      <th></th>\n",
              "      <th>Fiscal Year</th>\n",
              "      <th>Proposals</th>\n",
              "    </tr>\n",
              "  </thead>\n",
              "  <tbody>\n",
              "    <tr>\n",
              "      <th>count</th>\n",
              "      <td>338.000000</td>\n",
              "      <td>338.000000</td>\n",
              "    </tr>\n",
              "    <tr>\n",
              "      <th>mean</th>\n",
              "      <td>2018.156805</td>\n",
              "      <td>6.588757</td>\n",
              "    </tr>\n",
              "    <tr>\n",
              "      <th>std</th>\n",
              "      <td>1.376670</td>\n",
              "      <td>8.317483</td>\n",
              "    </tr>\n",
              "    <tr>\n",
              "      <th>min</th>\n",
              "      <td>2016.000000</td>\n",
              "      <td>1.000000</td>\n",
              "    </tr>\n",
              "    <tr>\n",
              "      <th>25%</th>\n",
              "      <td>2017.000000</td>\n",
              "      <td>1.000000</td>\n",
              "    </tr>\n",
              "    <tr>\n",
              "      <th>50%</th>\n",
              "      <td>2018.000000</td>\n",
              "      <td>4.000000</td>\n",
              "    </tr>\n",
              "    <tr>\n",
              "      <th>75%</th>\n",
              "      <td>2019.000000</td>\n",
              "      <td>8.000000</td>\n",
              "    </tr>\n",
              "    <tr>\n",
              "      <th>max</th>\n",
              "      <td>2020.000000</td>\n",
              "      <td>63.000000</td>\n",
              "    </tr>\n",
              "  </tbody>\n",
              "</table>\n",
              "</div>"
            ],
            "text/plain": [
              "       Fiscal Year    Proposals\n",
              "count    338.000000  338.000000\n",
              "mean    2018.156805    6.588757\n",
              "std        1.376670    8.317483\n",
              "min     2016.000000    1.000000\n",
              "25%     2017.000000    1.000000\n",
              "50%     2018.000000    4.000000\n",
              "75%     2019.000000    8.000000\n",
              "max     2020.000000   63.000000"
            ]
          },
          "metadata": {},
          "execution_count": 42
        }
      ]
    },
    {
      "cell_type": "code",
      "metadata": {
        "id": "UQGX4sIBK303"
      },
      "source": [
        "from matplotlib import pyplot as plt"
      ],
      "execution_count": 43,
      "outputs": []
    },
    {
      "cell_type": "code",
      "metadata": {
        "id": "xOk0H-MpK3xi",
        "outputId": "fd420ac0-b75d-4afa-ebea-f1fc35a8e45d",
        "colab": {
          "base_uri": "https://localhost:8080/",
          "height": 399
        }
      },
      "source": [
        "plt.boxplot(data2['Proposals'])"
      ],
      "execution_count": 46,
      "outputs": [
        {
          "output_type": "execute_result",
          "data": {
            "text/plain": [
              "{'boxes': [<matplotlib.lines.Line2D at 0x7f2406363e10>],\n",
              " 'caps': [<matplotlib.lines.Line2D at 0x7f240636ae90>,\n",
              "  <matplotlib.lines.Line2D at 0x7f2406371410>],\n",
              " 'fliers': [<matplotlib.lines.Line2D at 0x7f2406371ed0>],\n",
              " 'means': [],\n",
              " 'medians': [<matplotlib.lines.Line2D at 0x7f2406371990>],\n",
              " 'whiskers': [<matplotlib.lines.Line2D at 0x7f240636a410>,\n",
              "  <matplotlib.lines.Line2D at 0x7f240636a950>]}"
            ]
          },
          "metadata": {},
          "execution_count": 46
        },
        {
          "output_type": "display_data",
          "data": {
            "image/png": "[encoded data removed]",
            "text/plain": [
              "<Figure size 432x288 with 1 Axes>"
            ]
          },
          "metadata": {
            "needs_background": "light"
          }
        }
      ]
    },
    {
      "cell_type": "markdown",
      "metadata": {
        "id": "ryqGLDMOLiju"
      },
      "source": [
        "ตรวจสอบ missing data2"
      ]
    },
    {
      "cell_type": "code",
      "metadata": {
        "id": "nRPg5XoULiEL",
        "outputId": "682ea2e8-f327-4b4b-8777-800d945a17d5",
        "colab": {
          "base_uri": "https://localhost:8080/",
          "height": 416
        }
      },
      "source": [
        "data2.isnull()"
      ],
      "execution_count": 48,
      "outputs": [
        {
          "output_type": "execute_result",
          "data": {
            "text/html": [
              "<div>\n",
              "<style scoped>\n",
              "    .dataframe tbody tr th:only-of-type {\n",
              "        vertical-align: middle;\n",
              "    }\n",
              "\n",
              "    .dataframe tbody tr th {\n",
              "        vertical-align: top;\n",
              "    }\n",
              "\n",
              "    .dataframe thead th {\n",
              "        text-align: right;\n",
              "    }\n",
              "</style>\n",
              "<table border=\"1\" class=\"dataframe\">\n",
              "  <thead>\n",
              "    <tr style=\"text-align: right;\">\n",
              "      <th></th>\n",
              "      <th>Fiscal Year</th>\n",
              "      <th>Research Clusters</th>\n",
              "      <th>Beamline</th>\n",
              "      <th>Proposals</th>\n",
              "    </tr>\n",
              "  </thead>\n",
              "  <tbody>\n",
              "    <tr>\n",
              "      <th>0</th>\n",
              "      <td>False</td>\n",
              "      <td>False</td>\n",
              "      <td>False</td>\n",
              "      <td>False</td>\n",
              "    </tr>\n",
              "    <tr>\n",
              "      <th>1</th>\n",
              "      <td>False</td>\n",
              "      <td>False</td>\n",
              "      <td>False</td>\n",
              "      <td>False</td>\n",
              "    </tr>\n",
              "    <tr>\n",
              "      <th>2</th>\n",
              "      <td>False</td>\n",
              "      <td>False</td>\n",
              "      <td>False</td>\n",
              "      <td>False</td>\n",
              "    </tr>\n",
              "    <tr>\n",
              "      <th>3</th>\n",
              "      <td>False</td>\n",
              "      <td>False</td>\n",
              "      <td>False</td>\n",
              "      <td>False</td>\n",
              "    </tr>\n",
              "    <tr>\n",
              "      <th>4</th>\n",
              "      <td>False</td>\n",
              "      <td>False</td>\n",
              "      <td>False</td>\n",
              "      <td>False</td>\n",
              "    </tr>\n",
              "    <tr>\n",
              "      <th>...</th>\n",
              "      <td>...</td>\n",
              "      <td>...</td>\n",
              "      <td>...</td>\n",
              "      <td>...</td>\n",
              "    </tr>\n",
              "    <tr>\n",
              "      <th>333</th>\n",
              "      <td>False</td>\n",
              "      <td>False</td>\n",
              "      <td>False</td>\n",
              "      <td>False</td>\n",
              "    </tr>\n",
              "    <tr>\n",
              "      <th>334</th>\n",
              "      <td>False</td>\n",
              "      <td>False</td>\n",
              "      <td>False</td>\n",
              "      <td>False</td>\n",
              "    </tr>\n",
              "    <tr>\n",
              "      <th>335</th>\n",
              "      <td>False</td>\n",
              "      <td>False</td>\n",
              "      <td>False</td>\n",
              "      <td>False</td>\n",
              "    </tr>\n",
              "    <tr>\n",
              "      <th>336</th>\n",
              "      <td>False</td>\n",
              "      <td>False</td>\n",
              "      <td>False</td>\n",
              "      <td>False</td>\n",
              "    </tr>\n",
              "    <tr>\n",
              "      <th>337</th>\n",
              "      <td>False</td>\n",
              "      <td>False</td>\n",
              "      <td>False</td>\n",
              "      <td>False</td>\n",
              "    </tr>\n",
              "  </tbody>\n",
              "</table>\n",
              "<p>338 rows × 4 columns</p>\n",
              "</div>"
            ],
            "text/plain": [
              "     Fiscal Year   Research Clusters  Beamline  Proposals\n",
              "0           False              False     False      False\n",
              "1           False              False     False      False\n",
              "2           False              False     False      False\n",
              "3           False              False     False      False\n",
              "4           False              False     False      False\n",
              "..            ...                ...       ...        ...\n",
              "333         False              False     False      False\n",
              "334         False              False     False      False\n",
              "335         False              False     False      False\n",
              "336         False              False     False      False\n",
              "337         False              False     False      False\n",
              "\n",
              "[338 rows x 4 columns]"
            ]
          },
          "metadata": {},
          "execution_count": 48
        }
      ]
    },
    {
      "cell_type": "code",
      "metadata": {
        "id": "WdFfVG15K3vk",
        "outputId": "20eb3373-fa77-47cd-abe6-db824e84f2ca",
        "colab": {
          "base_uri": "https://localhost:8080/"
        }
      },
      "source": [
        "data2.isnull().any()"
      ],
      "execution_count": 50,
      "outputs": [
        {
          "output_type": "execute_result",
          "data": {
            "text/plain": [
              "Fiscal Year          False\n",
              "Research Clusters    False\n",
              "Beamline             False\n",
              "Proposals            False\n",
              "dtype: bool"
            ]
          },
          "metadata": {},
          "execution_count": 50
        }
      ]
    },
    {
      "cell_type": "markdown",
      "metadata": {
        "id": "BiF2wfIcL2e9"
      },
      "source": [
        "data2 ไม่มี missing เหมือนกัน"
      ]
    },
    {
      "cell_type": "code",
      "metadata": {
        "id": "60Znao-0K3tZ",
        "outputId": "c3edc73f-bc88-4b51-ac15-623231555049",
        "colab": {
          "base_uri": "https://localhost:8080/",
          "height": 399
        }
      },
      "source": [
        "###ลองทำ Hadling Missing Value\n",
        "plt.boxplot(data2['Proposals'].dropna())"
      ],
      "execution_count": 51,
      "outputs": [
        {
          "output_type": "execute_result",
          "data": {
            "text/plain": [
              "{'boxes': [<matplotlib.lines.Line2D at 0x7f2406334150>],\n",
              " 'caps': [<matplotlib.lines.Line2D at 0x7f2406330ad0>,\n",
              "  <matplotlib.lines.Line2D at 0x7f240632a250>],\n",
              " 'fliers': [<matplotlib.lines.Line2D at 0x7f240632a810>],\n",
              " 'means': [],\n",
              " 'medians': [<matplotlib.lines.Line2D at 0x7f240632ab10>],\n",
              " 'whiskers': [<matplotlib.lines.Line2D at 0x7f24063341d0>,\n",
              "  <matplotlib.lines.Line2D at 0x7f24063303d0>]}"
            ]
          },
          "metadata": {},
          "execution_count": 51
        },
        {
          "output_type": "display_data",
          "data": {
            "image/png": "[encoded data removed]",
            "text/plain": [
              "<Figure size 432x288 with 1 Axes>"
            ]
          },
          "metadata": {
            "needs_background": "light"
          }
        }
      ]
    },
    {
      "cell_type": "code",
      "metadata": {
        "id": "zHW172CcMId1",
        "outputId": "eff904e8-04d3-43df-8c1f-607970985c9c",
        "colab": {
          "base_uri": "https://localhost:8080/",
          "height": 416
        }
      },
      "source": [
        "data2.dropna()"
      ],
      "execution_count": 52,
      "outputs": [
        {
          "output_type": "execute_result",
          "data": {
            "text/html": [
              "<div>\n",
              "<style scoped>\n",
              "    .dataframe tbody tr th:only-of-type {\n",
              "        vertical-align: middle;\n",
              "    }\n",
              "\n",
              "    .dataframe tbody tr th {\n",
              "        vertical-align: top;\n",
              "    }\n",
              "\n",
              "    .dataframe thead th {\n",
              "        text-align: right;\n",
              "    }\n",
              "</style>\n",
              "<table border=\"1\" class=\"dataframe\">\n",
              "  <thead>\n",
              "    <tr style=\"text-align: right;\">\n",
              "      <th></th>\n",
              "      <th>Fiscal Year</th>\n",
              "      <th>Research Clusters</th>\n",
              "      <th>Beamline</th>\n",
              "      <th>Proposals</th>\n",
              "    </tr>\n",
              "  </thead>\n",
              "  <tbody>\n",
              "    <tr>\n",
              "      <th>0</th>\n",
              "      <td>2017</td>\n",
              "      <td>Materials Science and Engineering</td>\n",
              "      <td>BL1.1W MXT</td>\n",
              "      <td>17</td>\n",
              "    </tr>\n",
              "    <tr>\n",
              "      <th>1</th>\n",
              "      <td>2017</td>\n",
              "      <td>Chemistry</td>\n",
              "      <td>BL1.1W MXT</td>\n",
              "      <td>3</td>\n",
              "    </tr>\n",
              "    <tr>\n",
              "      <th>2</th>\n",
              "      <td>2017</td>\n",
              "      <td>Biological and Life Science</td>\n",
              "      <td>BL1.1W MXT</td>\n",
              "      <td>1</td>\n",
              "    </tr>\n",
              "    <tr>\n",
              "      <th>3</th>\n",
              "      <td>2017</td>\n",
              "      <td>Earth Science, Gemology and Archeology</td>\n",
              "      <td>BL1.1W MXT</td>\n",
              "      <td>9</td>\n",
              "    </tr>\n",
              "    <tr>\n",
              "      <th>4</th>\n",
              "      <td>2017</td>\n",
              "      <td>Environmental Science</td>\n",
              "      <td>BL1.1W MXT</td>\n",
              "      <td>1</td>\n",
              "    </tr>\n",
              "    <tr>\n",
              "      <th>...</th>\n",
              "      <td>...</td>\n",
              "      <td>...</td>\n",
              "      <td>...</td>\n",
              "      <td>...</td>\n",
              "    </tr>\n",
              "    <tr>\n",
              "      <th>333</th>\n",
              "      <td>2020</td>\n",
              "      <td>Environmental Science</td>\n",
              "      <td>BL8 XAS</td>\n",
              "      <td>3</td>\n",
              "    </tr>\n",
              "    <tr>\n",
              "      <th>334</th>\n",
              "      <td>2020</td>\n",
              "      <td>Polymers</td>\n",
              "      <td>BL8 XAS</td>\n",
              "      <td>4</td>\n",
              "    </tr>\n",
              "    <tr>\n",
              "      <th>335</th>\n",
              "      <td>2020</td>\n",
              "      <td>Surface, Interface and Thin Films</td>\n",
              "      <td>BL8 XAS</td>\n",
              "      <td>6</td>\n",
              "    </tr>\n",
              "    <tr>\n",
              "      <th>336</th>\n",
              "      <td>2020</td>\n",
              "      <td>Food and Agricutural Science</td>\n",
              "      <td>BL8 XAS</td>\n",
              "      <td>3</td>\n",
              "    </tr>\n",
              "    <tr>\n",
              "      <th>337</th>\n",
              "      <td>2020</td>\n",
              "      <td>Biological and Life Science</td>\n",
              "      <td>BL8 XAS</td>\n",
              "      <td>1</td>\n",
              "    </tr>\n",
              "  </tbody>\n",
              "</table>\n",
              "<p>338 rows × 4 columns</p>\n",
              "</div>"
            ],
            "text/plain": [
              "     Fiscal Year   ... Proposals\n",
              "0            2017  ...        17\n",
              "1            2017  ...         3\n",
              "2            2017  ...         1\n",
              "3            2017  ...         9\n",
              "4            2017  ...         1\n",
              "..            ...  ...       ...\n",
              "333          2020  ...         3\n",
              "334          2020  ...         4\n",
              "335          2020  ...         6\n",
              "336          2020  ...         3\n",
              "337          2020  ...         1\n",
              "\n",
              "[338 rows x 4 columns]"
            ]
          },
          "metadata": {},
          "execution_count": 52
        }
      ]
    },
    {
      "cell_type": "code",
      "metadata": {
        "id": "S57LB92rMRL-",
        "outputId": "20ac2de8-4036-4f77-ce7a-b92bf4160e39",
        "colab": {
          "base_uri": "https://localhost:8080/"
        }
      },
      "source": [
        "data2.dropna().shape"
      ],
      "execution_count": 53,
      "outputs": [
        {
          "output_type": "execute_result",
          "data": {
            "text/plain": [
              "(338, 4)"
            ]
          },
          "metadata": {},
          "execution_count": 53
        }
      ]
    },
    {
      "cell_type": "markdown",
      "metadata": {
        "id": "naBjzWNKMdfr"
      },
      "source": [
        "เเละเมื่อไม่ได้เเก้ missing เเล้ว พอทำ dropna() ข้อมูลจึงเท่าเดิมเพราะไม่มีค่า missing"
      ]
    },
    {
      "cell_type": "code",
      "metadata": {
        "id": "seGjhouKMIau"
      },
      "source": [
        ""
      ],
      "execution_count": null,
      "outputs": []
    },
    {
      "cell_type": "markdown",
      "metadata": {
        "id": "5RUr4GiiJI82"
      },
      "source": [
        "##data3"
      ]
    },
    {
      "cell_type": "code",
      "metadata": {
        "colab": {
          "base_uri": "https://localhost:8080/",
          "height": 416
        },
        "id": "afTI0YX_UVLV",
        "outputId": "f993ab9e-2127-4fb2-c467-ca5ae4ce30ef"
      },
      "source": [
        "data3 =  pd.read_csv(os.path.join(path,'summary_research_publications.csv'))\n",
        "data3"
      ],
      "execution_count": 22,
      "outputs": [
        {
          "output_type": "execute_result",
          "data": {
            "text/html": [
              "<div>\n",
              "<style scoped>\n",
              "    .dataframe tbody tr th:only-of-type {\n",
              "        vertical-align: middle;\n",
              "    }\n",
              "\n",
              "    .dataframe tbody tr th {\n",
              "        vertical-align: top;\n",
              "    }\n",
              "\n",
              "    .dataframe thead th {\n",
              "        text-align: right;\n",
              "    }\n",
              "</style>\n",
              "<table border=\"1\" class=\"dataframe\">\n",
              "  <thead>\n",
              "    <tr style=\"text-align: right;\">\n",
              "      <th></th>\n",
              "      <th>Fiscal Year</th>\n",
              "      <th>Research Clusters</th>\n",
              "      <th>Beamline</th>\n",
              "      <th>Publications</th>\n",
              "    </tr>\n",
              "  </thead>\n",
              "  <tbody>\n",
              "    <tr>\n",
              "      <th>0</th>\n",
              "      <td>2017</td>\n",
              "      <td>Materials Science and Engineering</td>\n",
              "      <td>BL1.1W MXT</td>\n",
              "      <td>1</td>\n",
              "    </tr>\n",
              "    <tr>\n",
              "      <th>1</th>\n",
              "      <td>2017</td>\n",
              "      <td>Chemistry</td>\n",
              "      <td>BL1.1W MXT</td>\n",
              "      <td>1</td>\n",
              "    </tr>\n",
              "    <tr>\n",
              "      <th>2</th>\n",
              "      <td>2018</td>\n",
              "      <td>Materials Science and Engineering</td>\n",
              "      <td>BL1.1W MXT</td>\n",
              "      <td>4</td>\n",
              "    </tr>\n",
              "    <tr>\n",
              "      <th>3</th>\n",
              "      <td>2018</td>\n",
              "      <td>Food and Agricutural Science</td>\n",
              "      <td>BL1.1W MXT</td>\n",
              "      <td>1</td>\n",
              "    </tr>\n",
              "    <tr>\n",
              "      <th>4</th>\n",
              "      <td>2019</td>\n",
              "      <td>Materials Science and Engineering</td>\n",
              "      <td>BL1.1W MXT</td>\n",
              "      <td>9</td>\n",
              "    </tr>\n",
              "    <tr>\n",
              "      <th>...</th>\n",
              "      <td>...</td>\n",
              "      <td>...</td>\n",
              "      <td>...</td>\n",
              "      <td>...</td>\n",
              "    </tr>\n",
              "    <tr>\n",
              "      <th>191</th>\n",
              "      <td>2020</td>\n",
              "      <td>Materials Science and Engineering</td>\n",
              "      <td>BL8 XAS</td>\n",
              "      <td>18</td>\n",
              "    </tr>\n",
              "    <tr>\n",
              "      <th>192</th>\n",
              "      <td>2020</td>\n",
              "      <td>Chemistry</td>\n",
              "      <td>BL8 XAS</td>\n",
              "      <td>5</td>\n",
              "    </tr>\n",
              "    <tr>\n",
              "      <th>193</th>\n",
              "      <td>2020</td>\n",
              "      <td>Environmental Science</td>\n",
              "      <td>BL8 XAS</td>\n",
              "      <td>4</td>\n",
              "    </tr>\n",
              "    <tr>\n",
              "      <th>194</th>\n",
              "      <td>2020</td>\n",
              "      <td>Earth Science, Gemology and Archeology</td>\n",
              "      <td>BL8 XAS</td>\n",
              "      <td>6</td>\n",
              "    </tr>\n",
              "    <tr>\n",
              "      <th>195</th>\n",
              "      <td>2020</td>\n",
              "      <td>Surface, Interface and Thin films</td>\n",
              "      <td>BL8 XAS</td>\n",
              "      <td>3</td>\n",
              "    </tr>\n",
              "  </tbody>\n",
              "</table>\n",
              "<p>196 rows × 4 columns</p>\n",
              "</div>"
            ],
            "text/plain": [
              "     Fiscal Year   ... Publications\n",
              "0            2017  ...            1\n",
              "1            2017  ...            1\n",
              "2            2018  ...            4\n",
              "3            2018  ...            1\n",
              "4            2019  ...            9\n",
              "..            ...  ...          ...\n",
              "191          2020  ...           18\n",
              "192          2020  ...            5\n",
              "193          2020  ...            4\n",
              "194          2020  ...            6\n",
              "195          2020  ...            3\n",
              "\n",
              "[196 rows x 4 columns]"
            ]
          },
          "metadata": {},
          "execution_count": 22
        }
      ]
    },
    {
      "cell_type": "code",
      "metadata": {
        "id": "wfVP5v4dUogV",
        "outputId": "6e6cae89-a70d-45ee-a183-f395b3ca5e15",
        "colab": {
          "base_uri": "https://localhost:8080/"
        }
      },
      "source": [
        "data3.shape"
      ],
      "execution_count": 54,
      "outputs": [
        {
          "output_type": "execute_result",
          "data": {
            "text/plain": [
              "(196, 4)"
            ]
          },
          "metadata": {},
          "execution_count": 54
        }
      ]
    },
    {
      "cell_type": "code",
      "metadata": {
        "id": "mIe-kA3DMhrl",
        "outputId": "0b87cb96-3196-4584-a807-b1cc966b7d8d",
        "colab": {
          "base_uri": "https://localhost:8080/",
          "height": 295
        }
      },
      "source": [
        "data3.describe()"
      ],
      "execution_count": 55,
      "outputs": [
        {
          "output_type": "execute_result",
          "data": {
            "text/html": [
              "<div>\n",
              "<style scoped>\n",
              "    .dataframe tbody tr th:only-of-type {\n",
              "        vertical-align: middle;\n",
              "    }\n",
              "\n",
              "    .dataframe tbody tr th {\n",
              "        vertical-align: top;\n",
              "    }\n",
              "\n",
              "    .dataframe thead th {\n",
              "        text-align: right;\n",
              "    }\n",
              "</style>\n",
              "<table border=\"1\" class=\"dataframe\">\n",
              "  <thead>\n",
              "    <tr style=\"text-align: right;\">\n",
              "      <th></th>\n",
              "      <th>Fiscal Year</th>\n",
              "      <th>Publications</th>\n",
              "    </tr>\n",
              "  </thead>\n",
              "  <tbody>\n",
              "    <tr>\n",
              "      <th>count</th>\n",
              "      <td>196.000000</td>\n",
              "      <td>196.000000</td>\n",
              "    </tr>\n",
              "    <tr>\n",
              "      <th>mean</th>\n",
              "      <td>2018.260204</td>\n",
              "      <td>4.494898</td>\n",
              "    </tr>\n",
              "    <tr>\n",
              "      <th>std</th>\n",
              "      <td>1.431746</td>\n",
              "      <td>6.128954</td>\n",
              "    </tr>\n",
              "    <tr>\n",
              "      <th>min</th>\n",
              "      <td>2016.000000</td>\n",
              "      <td>1.000000</td>\n",
              "    </tr>\n",
              "    <tr>\n",
              "      <th>25%</th>\n",
              "      <td>2017.000000</td>\n",
              "      <td>1.000000</td>\n",
              "    </tr>\n",
              "    <tr>\n",
              "      <th>50%</th>\n",
              "      <td>2018.000000</td>\n",
              "      <td>2.000000</td>\n",
              "    </tr>\n",
              "    <tr>\n",
              "      <th>75%</th>\n",
              "      <td>2020.000000</td>\n",
              "      <td>6.000000</td>\n",
              "    </tr>\n",
              "    <tr>\n",
              "      <th>max</th>\n",
              "      <td>2020.000000</td>\n",
              "      <td>37.000000</td>\n",
              "    </tr>\n",
              "  </tbody>\n",
              "</table>\n",
              "</div>"
            ],
            "text/plain": [
              "       Fiscal Year   Publications\n",
              "count    196.000000    196.000000\n",
              "mean    2018.260204      4.494898\n",
              "std        1.431746      6.128954\n",
              "min     2016.000000      1.000000\n",
              "25%     2017.000000      1.000000\n",
              "50%     2018.000000      2.000000\n",
              "75%     2020.000000      6.000000\n",
              "max     2020.000000     37.000000"
            ]
          },
          "metadata": {},
          "execution_count": 55
        }
      ]
    },
    {
      "cell_type": "code",
      "metadata": {
        "id": "HMDJTcVGMjr5"
      },
      "source": [
        "from matplotlib import pyplot as plt"
      ],
      "execution_count": 56,
      "outputs": []
    },
    {
      "cell_type": "code",
      "metadata": {
        "id": "Evf62pxhMnlz",
        "outputId": "d0c2f85f-e7b8-4962-b010-a3dc1e0e69dd",
        "colab": {
          "base_uri": "https://localhost:8080/",
          "height": 399
        }
      },
      "source": [
        "plt.boxplot(data3['Publications'])"
      ],
      "execution_count": 58,
      "outputs": [
        {
          "output_type": "execute_result",
          "data": {
            "text/plain": [
              "{'boxes': [<matplotlib.lines.Line2D at 0x7f24062db650>],\n",
              " 'caps': [<matplotlib.lines.Line2D at 0x7f24062c4d10>,\n",
              "  <matplotlib.lines.Line2D at 0x7f24062c4c90>],\n",
              " 'fliers': [<matplotlib.lines.Line2D at 0x7f24062d4b50>],\n",
              " 'means': [],\n",
              " 'medians': [<matplotlib.lines.Line2D at 0x7f24062d49d0>],\n",
              " 'whiskers': [<matplotlib.lines.Line2D at 0x7f24062db510>,\n",
              "  <matplotlib.lines.Line2D at 0x7f24062c4650>]}"
            ]
          },
          "metadata": {},
          "execution_count": 58
        },
        {
          "output_type": "display_data",
          "data": {
            "image/png": "[encoded data removed]",
            "text/plain": [
              "<Figure size 432x288 with 1 Axes>"
            ]
          },
          "metadata": {
            "needs_background": "light"
          }
        }
      ]
    },
    {
      "cell_type": "markdown",
      "metadata": {
        "id": "EtsmEiebM3zd"
      },
      "source": [
        "ตรวจสอบdata3 missing "
      ]
    },
    {
      "cell_type": "code",
      "metadata": {
        "id": "nnv9qmxPMyxp",
        "outputId": "9cc24961-d171-403b-c74f-29bc3fbf66ff",
        "colab": {
          "base_uri": "https://localhost:8080/",
          "height": 416
        }
      },
      "source": [
        "data3.isnull()"
      ],
      "execution_count": 65,
      "outputs": [
        {
          "output_type": "execute_result",
          "data": {
            "text/html": [
              "<div>\n",
              "<style scoped>\n",
              "    .dataframe tbody tr th:only-of-type {\n",
              "        vertical-align: middle;\n",
              "    }\n",
              "\n",
              "    .dataframe tbody tr th {\n",
              "        vertical-align: top;\n",
              "    }\n",
              "\n",
              "    .dataframe thead th {\n",
              "        text-align: right;\n",
              "    }\n",
              "</style>\n",
              "<table border=\"1\" class=\"dataframe\">\n",
              "  <thead>\n",
              "    <tr style=\"text-align: right;\">\n",
              "      <th></th>\n",
              "      <th>Fiscal Year</th>\n",
              "      <th>Research Clusters</th>\n",
              "      <th>Beamline</th>\n",
              "      <th>Publications</th>\n",
              "    </tr>\n",
              "  </thead>\n",
              "  <tbody>\n",
              "    <tr>\n",
              "      <th>0</th>\n",
              "      <td>False</td>\n",
              "      <td>False</td>\n",
              "      <td>False</td>\n",
              "      <td>False</td>\n",
              "    </tr>\n",
              "    <tr>\n",
              "      <th>1</th>\n",
              "      <td>False</td>\n",
              "      <td>False</td>\n",
              "      <td>False</td>\n",
              "      <td>False</td>\n",
              "    </tr>\n",
              "    <tr>\n",
              "      <th>2</th>\n",
              "      <td>False</td>\n",
              "      <td>False</td>\n",
              "      <td>False</td>\n",
              "      <td>False</td>\n",
              "    </tr>\n",
              "    <tr>\n",
              "      <th>3</th>\n",
              "      <td>False</td>\n",
              "      <td>False</td>\n",
              "      <td>False</td>\n",
              "      <td>False</td>\n",
              "    </tr>\n",
              "    <tr>\n",
              "      <th>4</th>\n",
              "      <td>False</td>\n",
              "      <td>False</td>\n",
              "      <td>False</td>\n",
              "      <td>False</td>\n",
              "    </tr>\n",
              "    <tr>\n",
              "      <th>...</th>\n",
              "      <td>...</td>\n",
              "      <td>...</td>\n",
              "      <td>...</td>\n",
              "      <td>...</td>\n",
              "    </tr>\n",
              "    <tr>\n",
              "      <th>191</th>\n",
              "      <td>False</td>\n",
              "      <td>False</td>\n",
              "      <td>False</td>\n",
              "      <td>False</td>\n",
              "    </tr>\n",
              "    <tr>\n",
              "      <th>192</th>\n",
              "      <td>False</td>\n",
              "      <td>False</td>\n",
              "      <td>False</td>\n",
              "      <td>False</td>\n",
              "    </tr>\n",
              "    <tr>\n",
              "      <th>193</th>\n",
              "      <td>False</td>\n",
              "      <td>False</td>\n",
              "      <td>False</td>\n",
              "      <td>False</td>\n",
              "    </tr>\n",
              "    <tr>\n",
              "      <th>194</th>\n",
              "      <td>False</td>\n",
              "      <td>False</td>\n",
              "      <td>False</td>\n",
              "      <td>False</td>\n",
              "    </tr>\n",
              "    <tr>\n",
              "      <th>195</th>\n",
              "      <td>False</td>\n",
              "      <td>False</td>\n",
              "      <td>False</td>\n",
              "      <td>False</td>\n",
              "    </tr>\n",
              "  </tbody>\n",
              "</table>\n",
              "<p>196 rows × 4 columns</p>\n",
              "</div>"
            ],
            "text/plain": [
              "     Fiscal Year   Research Clusters  Beamline  Publications\n",
              "0           False              False     False         False\n",
              "1           False              False     False         False\n",
              "2           False              False     False         False\n",
              "3           False              False     False         False\n",
              "4           False              False     False         False\n",
              "..            ...                ...       ...           ...\n",
              "191         False              False     False         False\n",
              "192         False              False     False         False\n",
              "193         False              False     False         False\n",
              "194         False              False     False         False\n",
              "195         False              False     False         False\n",
              "\n",
              "[196 rows x 4 columns]"
            ]
          },
          "metadata": {},
          "execution_count": 65
        }
      ]
    },
    {
      "cell_type": "code",
      "metadata": {
        "id": "afZNB1YpM_C1",
        "outputId": "88891da5-7b93-4f50-9913-83628b9dd68e",
        "colab": {
          "base_uri": "https://localhost:8080/"
        }
      },
      "source": [
        "data3.isnull().any()"
      ],
      "execution_count": 66,
      "outputs": [
        {
          "output_type": "execute_result",
          "data": {
            "text/plain": [
              "Fiscal Year          False\n",
              "Research Clusters    False\n",
              "Beamline             False\n",
              "Publications         False\n",
              "dtype: bool"
            ]
          },
          "metadata": {},
          "execution_count": 66
        }
      ]
    },
    {
      "cell_type": "markdown",
      "metadata": {
        "id": "rBSyefbxNI3A"
      },
      "source": [
        "data3ไม่มี missing "
      ]
    },
    {
      "cell_type": "code",
      "metadata": {
        "id": "NcHs3ErRNDdm",
        "outputId": "8b125c12-d4eb-46ff-901b-e65ab0ce893b",
        "colab": {
          "base_uri": "https://localhost:8080/",
          "height": 399
        }
      },
      "source": [
        "###ลองทำ Hadling Missing Value\n",
        "plt.boxplot(data3['Publications'].dropna())"
      ],
      "execution_count": 62,
      "outputs": [
        {
          "output_type": "execute_result",
          "data": {
            "text/plain": [
              "{'boxes': [<matplotlib.lines.Line2D at 0x7f240624ad50>],\n",
              " 'caps': [<matplotlib.lines.Line2D at 0x7f2406246250>,\n",
              "  <matplotlib.lines.Line2D at 0x7f2406246b50>],\n",
              " 'fliers': [<matplotlib.lines.Line2D at 0x7f240620e710>],\n",
              " 'means': [],\n",
              " 'medians': [<matplotlib.lines.Line2D at 0x7f240620e1d0>],\n",
              " 'whiskers': [<matplotlib.lines.Line2D at 0x7f240624a990>,\n",
              "  <matplotlib.lines.Line2D at 0x7f240624a410>]}"
            ]
          },
          "metadata": {},
          "execution_count": 62
        },
        {
          "output_type": "display_data",
          "data": {
            "image/png": "[encoded data removed]",
            "text/plain": [
              "<Figure size 432x288 with 1 Axes>"
            ]
          },
          "metadata": {
            "needs_background": "light"
          }
        }
      ]
    },
    {
      "cell_type": "code",
      "metadata": {
        "id": "XwhsXagVNaZX",
        "outputId": "76871181-a24c-49e5-ca3a-9eb32c8e828c",
        "colab": {
          "base_uri": "https://localhost:8080/",
          "height": 416
        }
      },
      "source": [
        "data3.dropna()"
      ],
      "execution_count": 63,
      "outputs": [
        {
          "output_type": "execute_result",
          "data": {
            "text/html": [
              "<div>\n",
              "<style scoped>\n",
              "    .dataframe tbody tr th:only-of-type {\n",
              "        vertical-align: middle;\n",
              "    }\n",
              "\n",
              "    .dataframe tbody tr th {\n",
              "        vertical-align: top;\n",
              "    }\n",
              "\n",
              "    .dataframe thead th {\n",
              "        text-align: right;\n",
              "    }\n",
              "</style>\n",
              "<table border=\"1\" class=\"dataframe\">\n",
              "  <thead>\n",
              "    <tr style=\"text-align: right;\">\n",
              "      <th></th>\n",
              "      <th>Fiscal Year</th>\n",
              "      <th>Research Clusters</th>\n",
              "      <th>Beamline</th>\n",
              "      <th>Publications</th>\n",
              "    </tr>\n",
              "  </thead>\n",
              "  <tbody>\n",
              "    <tr>\n",
              "      <th>0</th>\n",
              "      <td>2017</td>\n",
              "      <td>Materials Science and Engineering</td>\n",
              "      <td>BL1.1W MXT</td>\n",
              "      <td>1</td>\n",
              "    </tr>\n",
              "    <tr>\n",
              "      <th>1</th>\n",
              "      <td>2017</td>\n",
              "      <td>Chemistry</td>\n",
              "      <td>BL1.1W MXT</td>\n",
              "      <td>1</td>\n",
              "    </tr>\n",
              "    <tr>\n",
              "      <th>2</th>\n",
              "      <td>2018</td>\n",
              "      <td>Materials Science and Engineering</td>\n",
              "      <td>BL1.1W MXT</td>\n",
              "      <td>4</td>\n",
              "    </tr>\n",
              "    <tr>\n",
              "      <th>3</th>\n",
              "      <td>2018</td>\n",
              "      <td>Food and Agricutural Science</td>\n",
              "      <td>BL1.1W MXT</td>\n",
              "      <td>1</td>\n",
              "    </tr>\n",
              "    <tr>\n",
              "      <th>4</th>\n",
              "      <td>2019</td>\n",
              "      <td>Materials Science and Engineering</td>\n",
              "      <td>BL1.1W MXT</td>\n",
              "      <td>9</td>\n",
              "    </tr>\n",
              "    <tr>\n",
              "      <th>...</th>\n",
              "      <td>...</td>\n",
              "      <td>...</td>\n",
              "      <td>...</td>\n",
              "      <td>...</td>\n",
              "    </tr>\n",
              "    <tr>\n",
              "      <th>191</th>\n",
              "      <td>2020</td>\n",
              "      <td>Materials Science and Engineering</td>\n",
              "      <td>BL8 XAS</td>\n",
              "      <td>18</td>\n",
              "    </tr>\n",
              "    <tr>\n",
              "      <th>192</th>\n",
              "      <td>2020</td>\n",
              "      <td>Chemistry</td>\n",
              "      <td>BL8 XAS</td>\n",
              "      <td>5</td>\n",
              "    </tr>\n",
              "    <tr>\n",
              "      <th>193</th>\n",
              "      <td>2020</td>\n",
              "      <td>Environmental Science</td>\n",
              "      <td>BL8 XAS</td>\n",
              "      <td>4</td>\n",
              "    </tr>\n",
              "    <tr>\n",
              "      <th>194</th>\n",
              "      <td>2020</td>\n",
              "      <td>Earth Science, Gemology and Archeology</td>\n",
              "      <td>BL8 XAS</td>\n",
              "      <td>6</td>\n",
              "    </tr>\n",
              "    <tr>\n",
              "      <th>195</th>\n",
              "      <td>2020</td>\n",
              "      <td>Surface, Interface and Thin films</td>\n",
              "      <td>BL8 XAS</td>\n",
              "      <td>3</td>\n",
              "    </tr>\n",
              "  </tbody>\n",
              "</table>\n",
              "<p>196 rows × 4 columns</p>\n",
              "</div>"
            ],
            "text/plain": [
              "     Fiscal Year   ... Publications\n",
              "0            2017  ...            1\n",
              "1            2017  ...            1\n",
              "2            2018  ...            4\n",
              "3            2018  ...            1\n",
              "4            2019  ...            9\n",
              "..            ...  ...          ...\n",
              "191          2020  ...           18\n",
              "192          2020  ...            5\n",
              "193          2020  ...            4\n",
              "194          2020  ...            6\n",
              "195          2020  ...            3\n",
              "\n",
              "[196 rows x 4 columns]"
            ]
          },
          "metadata": {},
          "execution_count": 63
        }
      ]
    },
    {
      "cell_type": "code",
      "metadata": {
        "id": "qi-lZGhxNf5Q",
        "outputId": "8a52bb21-6834-4568-da49-b83ea52e2782",
        "colab": {
          "base_uri": "https://localhost:8080/"
        }
      },
      "source": [
        "data3.dropna().shape"
      ],
      "execution_count": 64,
      "outputs": [
        {
          "output_type": "execute_result",
          "data": {
            "text/plain": [
              "(196, 4)"
            ]
          },
          "metadata": {},
          "execution_count": 64
        }
      ]
    },
    {
      "cell_type": "markdown",
      "metadata": {
        "id": "i9Ca_r6VNwus"
      },
      "source": [
        "เเละเมื่อไม่ได้เเก้ missing เเล้ว พอทำ dropna() ข้อมูลจึงเท่าเดิมเพราะไม่มีค่า missing"
      ]
    },
    {
      "cell_type": "code",
      "metadata": {
        "id": "KOlU9PJfNmWO"
      },
      "source": [
        ""
      ],
      "execution_count": null,
      "outputs": []
    }
  ]
}