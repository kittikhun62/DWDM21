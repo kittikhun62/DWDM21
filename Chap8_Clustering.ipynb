{
  "nbformat": 4,
  "nbformat_minor": 0,
  "metadata": {
    "colab": {
      "name": "Chap8 Clustering.ipynb",
      "provenance": [],
      "authorship_tag": "ABX9TyM68SXb1nmjeCx4uZZD6dPL",
      "include_colab_link": true
    },
    "kernelspec": {
      "name": "python3",
      "display_name": "Python 3"
    },
    "language_info": {
      "name": "python"
    }
  },
  "cells": [
    {
      "cell_type": "markdown",
      "metadata": {
        "id": "view-in-github",
        "colab_type": "text"
      },
      "source": [
        "<a href=\"https://colab.research.google.com/github/kittikhun62/DWDM21/blob/main/Chap8_Clustering.ipynb\" target=\"_parent\"><img src=\"https://colab.research.google.com/assets/colab-badge.svg\" alt=\"Open In Colab\"/></a>"
      ]
    },
    {
      "cell_type": "markdown",
      "metadata": {
        "id": "ZR_LU1ZDYE6J"
      },
      "source": [
        "#K-means"
      ]
    },
    {
      "cell_type": "markdown",
      "metadata": {
        "id": "xhN7BKvYYIeo"
      },
      "source": [
        "### Generat Data"
      ]
    },
    {
      "cell_type": "code",
      "metadata": {
        "id": "Mz9LnakPYEyY"
      },
      "source": [
        "from sklearn.datasets import make_blobs"
      ],
      "execution_count": 1,
      "outputs": []
    },
    {
      "cell_type": "code",
      "metadata": {
        "id": "HKh_pDj6YEwR"
      },
      "source": [
        "X, y = make_blobs(n_samples=500, centers=3, n_features=2, random_state=6)"
      ],
      "execution_count": 2,
      "outputs": []
    },
    {
      "cell_type": "code",
      "metadata": {
        "colab": {
          "base_uri": "https://localhost:8080/"
        },
        "id": "Ge2FBl9eYAcP",
        "outputId": "e8b6d158-9aa7-42f8-f2b1-c94478f5afff"
      },
      "source": [
        "X.shape"
      ],
      "execution_count": 3,
      "outputs": [
        {
          "output_type": "execute_result",
          "data": {
            "text/plain": [
              "(500, 2)"
            ]
          },
          "metadata": {},
          "execution_count": 3
        }
      ]
    },
    {
      "cell_type": "markdown",
      "metadata": {
        "id": "LNBqtg2DY8pA"
      },
      "source": [
        "##Explole data"
      ]
    },
    {
      "cell_type": "code",
      "metadata": {
        "id": "1xA8Pr_rYzIa"
      },
      "source": [
        "from matplotlib import pyplot as plt\n"
      ],
      "execution_count": 7,
      "outputs": []
    },
    {
      "cell_type": "code",
      "metadata": {
        "colab": {
          "base_uri": "https://localhost:8080/",
          "height": 282
        },
        "id": "s9uqne2HZafy",
        "outputId": "5a213eaa-9dd5-452b-ec9a-9af3809bb991"
      },
      "source": [
        "plt.scatter(X[:,0],X[:,1])"
      ],
      "execution_count": 8,
      "outputs": [
        {
          "output_type": "execute_result",
          "data": {
            "text/plain": [
              "<matplotlib.collections.PathCollection at 0x7fa717bbb610>"
            ]
          },
          "metadata": {},
          "execution_count": 8
        },
        {
          "output_type": "display_data",
          "data": {
            "image/png": "[encoded data removed]",
            "text/plain": [
              "<Figure size 432x288 with 1 Axes>"
            ]
          },
          "metadata": {
            "needs_background": "light"
          }
        }
      ]
    },
    {
      "cell_type": "markdown",
      "metadata": {
        "id": "Qu5o1J5kaaLo"
      },
      "source": [
        "Clustering"
      ]
    },
    {
      "cell_type": "code",
      "metadata": {
        "id": "Wn_6CjzOarNA"
      },
      "source": [
        ""
      ],
      "execution_count": null,
      "outputs": []
    },
    {
      "cell_type": "markdown",
      "metadata": {
        "id": "exQSN01Haewg"
      },
      "source": [
        "###import"
      ]
    },
    {
      "cell_type": "code",
      "metadata": {
        "id": "4ZdEtKV_ar64"
      },
      "source": [
        "from sklearn.cluster import KMeans"
      ],
      "execution_count": 9,
      "outputs": []
    },
    {
      "cell_type": "markdown",
      "metadata": {
        "id": "2ocTu0EtaiXI"
      },
      "source": [
        "###Define"
      ]
    },
    {
      "cell_type": "code",
      "metadata": {
        "id": "2gP7TC9xasm4"
      },
      "source": [
        "kmeans = KMeans(n_clusters=2, random_state=6)"
      ],
      "execution_count": 10,
      "outputs": []
    },
    {
      "cell_type": "markdown",
      "metadata": {
        "id": "g_LRsv1BakN4"
      },
      "source": [
        "### Train-Predict"
      ]
    },
    {
      "cell_type": "code",
      "metadata": {
        "id": "SDSnmzaqadmP"
      },
      "source": [
        ""
      ],
      "execution_count": null,
      "outputs": []
    },
    {
      "cell_type": "code",
      "metadata": {
        "id": "51Tg-fZFadkW"
      },
      "source": [
        ""
      ],
      "execution_count": null,
      "outputs": []
    }
  ]
}