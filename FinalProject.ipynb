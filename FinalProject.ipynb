{
  "nbformat": 4,
  "nbformat_minor": 0,
  "metadata": {
    "colab": {
      "name": "FinalProject.ipynb",
      "provenance": [],
      "authorship_tag": "ABX9TyPDDwGj5ygozU6YVR65wxMG",
      "include_colab_link": true
    },
    "kernelspec": {
      "name": "python3",
      "display_name": "Python 3"
    },
    "language_info": {
      "name": "python"
    }
  },
  "cells": [
    {
      "cell_type": "markdown",
      "metadata": {
        "id": "view-in-github",
        "colab_type": "text"
      },
      "source": [
        "<a href=\"https://colab.research.google.com/github/kittikhun62/DWDM21/blob/main/FinalProject.ipynb\" target=\"_parent\"><img src=\"https://colab.research.google.com/assets/colab-badge.svg\" alt=\"Open In Colab\"/></a>"
      ]
    },
    {
      "cell_type": "markdown",
      "metadata": {
        "id": "2n2tucPhhSE-"
      },
      "source": [
        "# สมาชิก"
      ]
    },
    {
      "cell_type": "markdown",
      "metadata": {
        "id": "udWDp0RyhZFl"
      },
      "source": [
        "\n",
        "อ้างอิงข้อมูลจากเว๊บไซร์ www.data.go.th\n",
        "\n",
        "1.ข้อมูลจำนวนประชากรในกรุ่งเทพมหานคร จำเเนกตามอายุเเละเขตปี 56 อ้างอิง : https://data.go.th/dataset/poppulationbyage56\n",
        "\n",
        "2.ข้อมูลจำนวนประชากรในกรุ่งเทพมหานคร จำเเนกตามอายุเเละเขตปี 57 อ้างอิง : https://data.go.th/dataset/poppulationbyage57\n",
        "\n",
        "3.ข้อมูลจำนวนประชากรในกรุ่งเทพมหานคร จำเเนกตามอายุเเละเขตปี 59 อ้างอิง : https://data.go.th/dataset/poppulationbyage59"
      ]
    },
    {
      "cell_type": "markdown",
      "metadata": {
        "id": "6MQX1BV-s-0Z"
      },
      "source": [
        "วัตถุประสงค์ :เพื่อทำนายว่าเพศมีผลต่อการมีอายุยืน (มากกว่า 100) หรือไม่"
      ]
    },
    {
      "cell_type": "markdown",
      "metadata": {
        "id": "DjBYnA-XyRSh"
      },
      "source": [
        "#Data_Preprecessing"
      ]
    },
    {
      "cell_type": "markdown",
      "metadata": {
        "id": "S4szZHQToWoq"
      },
      "source": [
        "### data ข้อมูลจำนวนประชากรในกรุงเทพมหานคร จำแนกตามอายุและเขต ปี 59,57,56"
      ]
    },
    {
      "cell_type": "code",
      "metadata": {
        "id": "KjDn4zHeoc7L"
      },
      "source": [
        "#Import the pandas library for visualizing data | การ import ให้สามารถเรียกใช้ไลบรารี่ pandas ในการ visualizing ชุดข้อมูล\n",
        "import pandas as pd "
      ],
      "execution_count": 1,
      "outputs": []
    },
    {
      "cell_type": "markdown",
      "metadata": {
        "id": "gaITw34Lh3M9"
      },
      "source": [
        "Import the drive library for integration Google Colab with Google Drive to access any files on Google Drive.\n",
        "\n",
        "*  google.colab.\n",
        "\n",
        "\n"
      ]
    },
    {
      "cell_type": "code",
      "metadata": {
        "id": "s60RQCWzqdTC",
        "colab": {
          "base_uri": "https://localhost:8080/"
        },
        "outputId": "4dc94251-0b94-4592-9de1-6f6b7ae5f651"
      },
      "source": [
        "#Import the drive library from Google Colab module | การ import ให้สามารถเรียกใช้ไลบรารี่ drive ในการเข้าถึงไฟล์บน Google Drive\n",
        "from google.colab import drive \n",
        "\n",
        "#Mount the drive on Google Colab to access any files from Google Drive | การ mount ไดร์ฟบน Google Colab ในการเข้าถึงไฟล์บน Google Drive \n",
        "drive.mount('/content/drive')"
      ],
      "execution_count": 2,
      "outputs": [
        {
          "output_type": "stream",
          "name": "stdout",
          "text": [
            "Drive already mounted at /content/drive; to attempt to forcibly remount, call drive.mount(\"/content/drive\", force_remount=True).\n"
          ]
        }
      ]
    },
    {
      "cell_type": "code",
      "metadata": {
        "id": "Zq2ZMiUtoc3N"
      },
      "source": [
        "#Read .csv files on the path with pandas | การอ่านไฟล์นามสกุล .csv ตามตำแหน่งของ path ที่กำหนด ด้วยไลบรารี่ pandas \n",
        "\n",
        "import os\n",
        "path = '/content/drive/My Drive/PROJECT'"
      ],
      "execution_count": 5,
      "outputs": []
    },
    {
      "cell_type": "code",
      "metadata": {
        "id": "Ja2PTmY5oczM",
        "outputId": "59033859-a3d0-4045-ec93-c8f4cd8fd46e",
        "colab": {
          "base_uri": "https://localhost:8080/",
          "height": 835
        }
      },
      "source": [
        "# การเเสดง dataframe ผ่านตัวเเปร data ที่เราให้เเทนค่าเอาไว้ โดยให้ \n",
        "#data0 = ข้อมูลจำนวนประชากรในกรุ่งเทพมหานคร จำเเนกตามอายุเเละเขตปี 56 \n",
        "#data1 = ข้อมูลจำนวนประชากรในกรุ่งเทพมหานคร จำเเนกตามอายุเเละเขตปี 57 \n",
        "#data2 = ข้อมูลจำนวนประชากรในกรุ่งเทพมหานคร จำเเนกตามอายุเเละเขตปี 59\n",
        "#data3 = ข้อมูลชุมชนเเออัด\n",
        "\n",
        "data0 = pd.read_csv(os.path.join(path,'poppulationbyage56dcode.csv'))\n",
        "data1 = pd.read_csv(os.path.join(path,'poppulationbyage57dcode.csv'))\n",
        "data2 = pd.read_csv(os.path.join(path,'poppulationbyage59dcode.csv'))\n",
        "data3 = pd.read_csv(os.path.join(path,'ชุมชนแออัด.csv'))\n"
      ],
      "execution_count": 6,
      "outputs": [
        {
          "output_type": "error",
          "ename": "UnicodeDecodeError",
          "evalue": "ignored",
          "traceback": [
            "\u001b[0;31m---------------------------------------------------------------------------\u001b[0m",
            "\u001b[0;31mUnicodeDecodeError\u001b[0m                        Traceback (most recent call last)",
            "\u001b[0;32mpandas/_libs/parsers.pyx\u001b[0m in \u001b[0;36mpandas._libs.parsers.TextReader._convert_tokens\u001b[0;34m()\u001b[0m\n",
            "\u001b[0;32mpandas/_libs/parsers.pyx\u001b[0m in \u001b[0;36mpandas._libs.parsers.TextReader._convert_with_dtype\u001b[0;34m()\u001b[0m\n",
            "\u001b[0;32mpandas/_libs/parsers.pyx\u001b[0m in \u001b[0;36mpandas._libs.parsers.TextReader._string_convert\u001b[0;34m()\u001b[0m\n",
            "\u001b[0;32mpandas/_libs/parsers.pyx\u001b[0m in \u001b[0;36mpandas._libs.parsers._string_box_utf8\u001b[0;34m()\u001b[0m\n",
            "\u001b[0;31mUnicodeDecodeError\u001b[0m: 'utf-8' codec can't decode byte 0xa4 in position 0: invalid start byte",
            "\nDuring handling of the above exception, another exception occurred:\n",
            "\u001b[0;31mUnicodeDecodeError\u001b[0m                        Traceback (most recent call last)",
            "\u001b[0;32m<ipython-input-6-9ce0d4238820>\u001b[0m in \u001b[0;36m<module>\u001b[0;34m()\u001b[0m\n\u001b[1;32m      8\u001b[0m \u001b[0mdata1\u001b[0m \u001b[0;34m=\u001b[0m \u001b[0mpd\u001b[0m\u001b[0;34m.\u001b[0m\u001b[0mread_csv\u001b[0m\u001b[0;34m(\u001b[0m\u001b[0mos\u001b[0m\u001b[0;34m.\u001b[0m\u001b[0mpath\u001b[0m\u001b[0;34m.\u001b[0m\u001b[0mjoin\u001b[0m\u001b[0;34m(\u001b[0m\u001b[0mpath\u001b[0m\u001b[0;34m,\u001b[0m\u001b[0;34m'poppulationbyage57dcode.csv'\u001b[0m\u001b[0;34m)\u001b[0m\u001b[0;34m)\u001b[0m\u001b[0;34m\u001b[0m\u001b[0;34m\u001b[0m\u001b[0m\n\u001b[1;32m      9\u001b[0m \u001b[0mdata2\u001b[0m \u001b[0;34m=\u001b[0m \u001b[0mpd\u001b[0m\u001b[0;34m.\u001b[0m\u001b[0mread_csv\u001b[0m\u001b[0;34m(\u001b[0m\u001b[0mos\u001b[0m\u001b[0;34m.\u001b[0m\u001b[0mpath\u001b[0m\u001b[0;34m.\u001b[0m\u001b[0mjoin\u001b[0m\u001b[0;34m(\u001b[0m\u001b[0mpath\u001b[0m\u001b[0;34m,\u001b[0m\u001b[0;34m'poppulationbyage59dcode.csv'\u001b[0m\u001b[0;34m)\u001b[0m\u001b[0;34m)\u001b[0m\u001b[0;34m\u001b[0m\u001b[0;34m\u001b[0m\u001b[0m\n\u001b[0;32m---> 10\u001b[0;31m \u001b[0mdata3\u001b[0m \u001b[0;34m=\u001b[0m \u001b[0mpd\u001b[0m\u001b[0;34m.\u001b[0m\u001b[0mread_csv\u001b[0m\u001b[0;34m(\u001b[0m\u001b[0mos\u001b[0m\u001b[0;34m.\u001b[0m\u001b[0mpath\u001b[0m\u001b[0;34m.\u001b[0m\u001b[0mjoin\u001b[0m\u001b[0;34m(\u001b[0m\u001b[0mpath\u001b[0m\u001b[0;34m,\u001b[0m\u001b[0;34m'ชุมชนแออัด.csv'\u001b[0m\u001b[0;34m)\u001b[0m\u001b[0;34m)\u001b[0m\u001b[0;34m\u001b[0m\u001b[0;34m\u001b[0m\u001b[0m\n\u001b[0m",
            "\u001b[0;32m/usr/local/lib/python3.7/dist-packages/pandas/io/parsers.py\u001b[0m in \u001b[0;36mread_csv\u001b[0;34m(filepath_or_buffer, sep, delimiter, header, names, index_col, usecols, squeeze, prefix, mangle_dupe_cols, dtype, engine, converters, true_values, false_values, skipinitialspace, skiprows, skipfooter, nrows, na_values, keep_default_na, na_filter, verbose, skip_blank_lines, parse_dates, infer_datetime_format, keep_date_col, date_parser, dayfirst, cache_dates, iterator, chunksize, compression, thousands, decimal, lineterminator, quotechar, quoting, doublequote, escapechar, comment, encoding, dialect, error_bad_lines, warn_bad_lines, delim_whitespace, low_memory, memory_map, float_precision)\u001b[0m\n\u001b[1;32m    686\u001b[0m     )\n\u001b[1;32m    687\u001b[0m \u001b[0;34m\u001b[0m\u001b[0m\n\u001b[0;32m--> 688\u001b[0;31m     \u001b[0;32mreturn\u001b[0m \u001b[0m_read\u001b[0m\u001b[0;34m(\u001b[0m\u001b[0mfilepath_or_buffer\u001b[0m\u001b[0;34m,\u001b[0m \u001b[0mkwds\u001b[0m\u001b[0;34m)\u001b[0m\u001b[0;34m\u001b[0m\u001b[0;34m\u001b[0m\u001b[0m\n\u001b[0m\u001b[1;32m    689\u001b[0m \u001b[0;34m\u001b[0m\u001b[0m\n\u001b[1;32m    690\u001b[0m \u001b[0;34m\u001b[0m\u001b[0m\n",
            "\u001b[0;32m/usr/local/lib/python3.7/dist-packages/pandas/io/parsers.py\u001b[0m in \u001b[0;36m_read\u001b[0;34m(filepath_or_buffer, kwds)\u001b[0m\n\u001b[1;32m    458\u001b[0m \u001b[0;34m\u001b[0m\u001b[0m\n\u001b[1;32m    459\u001b[0m     \u001b[0;32mtry\u001b[0m\u001b[0;34m:\u001b[0m\u001b[0;34m\u001b[0m\u001b[0;34m\u001b[0m\u001b[0m\n\u001b[0;32m--> 460\u001b[0;31m         \u001b[0mdata\u001b[0m \u001b[0;34m=\u001b[0m \u001b[0mparser\u001b[0m\u001b[0;34m.\u001b[0m\u001b[0mread\u001b[0m\u001b[0;34m(\u001b[0m\u001b[0mnrows\u001b[0m\u001b[0;34m)\u001b[0m\u001b[0;34m\u001b[0m\u001b[0;34m\u001b[0m\u001b[0m\n\u001b[0m\u001b[1;32m    461\u001b[0m     \u001b[0;32mfinally\u001b[0m\u001b[0;34m:\u001b[0m\u001b[0;34m\u001b[0m\u001b[0;34m\u001b[0m\u001b[0m\n\u001b[1;32m    462\u001b[0m         \u001b[0mparser\u001b[0m\u001b[0;34m.\u001b[0m\u001b[0mclose\u001b[0m\u001b[0;34m(\u001b[0m\u001b[0;34m)\u001b[0m\u001b[0;34m\u001b[0m\u001b[0;34m\u001b[0m\u001b[0m\n",
            "\u001b[0;32m/usr/local/lib/python3.7/dist-packages/pandas/io/parsers.py\u001b[0m in \u001b[0;36mread\u001b[0;34m(self, nrows)\u001b[0m\n\u001b[1;32m   1196\u001b[0m     \u001b[0;32mdef\u001b[0m \u001b[0mread\u001b[0m\u001b[0;34m(\u001b[0m\u001b[0mself\u001b[0m\u001b[0;34m,\u001b[0m \u001b[0mnrows\u001b[0m\u001b[0;34m=\u001b[0m\u001b[0;32mNone\u001b[0m\u001b[0;34m)\u001b[0m\u001b[0;34m:\u001b[0m\u001b[0;34m\u001b[0m\u001b[0;34m\u001b[0m\u001b[0m\n\u001b[1;32m   1197\u001b[0m         \u001b[0mnrows\u001b[0m \u001b[0;34m=\u001b[0m \u001b[0m_validate_integer\u001b[0m\u001b[0;34m(\u001b[0m\u001b[0;34m\"nrows\"\u001b[0m\u001b[0;34m,\u001b[0m \u001b[0mnrows\u001b[0m\u001b[0;34m)\u001b[0m\u001b[0;34m\u001b[0m\u001b[0;34m\u001b[0m\u001b[0m\n\u001b[0;32m-> 1198\u001b[0;31m         \u001b[0mret\u001b[0m \u001b[0;34m=\u001b[0m \u001b[0mself\u001b[0m\u001b[0;34m.\u001b[0m\u001b[0m_engine\u001b[0m\u001b[0;34m.\u001b[0m\u001b[0mread\u001b[0m\u001b[0;34m(\u001b[0m\u001b[0mnrows\u001b[0m\u001b[0;34m)\u001b[0m\u001b[0;34m\u001b[0m\u001b[0;34m\u001b[0m\u001b[0m\n\u001b[0m\u001b[1;32m   1199\u001b[0m \u001b[0;34m\u001b[0m\u001b[0m\n\u001b[1;32m   1200\u001b[0m         \u001b[0;31m# May alter columns / col_dict\u001b[0m\u001b[0;34m\u001b[0m\u001b[0;34m\u001b[0m\u001b[0;34m\u001b[0m\u001b[0m\n",
            "\u001b[0;32m/usr/local/lib/python3.7/dist-packages/pandas/io/parsers.py\u001b[0m in \u001b[0;36mread\u001b[0;34m(self, nrows)\u001b[0m\n\u001b[1;32m   2155\u001b[0m     \u001b[0;32mdef\u001b[0m \u001b[0mread\u001b[0m\u001b[0;34m(\u001b[0m\u001b[0mself\u001b[0m\u001b[0;34m,\u001b[0m \u001b[0mnrows\u001b[0m\u001b[0;34m=\u001b[0m\u001b[0;32mNone\u001b[0m\u001b[0;34m)\u001b[0m\u001b[0;34m:\u001b[0m\u001b[0;34m\u001b[0m\u001b[0;34m\u001b[0m\u001b[0m\n\u001b[1;32m   2156\u001b[0m         \u001b[0;32mtry\u001b[0m\u001b[0;34m:\u001b[0m\u001b[0;34m\u001b[0m\u001b[0;34m\u001b[0m\u001b[0m\n\u001b[0;32m-> 2157\u001b[0;31m             \u001b[0mdata\u001b[0m \u001b[0;34m=\u001b[0m \u001b[0mself\u001b[0m\u001b[0;34m.\u001b[0m\u001b[0m_reader\u001b[0m\u001b[0;34m.\u001b[0m\u001b[0mread\u001b[0m\u001b[0;34m(\u001b[0m\u001b[0mnrows\u001b[0m\u001b[0;34m)\u001b[0m\u001b[0;34m\u001b[0m\u001b[0;34m\u001b[0m\u001b[0m\n\u001b[0m\u001b[1;32m   2158\u001b[0m         \u001b[0;32mexcept\u001b[0m \u001b[0mStopIteration\u001b[0m\u001b[0;34m:\u001b[0m\u001b[0;34m\u001b[0m\u001b[0;34m\u001b[0m\u001b[0m\n\u001b[1;32m   2159\u001b[0m             \u001b[0;32mif\u001b[0m \u001b[0mself\u001b[0m\u001b[0;34m.\u001b[0m\u001b[0m_first_chunk\u001b[0m\u001b[0;34m:\u001b[0m\u001b[0;34m\u001b[0m\u001b[0;34m\u001b[0m\u001b[0m\n",
            "\u001b[0;32mpandas/_libs/parsers.pyx\u001b[0m in \u001b[0;36mpandas._libs.parsers.TextReader.read\u001b[0;34m()\u001b[0m\n",
            "\u001b[0;32mpandas/_libs/parsers.pyx\u001b[0m in \u001b[0;36mpandas._libs.parsers.TextReader._read_low_memory\u001b[0;34m()\u001b[0m\n",
            "\u001b[0;32mpandas/_libs/parsers.pyx\u001b[0m in \u001b[0;36mpandas._libs.parsers.TextReader._read_rows\u001b[0;34m()\u001b[0m\n",
            "\u001b[0;32mpandas/_libs/parsers.pyx\u001b[0m in \u001b[0;36mpandas._libs.parsers.TextReader._convert_column_data\u001b[0;34m()\u001b[0m\n",
            "\u001b[0;32mpandas/_libs/parsers.pyx\u001b[0m in \u001b[0;36mpandas._libs.parsers.TextReader._convert_tokens\u001b[0;34m()\u001b[0m\n",
            "\u001b[0;32mpandas/_libs/parsers.pyx\u001b[0m in \u001b[0;36mpandas._libs.parsers.TextReader._convert_with_dtype\u001b[0;34m()\u001b[0m\n",
            "\u001b[0;32mpandas/_libs/parsers.pyx\u001b[0m in \u001b[0;36mpandas._libs.parsers.TextReader._string_convert\u001b[0;34m()\u001b[0m\n",
            "\u001b[0;32mpandas/_libs/parsers.pyx\u001b[0m in \u001b[0;36mpandas._libs.parsers._string_box_utf8\u001b[0;34m()\u001b[0m\n",
            "\u001b[0;31mUnicodeDecodeError\u001b[0m: 'utf-8' codec can't decode byte 0xa4 in position 0: invalid start byte"
          ]
        }
      ]
    },
    {
      "cell_type": "markdown",
      "metadata": {
        "id": "BcDqS5D_jOW8"
      },
      "source": [
        " ข้อมูลจำนวนประชากรในกรุ่งเทพมหานคร จำเเนกตามอายุเเละเขตปี 56 "
      ]
    },
    {
      "cell_type": "code",
      "metadata": {
        "id": "UHn8itc-0env"
      },
      "source": [
        "data0.head(50)"
      ],
      "execution_count": null,
      "outputs": []
    },
    {
      "cell_type": "code",
      "metadata": {
        "id": "XEY2Aske30TY"
      },
      "source": [
        "data0.shape #ตรวจสอบขนาดของตารางใหม่"
      ],
      "execution_count": null,
      "outputs": []
    },
    {
      "cell_type": "code",
      "metadata": {
        "id": "Shis-KIHhwLY"
      },
      "source": [
        "data_0 = data0[['age20_56','olderthan100_56']]\n",
        "data_0[data_0['age20_56',''] < 800].shape"
      ],
      "execution_count": null,
      "outputs": []
    },
    {
      "cell_type": "code",
      "metadata": {
        "id": "VDOntrbwhvJg"
      },
      "source": [
        "data_0.head(50)"
      ],
      "execution_count": null,
      "outputs": []
    },
    {
      "cell_type": "code",
      "metadata": {
        "id": "9DBIXXBP4E2g"
      },
      "source": [
        " data0.isnull().any()#Check null values every single row of data variable then returns the two boolean values | การตรวจสอบค่า null ในทุกแถวของตัวแปร่ data จากนั้น return ค่าประเภท boolean ได้แก่ \"True\" หรือ \"False\"\n"
      ],
      "execution_count": null,
      "outputs": []
    },
    {
      "cell_type": "markdown",
      "metadata": {
        "id": "_ZSPJTFFjSbF"
      },
      "source": [
        "ข้อมูลจำนวนประชากรในกรุ่งเทพมหานคร จำเเนกตามอายุเเละเขตปี 57"
      ]
    },
    {
      "cell_type": "code",
      "metadata": {
        "id": "tdH8NbOf4Nyf"
      },
      "source": [
        "data1"
      ],
      "execution_count": null,
      "outputs": []
    },
    {
      "cell_type": "code",
      "metadata": {
        "id": "f1ZTKWlW4RMn"
      },
      "source": [
        "data1.shape"
      ],
      "execution_count": null,
      "outputs": []
    },
    {
      "cell_type": "code",
      "metadata": {
        "id": "5bZ7Q5H64UO_"
      },
      "source": [
        "data1.isnull().any()#เชคว่าภายในตารางมีค่าว่างหรือไม่\n",
        "#ไม่ม่ค่าว่างอยู่"
      ],
      "execution_count": null,
      "outputs": []
    },
    {
      "cell_type": "markdown",
      "metadata": {
        "id": "LVh5ooHEjX7s"
      },
      "source": [
        " ข้อมูลจำนวนประชากรในกรุ่งเทพมหานคร จำเเนกตามอายุเเละเขตปี 59"
      ]
    },
    {
      "cell_type": "code",
      "metadata": {
        "id": "rTGGdUri4WRI"
      },
      "source": [
        "data2"
      ],
      "execution_count": null,
      "outputs": []
    },
    {
      "cell_type": "code",
      "metadata": {
        "id": "aHlxN3_-4WO3"
      },
      "source": [
        "data2.shape"
      ],
      "execution_count": null,
      "outputs": []
    },
    {
      "cell_type": "code",
      "metadata": {
        "id": "UEsZz-dN4WMn"
      },
      "source": [
        "data2.isnull().any()"
      ],
      "execution_count": null,
      "outputs": []
    },
    {
      "cell_type": "markdown",
      "metadata": {
        "id": "oMWZvrr0ai8j"
      },
      "source": [
        "ข้อมูลชุมชนเเออัด"
      ]
    },
    {
      "cell_type": "code",
      "metadata": {
        "id": "8IVHdVSTa5R_"
      },
      "source": [
        "data3"
      ],
      "execution_count": null,
      "outputs": []
    },
    {
      "cell_type": "code",
      "metadata": {
        "id": "aw51Ig2Ta5P6"
      },
      "source": [
        "data3.shape"
      ],
      "execution_count": null,
      "outputs": []
    },
    {
      "cell_type": "markdown",
      "metadata": {
        "id": "tOzi_Dy54kTn"
      },
      "source": [
        "##เลือกข้อมูลที่ต้องการใช้"
      ]
    },
    {
      "cell_type": "code",
      "metadata": {
        "id": "S7kI3JRy4otQ"
      },
      "source": [
        "data0_RE = data0[['id','dcode','dcode_sex','olderthan100_56','over100_56','sex']]\n",
        "data0_RE"
      ],
      "execution_count": null,
      "outputs": []
    },
    {
      "cell_type": "code",
      "metadata": {
        "id": "59FdpGiM4orB"
      },
      "source": [
        "data1_RE = data1[['dcode_sex','olderthan100_57','over100_57']]\n",
        "data1_RE"
      ],
      "execution_count": null,
      "outputs": []
    },
    {
      "cell_type": "code",
      "metadata": {
        "id": "W4z1pDSO4oov"
      },
      "source": [
        "data2_RE = data2[['dcode_sex','olderthan100_59','over100_59']]\n",
        "data2_RE"
      ],
      "execution_count": null,
      "outputs": []
    },
    {
      "cell_type": "markdown",
      "metadata": {
        "id": "nJgYUaib4geP"
      },
      "source": [
        "###รวมตาราง"
      ]
    },
    {
      "cell_type": "code",
      "metadata": {
        "id": "6Ows2gaKoVz1"
      },
      "source": [
        "merged_table_dcode = data0_RE.merge(data1_RE,how='left',left_on='dcode_sex',right_on='dcode_sex')\n",
        "merged_table_dcode "
      ],
      "execution_count": null,
      "outputs": []
    },
    {
      "cell_type": "code",
      "metadata": {
        "id": "y8o03R6C62Kf"
      },
      "source": [
        "merged_table_dcode2 = merged_table_dcode.merge(data2_RE,how='left',left_on='dcode_sex',right_on='dcode_sex')\n",
        "merged_table_dcode2  "
      ],
      "execution_count": null,
      "outputs": []
    },
    {
      "cell_type": "code",
      "metadata": {
        "id": "HcxAIsQLbJCC"
      },
      "source": [
        "merged_table_dcode3 = merged_table_dcode2.merge(data3,how='left',left_on='dcode',right_on='dcode')\n",
        "merged_table_dcode3  "
      ],
      "execution_count": null,
      "outputs": []
    },
    {
      "cell_type": "code",
      "metadata": {
        "id": "f1TFLn8-bInT"
      },
      "source": [
        "merged_table_dcode3.shape"
      ],
      "execution_count": null,
      "outputs": []
    },
    {
      "cell_type": "code",
      "metadata": {
        "id": "DC2vfvHibcQQ"
      },
      "source": [
        "merged_table_dcode3.isnull().any()"
      ],
      "execution_count": null,
      "outputs": []
    },
    {
      "cell_type": "markdown",
      "metadata": {
        "id": "1JTrba9VtZLL"
      },
      "source": [
        "Data minning"
      ]
    },
    {
      "cell_type": "markdown",
      "metadata": {
        "id": "WvTu51Mn8QG8"
      },
      "source": [
        "การนำข้อมูลในตารางมาใช้ประโยชน์ Classification"
      ]
    },
    {
      "cell_type": "code",
      "metadata": {
        "id": "6rzfZc3IAGZ8"
      },
      "source": [
        "A = merged_table_dcode3.drop(columns=['over100_56','over100_57','over100_59'])\n",
        "A #จากข้อมูลในตารางเราได้ทำการ drop หรือการลบ colums ที่เราต้องการออก คือ colums over100_56,over100_57,over100_59 \n",
        "#จะใช้ข้อมูลของ A เป็นค่า X= feature เป็นคำถาม ในการพยากรณ์ตามวัตถุประสงค์"
      ],
      "execution_count": null,
      "outputs": []
    },
    {
      "cell_type": "code",
      "metadata": {
        "id": "MyPt1n7Vzcib"
      },
      "source": [
        "AA = merged_table_dcode3.drop(columns=['id','dcode','dcode_sex','olderthan100_56','sex','olderthan100_57','olderthan100_59','เขต','slum'])\n",
        "AA #เราต้องการนำ colums over100_56, over100_57,over100_59 มาทำเป็นคำตอบ หรือ y = answer"
      ],
      "execution_count": null,
      "outputs": []
    },
    {
      "cell_type": "code",
      "metadata": {
        "id": "K2VnlQe9gWQ1"
      },
      "source": [
        "AAA = merged_table_dcode3.drop(columns=['over100_56','over100_57','over100_59'])\n",
        "AAA"
      ],
      "execution_count": null,
      "outputs": []
    },
    {
      "cell_type": "markdown",
      "metadata": {
        "id": "qYVcvs9b24Mc"
      },
      "source": [
        "ให้ target, target1,target2 เเทน ตัวเเปร Feature หรือ X "
      ]
    },
    {
      "cell_type": "code",
      "metadata": {
        "id": "_OrB1cgJVLoW"
      },
      "source": [
        "target = merged_table_dcode2['over100_56']\n",
        "target "
      ],
      "execution_count": null,
      "outputs": []
    },
    {
      "cell_type": "code",
      "metadata": {
        "id": "G56wv4wdywmb"
      },
      "source": [
        "target1 = merged_table_dcode2['over100_57']\n",
        "target1"
      ],
      "execution_count": null,
      "outputs": []
    },
    {
      "cell_type": "code",
      "metadata": {
        "id": "xaGIsqR6y5N7"
      },
      "source": [
        "target2 = merged_table_dcode2['over100_59']\n",
        "target2"
      ],
      "execution_count": null,
      "outputs": []
    },
    {
      "cell_type": "markdown",
      "metadata": {
        "id": "6dBRsYHlnbvU"
      },
      "source": [
        "import เรียกใช้ Algorithm"
      ]
    },
    {
      "cell_type": "code",
      "metadata": {
        "id": "IDySa-czZkZd"
      },
      "source": [
        "from sklearn.tree import DecisionTreeClassifier\n",
        "from sklearn.model_selection import train_test_split\n",
        "#การเลือกเทรน model โดยใช้ split เป็นเมธอดของสตริง ใช้สำหรับแยกสตริงออกเป็นส่วน ๆ และคืนค่ากลับมาเป็น list โดยเราสามารถกำหนดได้ว่าจะให้เเยกโดย 0ver100 คือเเยกโดยมีคนอายุมากกว่า100 ปีอยู่ในเขตนั้นหรือไม่เเละเป็นเพศชายหรือหญิง\n",
        "#เพราะ spliter เป็นการเเบ่งข้อมูลที่เป็นตัวเลข"
      ],
      "execution_count": null,
      "outputs": []
    },
    {
      "cell_type": "code",
      "metadata": {
        "id": "4uLREeNnZkXN"
      },
      "source": [
        "X = A.values\n",
        "X #.values ดึงเฉพาะค่าทั้งหมดออกมาจากตัวแปร dict ออกมาจากตาราง ให้อยู่ในรูปเเบบค่า Array เพื่อใช้ในการทำ Model"
      ],
      "execution_count": null,
      "outputs": []
    },
    {
      "cell_type": "code",
      "metadata": {
        "id": "fpml6UJeZkVF"
      },
      "source": [
        "AA['over100_56'] = AA['over100_56'].map({'yes': 1,'no' : 0})\n",
        "AA['over100_57'] = AA['over100_57'].map({'yes': 1,'no' : 0})\n",
        "AA['over100_59'] = AA['over100_59'].map({'yes': 1,'no' : 0})\n",
        "AA  #ฟังก์ชัน map ใช้ในการเปลี่ยนแปลงข้อมูล ในกลุ่มข้อมูล เช่น list, set, tuple, และ dict และจะคืนข้อมูลที่เปลี่ยนแปลงแล้วกลับไปตามชนิดกลุ่มข้อมูลนั้น เมื่อใช้ใส่กลับไปในชนิดข้อมูลนั้น"
      ],
      "execution_count": null,
      "outputs": []
    },
    {
      "cell_type": "code",
      "metadata": {
        "id": "H471luu6Zjzt"
      },
      "source": [
        "merged_table_dcode2['over100_56'].value_counts()\n",
        "merged_table_dcode2['over100_57'].value_counts()\n",
        "merged_table_dcode2['over100_59'].value_counts()\n",
        "#ฟังก์ชัน value_counts () สามารถใช้เพื่อรับจำนวนค่าที่ไม่ซ้ำกันสำหรับคอลัมน์ที่กำหนดในชุดข้อมูล "
      ],
      "execution_count": null,
      "outputs": []
    },
    {
      "cell_type": "markdown",
      "metadata": {
        "id": "6-ucHUtc3SNU"
      },
      "source": [
        "*  target = target.map({'yes': 1,'no':0}) เเทนคำตอบของปี 56\n",
        "*  target1 = target.map({'yes': 1,'no':0}) เเทนคำตอบของปี 57\n",
        "*  target2 = target.map({'yes': 1,'no':0}) เเทนคำตอบของปี 59\n",
        "\n",
        "\n",
        "**ใช้ฟังก์ชั่น map ใช้ในการเปลี่ยนแปลงข้อมูล โดยให้ ั yes = 1 เเละ no = 2 เป็นจะเป็น คำตอบใน AI **\n",
        "\n",
        "\n",
        "\n",
        "\n",
        "\n"
      ]
    },
    {
      "cell_type": "code",
      "metadata": {
        "id": "GL8xYZMGcIG1"
      },
      "source": [
        "target = target.map({'yes': 1,'no':0})\n",
        "target1 = target1.map({'yes': 1,'no':0})\n",
        "target2 = target2.map({'yes': 1,'no':0})"
      ],
      "execution_count": null,
      "outputs": []
    },
    {
      "cell_type": "code",
      "metadata": {
        "id": "SwVKo7Xl0Svj"
      },
      "source": [
        "target"
      ],
      "execution_count": null,
      "outputs": []
    },
    {
      "cell_type": "code",
      "metadata": {
        "id": "vj3vtkEu0XR7"
      },
      "source": [
        "target1"
      ],
      "execution_count": null,
      "outputs": []
    },
    {
      "cell_type": "code",
      "metadata": {
        "id": "G-2vxXVL0XQL"
      },
      "source": [
        "target2"
      ],
      "execution_count": null,
      "outputs": []
    },
    {
      "cell_type": "code",
      "metadata": {
        "id": "31cB-s3FcIEM"
      },
      "source": [
        "y = target.values\n",
        "y1 = target1.values\n",
        "y2 = target2.values\n",
        "##ฟังก์ชัน value_counts () สามารถใช้เพื่อรับจำนวนค่าที่ไม่ซ้ำกันสำหรับคอลัมน์ที่กำหนดในชุดข้อมูล "
      ],
      "execution_count": null,
      "outputs": []
    },
    {
      "cell_type": "markdown",
      "metadata": {
        "id": "PvjacqE64Dtq"
      },
      "source": [
        "y,y1,y2 เป็นตัวเเปรที่จะใส่เข้าไปในตัว Train model เพื่อเป็นตัวเเปรในคำตอบ"
      ]
    },
    {
      "cell_type": "code",
      "metadata": {
        "id": "mEa_6LGA0-j6"
      },
      "source": [
        "y"
      ],
      "execution_count": null,
      "outputs": []
    },
    {
      "cell_type": "code",
      "metadata": {
        "id": "yZJchsIk1AIq"
      },
      "source": [
        "y1"
      ],
      "execution_count": null,
      "outputs": []
    },
    {
      "cell_type": "code",
      "metadata": {
        "id": "nHdHSeQj1BYL"
      },
      "source": [
        "y2"
      ],
      "execution_count": null,
      "outputs": []
    },
    {
      "cell_type": "markdown",
      "metadata": {
        "id": "EtfOrTnzsiGQ"
      },
      "source": [
        "การคัดเลือกตัวแบบ Train-Test "
      ]
    },
    {
      "cell_type": "code",
      "metadata": {
        "id": "g9x6w5-ZWqXk"
      },
      "source": [
        ""
      ],
      "execution_count": null,
      "outputs": []
    },
    {
      "cell_type": "markdown",
      "metadata": {
        "id": "iZ6rGiEkn0JV"
      },
      "source": [
        "กำหนด parameters ให้กับ model"
      ]
    },
    {
      "cell_type": "code",
      "metadata": {
        "id": "AyBDldf1cIB0"
      },
      "source": [
        "mytree0 = DecisionTreeClassifier() # ไม่ได้กำหนด parameters เพราะ ต้นไม้มีเพียงเเค่ 2 Dimaintion เเละน้อย จึงสามารถมองเห็นชุดข้อมูลได้ครบถ้วนอยู่เเล้ว"
      ],
      "execution_count": null,
      "outputs": []
    },
    {
      "cell_type": "markdown",
      "metadata": {
        "id": "5r2tpJHgq9JV"
      },
      "source": [
        "plot tree"
      ]
    },
    {
      "cell_type": "code",
      "metadata": {
        "id": "IsYdWQjcc_8M"
      },
      "source": [
        "from sklearn.tree import plot_tree"
      ],
      "execution_count": null,
      "outputs": []
    },
    {
      "cell_type": "markdown",
      "metadata": {
        "id": "IrBg-3pO4Ymj"
      },
      "source": [
        " ต้นไม้การทำนายของประชากร ปี56"
      ]
    },
    {
      "cell_type": "code",
      "metadata": {
        "id": "PgbXmj_Mc_-e"
      },
      "source": [
        "mytree0.fit(X,y)#การเทรนโมเดล โดยให้ค่า X = Faeture เเละ y = Answer ให้ค่าที่เราเเทนไว้เข้ามาเทรดในโมเดลที่เราตั้งไว้ \n"
      ],
      "execution_count": null,
      "outputs": []
    },
    {
      "cell_type": "code",
      "metadata": {
        "id": "SWkHsufVc_6c"
      },
      "source": [
        "plot_tree(mytree0) \n"
      ],
      "execution_count": null,
      "outputs": []
    },
    {
      "cell_type": "code",
      "metadata": {
        "id": "OHAHXH4dtKbK"
      },
      "source": [
        "mytree0.predict([[16, 1026, '1026_2', 61, 2, 69, 4]])"
      ],
      "execution_count": null,
      "outputs": []
    },
    {
      "cell_type": "markdown",
      "metadata": {
        "id": "AfuBpfrH4iki"
      },
      "source": [
        "ต้นไม้ในการทำนายประชากร ปี 57"
      ]
    },
    {
      "cell_type": "code",
      "metadata": {
        "id": "JWXOyh2Mt9s5"
      },
      "source": [
        "mytree1 = DecisionTreeClassifier() # ไม่ได้กำหนด parameters เพราะ ต้นไม้มีเพียงเเค่ 2 Dimaintion เเละน้อย จึงสามารถมองเห็นชุดข้อมูลได้ครบถ้วนอยู่เเล้ว"
      ],
      "execution_count": null,
      "outputs": []
    },
    {
      "cell_type": "code",
      "metadata": {
        "id": "LnllqM3O1dBO"
      },
      "source": [
        "mytree1.fit(X,y1)\n"
      ],
      "execution_count": null,
      "outputs": []
    },
    {
      "cell_type": "code",
      "metadata": {
        "id": "P17qjVnP1gjD"
      },
      "source": [
        "plot_tree(mytree1)"
      ],
      "execution_count": null,
      "outputs": []
    },
    {
      "cell_type": "markdown",
      "metadata": {
        "id": "2l03-JcT4pK7"
      },
      "source": [
        "ต้นไม้ในการทำนายปี 59"
      ]
    },
    {
      "cell_type": "code",
      "metadata": {
        "id": "3cp8iqFJuB3p"
      },
      "source": [
        "mytree2 = DecisionTreeClassifier() # ไม่ได้กำหนด parameters เพราะ ต้นไม้มีเพียงเเค่ 2 Dimaintion เเละน้อย จึงสามารถมองเห็นชุดข้อมูลได้ครบถ้วนอยู่เเล้ว"
      ],
      "execution_count": null,
      "outputs": []
    },
    {
      "cell_type": "code",
      "metadata": {
        "id": "oUDt7D581nCz"
      },
      "source": [
        " mytree2.fit(X,y2)\n"
      ],
      "execution_count": null,
      "outputs": []
    },
    {
      "cell_type": "code",
      "metadata": {
        "id": "4MraK2_u1qJy"
      },
      "source": [
        "plot_tree(mytree2)\n"
      ],
      "execution_count": null,
      "outputs": []
    },
    {
      "cell_type": "markdown",
      "metadata": {
        "id": "8QdXKWfTsYHL"
      },
      "source": [
        "#การวัดผล"
      ]
    },
    {
      "cell_type": "code",
      "metadata": {
        "id": "muGEh4kOsRkn"
      },
      "source": [
        ""
      ],
      "execution_count": null,
      "outputs": []
    },
    {
      "cell_type": "code",
      "metadata": {
        "id": "cNXl6_5Gs9PK"
      },
      "source": [
        ""
      ],
      "execution_count": null,
      "outputs": []
    },
    {
      "cell_type": "markdown",
      "metadata": {
        "id": "NamlvlKJ8iHw"
      },
      "source": [
        "#Visualightsation"
      ]
    },
    {
      "cell_type": "code",
      "metadata": {
        "id": "P0Bwi0cG6Uyi"
      },
      "source": [
        ""
      ],
      "execution_count": null,
      "outputs": []
    },
    {
      "cell_type": "code",
      "metadata": {
        "id": "0rHbbteu6Uvy"
      },
      "source": [
        ""
      ],
      "execution_count": null,
      "outputs": []
    },
    {
      "cell_type": "code",
      "metadata": {
        "id": "9RzhVUSg6Ui-"
      },
      "source": [
        ""
      ],
      "execution_count": null,
      "outputs": []
    },
    {
      "cell_type": "markdown",
      "metadata": {
        "id": "JKe0ndhr8rA3"
      },
      "source": [
        "# องค์ประกอบในการทำโปรเจคนี้"
      ]
    },
    {
      "cell_type": "markdown",
      "metadata": {
        "id": "7sE4eVQtz5Ra"
      },
      "source": [
        "## Import the nescesary libraries for rain accumulation forecasting.\n",
        "\n",
        "\n",
        "sklearn.metrics.accuracy_score\n",
        "\n",
        "sklearn.model_selection.train_test_split\n",
        "\n",
        "sklearn.tree.DecisionTreeClassifie"
      ]
    },
    {
      "cell_type": "code",
      "metadata": {
        "id": "ocuDwAzOzYZ2"
      },
      "source": [
        "#Import the pandas library for visualizing data | การ import ให้สามารถเรียกใช้ไลบรารี่ pandas ในการ visualizing ชุดข้อมูล\n",
        "import pandas as pd \n",
        "\n",
        "#Import the accuracy_score library from scikit-learn module | การ import ให้สามารถเรียกใช้ไลบรารี่ accuracy_score ในการหาค่าความแม่นยำในการพยากรณ์ด้วยตัวแบบ decision tree \n",
        "from sklearn.metrics import accuracy_score \n",
        "\n",
        "#Import the train_test_split library from scikit-learn module | การ import ให้สามารถเรียกใช้ไลบรารี่ train_test_split ในการแบ่งชุดข้อมูลออกเป็น 2 ส่วน \n",
        "from sklearn.model_selection import train_test_split \n",
        "\n",
        "#Import the DecisionTreeClasifier from scikit-learn module | การ import ให้สามารถเรียกใช้ไลบรารี่ DecisionTreeClassifier ในการใช้งานตัวแบบ decision tree \n",
        "from sklearn.tree import DecisionTreeClassifier\n",
        "\n",
        "#Import the matplotlib.pyplot library | การ import ให้สามารถเรียกใช้ไลบรารี่ matplotlib.pyplot ในการพลอตกราฟ \n",
        "import matplotlib.pyplot as plt\n",
        "\n",
        "#Import the seaborn library | การ import ให้สามารถเรียกใช้ไลบรารี่ seaborn ในการพลอตกราฟที่เป็น dataframe \n",
        "import seaborn as sns"
      ],
      "execution_count": null,
      "outputs": []
    },
    {
      "cell_type": "markdown",
      "metadata": {
        "id": "vS46Aok80D6I"
      },
      "source": [
        "Import the drive library for integration Google Colab with Google Drive to access any files on Google Drive.\n",
        "\n",
        "google.colab.drive"
      ]
    },
    {
      "cell_type": "code",
      "metadata": {
        "id": "CsMk9lT8z3Tr"
      },
      "source": [
        "#Import the drive library from Google Colab module | การ import ให้สามารถเรียกใช้ไลบรารี่ drive ในการเข้าถึงไฟล์บน Google Drive\n",
        "from google.colab import drive  \n",
        "\n",
        "#Mount the drive on Google Colab to access any files from Google Drive | การ mount ไดร์ฟบน Google Colab ในการเข้าถึงไฟล์บน Google Drive \n",
        "drive.mount('/content/drive')"
      ],
      "execution_count": null,
      "outputs": []
    },
    {
      "cell_type": "code",
      "metadata": {
        "id": "qyTjwYU_0Q36"
      },
      "source": [
        "import os # จัดการไฟล์เเละ path(ที่อยู่ของไฟล์)\n",
        "path = '/content/drive/My Drive/PROJECT' #Define the path to access .csv files on Google Drive | กำหนดตำแแหน่งของ path ในการเข้าถึงไฟล์นามสกุล .csv บน Google Drive"
      ],
      "execution_count": null,
      "outputs": []
    },
    {
      "cell_type": "code",
      "metadata": {
        "id": "7s09pdoB0dtL"
      },
      "source": [
        "#Read .csv files on the path with pandas | การอ่านไฟล์นามสกุล .csv ตามตำแหน่งของ path ที่กำหนด ด้วยไลบรารี่ pandas \n",
        "data0 = pd.read_csv(os.path.join(path,'poppulationbyage56.csv')) #ปี56\n",
        "data1 = pd.read_csv(os.path.join(path,'poppulationbyage57.csv')) #ปี67\n",
        "data2 = pd.read_csv(os.path.join(path,'poppulationbyage59.csv')) #ปี59"
      ],
      "execution_count": null,
      "outputs": []
    },
    {
      "cell_type": "code",
      "metadata": {
        "id": "3I53sC7R1t6y"
      },
      "source": [
        "\n",
        "#Display the dataframe of data variable while using head() method to show only the first 5 indexes | การแสดง dataframe ของตัวแปร data เฉพาะ index 5 อันดับแรกด้วยเมธอด head()\n",
        "data0.head()\n"
      ],
      "execution_count": null,
      "outputs": []
    },
    {
      "cell_type": "markdown",
      "metadata": {
        "id": "QYlTbEzJ2EkQ"
      },
      "source": [
        ">Display all of the column name on data variable"
      ]
    },
    {
      "cell_type": "code",
      "metadata": {
        "id": "6bS80dBv1-Ta"
      },
      "source": [
        "\n",
        "\n",
        "#Display all of the column name in data variable  | การแสดงชื่อคอลัมน์ทั้งหมดในตัวแปร data \n",
        "data0.head().columns"
      ],
      "execution_count": null,
      "outputs": []
    },
    {
      "cell_type": "code",
      "metadata": {
        "id": "shOxdbiM2cV5"
      },
      "source": [
        "#Check null values every single row of data variable then returns the two boolean values | การตรวจสอบค่า null ในทุกแถวของตัวแปร่ data จากนั้น return ค่าประเภท boolean ได้แก่ \"True\" หรือ \"False\"\n",
        "data0.isnull().any().any()"
      ],
      "execution_count": null,
      "outputs": []
    },
    {
      "cell_type": "code",
      "metadata": {
        "id": "1J2W1cLP2wSA"
      },
      "source": [
        "#Summarize null values each column while using sum() method | การหาผลรวมของค่า null ในแต่ละคอลัมน์ด้วยเมธอด sum()\n",
        "data0.isnull().any()"
      ],
      "execution_count": null,
      "outputs": []
    },
    {
      "cell_type": "code",
      "metadata": {
        "id": "fMZtxM9G21j4"
      },
      "source": [
        "#We have to define the axis parameter of any() method to 1 for displaying the value of every single row which have null values \n",
        "#การแสดงค่าทุกแถวใน dataframe ที่เป็นค่า null ด้วยการกำหนด \"axis=1\" ใน any()\n",
        "data0[data0.isnull().any(axis = 1)]"
      ],
      "execution_count": null,
      "outputs": []
    },
    {
      "cell_type": "code",
      "metadata": {
        "id": "1d7w_3d74cS4"
      },
      "source": [
        "#Duplicate the dataframe to avoid confusion | การทำสำเนาของ dataframe เพื่อหลีกเลี่ยงการทับซ้อนกันของการเรียกใช้ dataframe \n",
        "clean_data = data0.copy() "
      ],
      "execution_count": null,
      "outputs": []
    },
    {
      "cell_type": "code",
      "metadata": {
        "id": "tAASYLkG5DI3"
      },
      "source": [
        ""
      ],
      "execution_count": null,
      "outputs": []
    }
  ]
}