{
  "nbformat": 4,
  "nbformat_minor": 0,
  "metadata": {
    "colab": {
      "name": "Distance_Numpy.ipynb",
      "provenance": [],
      "authorship_tag": "ABX9TyP/VTRpVjQpnPJ+yd0FR88g",
      "include_colab_link": true
    },
    "kernelspec": {
      "name": "python3",
      "display_name": "Python 3"
    },
    "language_info": {
      "name": "python"
    }
  },
  "cells": [
    {
      "cell_type": "markdown",
      "metadata": {
        "id": "view-in-github",
        "colab_type": "text"
      },
      "source": [
        "<a href=\"https://colab.research.google.com/github/kittikhun62/DWDM21/blob/main/Distance_Numpy.ipynb\" target=\"_parent\"><img src=\"https://colab.research.google.com/assets/colab-badge.svg\" alt=\"Open In Colab\"/></a>"
      ]
    },
    {
      "cell_type": "code",
      "metadata": {
        "id": "0v6feOO1cx2i"
      },
      "source": [
        "import numpy as np #package สำฟรับทำงานกับข้อมูลที่เป็นตัวเลข (อยู่ในรูปแบบเมทริกซ์)"
      ],
      "execution_count": 1,
      "outputs": []
    },
    {
      "cell_type": "code",
      "metadata": {
        "id": "Esq1wOSAN_OF"
      },
      "source": [
        "import numpy as np #package สำฟรับทำงานกับข้อมูลที่เป็นตัวเลข (อยู่ในรูปแบบเมทริกซ์)"
      ],
      "execution_count": 2,
      "outputs": []
    },
    {
      "cell_type": "markdown",
      "metadata": {
        "id": "TOqN8oJCN_OG"
      },
      "source": [
        "### Numpy Array"
      ]
    },
    {
      "cell_type": "markdown",
      "metadata": {
        "id": "UuntZpk7N_OG"
      },
      "source": [
        "#### สร้าง numpy array"
      ]
    },
    {
      "cell_type": "code",
      "metadata": {
        "id": "5SB89uPGN_OH"
      },
      "source": [
        "np_a = np.array([[1,2,3],[4,5,6]])"
      ],
      "execution_count": 3,
      "outputs": []
    },
    {
      "cell_type": "code",
      "metadata": {
        "colab": {
          "base_uri": "https://localhost:8080/"
        },
        "id": "WpWhD6Z9N_OH",
        "outputId": "5777d9ac-639a-48aa-8d71-a739a38b6f99"
      },
      "source": [
        "np_a"
      ],
      "execution_count": 4,
      "outputs": [
        {
          "output_type": "execute_result",
          "data": {
            "text/plain": [
              "array([[1, 2, 3],\n",
              "       [4, 5, 6]])"
            ]
          },
          "metadata": {},
          "execution_count": 4
        }
      ]
    },
    {
      "cell_type": "code",
      "metadata": {
        "colab": {
          "base_uri": "https://localhost:8080/"
        },
        "id": "e3gghO5WN_OJ",
        "outputId": "8e69999f-6dc0-48f6-bee9-6bffa93712c8"
      },
      "source": [
        "np_a.shape"
      ],
      "execution_count": 5,
      "outputs": [
        {
          "output_type": "execute_result",
          "data": {
            "text/plain": [
              "(2, 3)"
            ]
          },
          "metadata": {},
          "execution_count": 5
        }
      ]
    },
    {
      "cell_type": "code",
      "metadata": {
        "colab": {
          "base_uri": "https://localhost:8080/"
        },
        "id": "5msBot7pN_OJ",
        "outputId": "a832375f-a55e-4ab8-a59d-7e6ee6a4a282"
      },
      "source": [
        "np_b = np.array([[1,4],[2,5],[3,6]])\n",
        "np_b"
      ],
      "execution_count": 6,
      "outputs": [
        {
          "output_type": "execute_result",
          "data": {
            "text/plain": [
              "array([[1, 4],\n",
              "       [2, 5],\n",
              "       [3, 6]])"
            ]
          },
          "metadata": {},
          "execution_count": 6
        }
      ]
    },
    {
      "cell_type": "markdown",
      "metadata": {
        "id": "NkoaND0-N_OJ"
      },
      "source": [
        "#### matrix transpose"
      ]
    },
    {
      "cell_type": "code",
      "metadata": {
        "colab": {
          "base_uri": "https://localhost:8080/"
        },
        "id": "kxxiiqxvN_OK",
        "outputId": "f574e1da-6449-400a-c0e4-ed4d4ec8f782"
      },
      "source": [
        "np_a.T"
      ],
      "execution_count": 7,
      "outputs": [
        {
          "output_type": "execute_result",
          "data": {
            "text/plain": [
              "array([[1, 4],\n",
              "       [2, 5],\n",
              "       [3, 6]])"
            ]
          },
          "metadata": {},
          "execution_count": 7
        }
      ]
    },
    {
      "cell_type": "markdown",
      "metadata": {
        "id": "OGrPjbjXN_OK"
      },
      "source": [
        "### สร้าง matrix เริ่มต้น (zeros,ones)"
      ]
    },
    {
      "cell_type": "code",
      "metadata": {
        "colab": {
          "base_uri": "https://localhost:8080/"
        },
        "id": "aCs-yuqSN_OK",
        "outputId": "cb2666a0-fc52-4d63-f955-a6d4b7aae4f7"
      },
      "source": [
        "np_z = np.zeros((4,5))  \n",
        "np_z"
      ],
      "execution_count": 8,
      "outputs": [
        {
          "output_type": "execute_result",
          "data": {
            "text/plain": [
              "array([[0., 0., 0., 0., 0.],\n",
              "       [0., 0., 0., 0., 0.],\n",
              "       [0., 0., 0., 0., 0.],\n",
              "       [0., 0., 0., 0., 0.]])"
            ]
          },
          "metadata": {},
          "execution_count": 8
        }
      ]
    },
    {
      "cell_type": "code",
      "metadata": {
        "colab": {
          "base_uri": "https://localhost:8080/"
        },
        "id": "dUqBnJ3mN_OL",
        "outputId": "2047c479-48e6-4567-b40c-1b496a1d8a0d"
      },
      "source": [
        "np_o = np.ones((5,6))\n",
        "np_o"
      ],
      "execution_count": 9,
      "outputs": [
        {
          "output_type": "execute_result",
          "data": {
            "text/plain": [
              "array([[1., 1., 1., 1., 1., 1.],\n",
              "       [1., 1., 1., 1., 1., 1.],\n",
              "       [1., 1., 1., 1., 1., 1.],\n",
              "       [1., 1., 1., 1., 1., 1.],\n",
              "       [1., 1., 1., 1., 1., 1.]])"
            ]
          },
          "metadata": {},
          "execution_count": 9
        }
      ]
    },
    {
      "cell_type": "code",
      "metadata": {
        "colab": {
          "base_uri": "https://localhost:8080/"
        },
        "id": "mgquBz24N_OM",
        "outputId": "eaa4c1de-8e0d-4328-f0a8-1312b1d63dfc"
      },
      "source": [
        "np_200 = 200 * np.ones((4,7))\n",
        "np_200"
      ],
      "execution_count": 10,
      "outputs": [
        {
          "output_type": "execute_result",
          "data": {
            "text/plain": [
              "array([[200., 200., 200., 200., 200., 200., 200.],\n",
              "       [200., 200., 200., 200., 200., 200., 200.],\n",
              "       [200., 200., 200., 200., 200., 200., 200.],\n",
              "       [200., 200., 200., 200., 200., 200., 200.]])"
            ]
          },
          "metadata": {},
          "execution_count": 10
        }
      ]
    },
    {
      "cell_type": "markdown",
      "metadata": {
        "id": "t3q1ssWPN_OM"
      },
      "source": [
        "### สร้าง matrix random ค่าเเบบมั่ว ๆ"
      ]
    },
    {
      "cell_type": "code",
      "metadata": {
        "colab": {
          "base_uri": "https://localhost:8080/"
        },
        "id": "1ACEM4jfN_ON",
        "outputId": "e5e263b0-7b1c-4666-8165-8890c7a4aa94"
      },
      "source": [
        "np.random.randn(5,5) # randn คือ random เลขมาจาก normal distribution ที่มี mu=0 std=1"
      ],
      "execution_count": 11,
      "outputs": [
        {
          "output_type": "execute_result",
          "data": {
            "text/plain": [
              "array([[ 0.10043203,  1.75649377, -0.22283961,  0.51618007,  1.55923395],\n",
              "       [ 0.22592143,  0.20215894,  0.26337685,  0.85532297,  0.95255522],\n",
              "       [ 0.07956651,  0.46689719,  1.5100838 , -0.69550822,  1.83577693],\n",
              "       [-1.96547568,  0.01657988,  0.78004644, -0.81773011,  0.99803323],\n",
              "       [-1.08883255, -0.44926516, -0.2079144 ,  1.02068439,  0.31181677]])"
            ]
          },
          "metadata": {},
          "execution_count": 11
        }
      ]
    },
    {
      "cell_type": "code",
      "metadata": {
        "colab": {
          "base_uri": "https://localhost:8080/"
        },
        "id": "Rfje0BYAN_OO",
        "outputId": "10355c88-7b7a-4458-c7ee-15e367249309"
      },
      "source": [
        "2+(5*np.random.randn(3,3)) # random เลขมาจาก normal distribution ที่มี mu=2 std=5"
      ],
      "execution_count": 12,
      "outputs": [
        {
          "output_type": "execute_result",
          "data": {
            "text/plain": [
              "array([[ 1.29821413, -5.42671049,  5.15508625],\n",
              "       [-1.13053361, -6.08564952,  5.82928396],\n",
              "       [ 4.01411871,  8.74040921,  5.56660363]])"
            ]
          },
          "metadata": {},
          "execution_count": 12
        }
      ]
    },
    {
      "cell_type": "code",
      "metadata": {
        "colab": {
          "base_uri": "https://localhost:8080/"
        },
        "id": "UZFtIa5gN_OO",
        "outputId": "9170dc61-cb90-4eb9-8ef6-27ae25a4c337"
      },
      "source": [
        "np.random.randint(5,11,(4,5)) # random เลขจำนวนเต็ม ค่าตั้งเเต่ระหว่าง 5 ถึง 10 (5,11,(ขนาด 4x5))"
      ],
      "execution_count": 13,
      "outputs": [
        {
          "output_type": "execute_result",
          "data": {
            "text/plain": [
              "array([[ 9,  6,  6,  6,  6],\n",
              "       [ 7,  6, 10,  7,  6],\n",
              "       [10,  6, 10,  5,  9],\n",
              "       [ 9,  9, 10,  5, 10]])"
            ]
          },
          "metadata": {},
          "execution_count": 13
        }
      ]
    },
    {
      "cell_type": "code",
      "metadata": {
        "id": "URkvgX68OCq8"
      },
      "source": [
        "import numpy as np #package สำฟรับทำงานกับข้อมูลที่เป็นตัวเลข (อยู่ในรูปแบบเมทริกซ์)"
      ],
      "execution_count": 14,
      "outputs": []
    },
    {
      "cell_type": "markdown",
      "metadata": {
        "id": "7PkXAhLzOCq8"
      },
      "source": [
        "### Numpy Array"
      ]
    },
    {
      "cell_type": "markdown",
      "metadata": {
        "id": "hkHujSWZOCq9"
      },
      "source": [
        "#### สร้าง numpy array"
      ]
    },
    {
      "cell_type": "code",
      "metadata": {
        "id": "rx-WomNhOCq9"
      },
      "source": [
        "np_a = np.array([[1,2,3],[4,5,6]])"
      ],
      "execution_count": 15,
      "outputs": []
    },
    {
      "cell_type": "code",
      "metadata": {
        "colab": {
          "base_uri": "https://localhost:8080/"
        },
        "id": "CBvz1L5BOCq9",
        "outputId": "94dcda7e-9e8e-4ccb-cf81-07f0a2981247"
      },
      "source": [
        "np_a"
      ],
      "execution_count": 16,
      "outputs": [
        {
          "output_type": "execute_result",
          "data": {
            "text/plain": [
              "array([[1, 2, 3],\n",
              "       [4, 5, 6]])"
            ]
          },
          "metadata": {},
          "execution_count": 16
        }
      ]
    },
    {
      "cell_type": "code",
      "metadata": {
        "colab": {
          "base_uri": "https://localhost:8080/"
        },
        "id": "hiAd37k9OCq9",
        "outputId": "a19616bd-528c-4af5-867b-7c324b1118ae"
      },
      "source": [
        "np_a.shape"
      ],
      "execution_count": 17,
      "outputs": [
        {
          "output_type": "execute_result",
          "data": {
            "text/plain": [
              "(2, 3)"
            ]
          },
          "metadata": {},
          "execution_count": 17
        }
      ]
    },
    {
      "cell_type": "code",
      "metadata": {
        "colab": {
          "base_uri": "https://localhost:8080/"
        },
        "id": "odMTQV9vOCq-",
        "outputId": "7b6a5515-dfe7-4a83-f2e7-70632ba22ae0"
      },
      "source": [
        "np_b = np.array([[1,4],[2,5],[3,6]])\n",
        "np_b"
      ],
      "execution_count": 18,
      "outputs": [
        {
          "output_type": "execute_result",
          "data": {
            "text/plain": [
              "array([[1, 4],\n",
              "       [2, 5],\n",
              "       [3, 6]])"
            ]
          },
          "metadata": {},
          "execution_count": 18
        }
      ]
    },
    {
      "cell_type": "markdown",
      "metadata": {
        "id": "9QlM70W_OCq-"
      },
      "source": [
        "#### matrix transpose"
      ]
    },
    {
      "cell_type": "markdown",
      "metadata": {
        "id": "xmseJkXVOCq-"
      },
      "source": [
        "### สร้าง matrix เริ่มต้น (zeros,ones)"
      ]
    },
    {
      "cell_type": "code",
      "metadata": {
        "colab": {
          "base_uri": "https://localhost:8080/"
        },
        "id": "zxrunUCHOCq-",
        "outputId": "23bb21ab-ccae-4c0e-c160-3b254c719d45"
      },
      "source": [
        "np_z = np.zeros((4,5))  \n",
        "np_z"
      ],
      "execution_count": 20,
      "outputs": [
        {
          "output_type": "execute_result",
          "data": {
            "text/plain": [
              "array([[0., 0., 0., 0., 0.],\n",
              "       [0., 0., 0., 0., 0.],\n",
              "       [0., 0., 0., 0., 0.],\n",
              "       [0., 0., 0., 0., 0.]])"
            ]
          },
          "metadata": {},
          "execution_count": 20
        }
      ]
    },
    {
      "cell_type": "code",
      "metadata": {
        "colab": {
          "base_uri": "https://localhost:8080/"
        },
        "id": "MOzL_5NROCq_",
        "outputId": "88a407f0-626e-4e97-aee0-0cfaaae701fc"
      },
      "source": [
        "np_o = np.ones((5,6))\n",
        "np_o"
      ],
      "execution_count": 21,
      "outputs": [
        {
          "output_type": "execute_result",
          "data": {
            "text/plain": [
              "array([[1., 1., 1., 1., 1., 1.],\n",
              "       [1., 1., 1., 1., 1., 1.],\n",
              "       [1., 1., 1., 1., 1., 1.],\n",
              "       [1., 1., 1., 1., 1., 1.],\n",
              "       [1., 1., 1., 1., 1., 1.]])"
            ]
          },
          "metadata": {},
          "execution_count": 21
        }
      ]
    },
    {
      "cell_type": "code",
      "metadata": {
        "colab": {
          "base_uri": "https://localhost:8080/"
        },
        "id": "lkqYOlEPOCq_",
        "outputId": "ec99b5c8-4679-482c-ba14-691257349c7f"
      },
      "source": [
        "np_200 = 200 * np.ones((4,7))\n",
        "np_200"
      ],
      "execution_count": 22,
      "outputs": [
        {
          "output_type": "execute_result",
          "data": {
            "text/plain": [
              "array([[200., 200., 200., 200., 200., 200., 200.],\n",
              "       [200., 200., 200., 200., 200., 200., 200.],\n",
              "       [200., 200., 200., 200., 200., 200., 200.],\n",
              "       [200., 200., 200., 200., 200., 200., 200.]])"
            ]
          },
          "metadata": {},
          "execution_count": 22
        }
      ]
    },
    {
      "cell_type": "markdown",
      "metadata": {
        "id": "B_09JA40OCq_"
      },
      "source": [
        "### สร้าง matrix random ค่าเเบบมั่ว ๆ"
      ]
    },
    {
      "cell_type": "code",
      "metadata": {
        "colab": {
          "base_uri": "https://localhost:8080/"
        },
        "id": "eQlKcjeTOCrA",
        "outputId": "3979f6c5-92e8-4bf5-8f8c-25af4b76c3f6"
      },
      "source": [
        "np.random.randn(5,5) # randn คือ random เลขมาจาก normal distribution ที่มี mu=0 std=1"
      ],
      "execution_count": 23,
      "outputs": [
        {
          "output_type": "execute_result",
          "data": {
            "text/plain": [
              "array([[-0.6702103 , -0.25864182, -0.06839167, -0.17113043,  2.12367557],\n",
              "       [-0.51155766, -2.03531226,  0.88734095,  0.16085243, -0.29390499],\n",
              "       [ 0.73021079,  0.90710417,  0.3549102 ,  0.43761823, -0.21123048],\n",
              "       [-0.7800118 ,  0.29398133, -1.21050398, -0.63167004, -1.12857671],\n",
              "       [-0.87030617,  2.37023163,  0.20651381,  0.04339808,  0.03986339]])"
            ]
          },
          "metadata": {},
          "execution_count": 23
        }
      ]
    },
    {
      "cell_type": "code",
      "metadata": {
        "colab": {
          "base_uri": "https://localhost:8080/"
        },
        "id": "mv5Bo67UOCrA",
        "outputId": "f3f0ff98-6e96-4aa7-cf13-7d56413edab1"
      },
      "source": [
        "2+(5*np.random.randn(3,3)) # random เลขมาจาก normal distribution ที่มี mu=2 std=5"
      ],
      "execution_count": 24,
      "outputs": [
        {
          "output_type": "execute_result",
          "data": {
            "text/plain": [
              "array([[ 6.11233964,  8.76857342, 12.298761  ],\n",
              "       [-1.67947218, -1.36321857,  4.41372559],\n",
              "       [11.55227933,  3.9450026 ,  0.69581529]])"
            ]
          },
          "metadata": {},
          "execution_count": 24
        }
      ]
    },
    {
      "cell_type": "code",
      "metadata": {
        "colab": {
          "base_uri": "https://localhost:8080/"
        },
        "id": "iNXo091jOCrA",
        "outputId": "c5c2c2de-3569-4bd0-adac-308c2107cc90"
      },
      "source": [
        "np.random.randint(5,11,(4,5)) # random เลขจำนวนเต็ม ค่าตั้งเเต่ระหว่าง 5 ถึง 10 (5,11,(ขนาด 4x5))"
      ],
      "execution_count": 25,
      "outputs": [
        {
          "output_type": "execute_result",
          "data": {
            "text/plain": [
              "array([[ 9,  6,  5,  5,  8],\n",
              "       [ 6,  5,  6,  5, 10],\n",
              "       [ 9,  7,  7,  5,  7],\n",
              "       [10,  6,  7, 10,  6]])"
            ]
          },
          "metadata": {},
          "execution_count": 25
        }
      ]
    },
    {
      "cell_type": "markdown",
      "metadata": {
        "id": "Fqj4696uoMjR"
      },
      "source": [
        "### Numpy Array"
      ]
    },
    {
      "cell_type": "markdown",
      "metadata": {
        "id": "kQGgI67yoT6B"
      },
      "source": [
        "#### สร้าง numpy array"
      ]
    },
    {
      "cell_type": "code",
      "metadata": {
        "id": "WO7FqLGvdMjK"
      },
      "source": [
        "np_a = np.array([[1,2,3],[4,5,6]])"
      ],
      "execution_count": 26,
      "outputs": []
    },
    {
      "cell_type": "code",
      "metadata": {
        "colab": {
          "base_uri": "https://localhost:8080/"
        },
        "id": "v99XUhW3oX8F",
        "outputId": "28410b2e-53b9-4781-b29a-1150c99f9a22"
      },
      "source": [
        "np_a"
      ],
      "execution_count": 27,
      "outputs": [
        {
          "output_type": "execute_result",
          "data": {
            "text/plain": [
              "array([[1, 2, 3],\n",
              "       [4, 5, 6]])"
            ]
          },
          "metadata": {},
          "execution_count": 27
        }
      ]
    },
    {
      "cell_type": "code",
      "metadata": {
        "colab": {
          "base_uri": "https://localhost:8080/"
        },
        "id": "oo4aZIX5oZaQ",
        "outputId": "36674d50-67ee-4d39-e8da-f4670825a0fb"
      },
      "source": [
        "np_a.shape"
      ],
      "execution_count": 28,
      "outputs": [
        {
          "output_type": "execute_result",
          "data": {
            "text/plain": [
              "(2, 3)"
            ]
          },
          "metadata": {},
          "execution_count": 28
        }
      ]
    },
    {
      "cell_type": "code",
      "metadata": {
        "colab": {
          "base_uri": "https://localhost:8080/"
        },
        "id": "i0NMZ3lzob0Y",
        "outputId": "92187bb7-3ee3-444c-c0e7-fc062eee815e"
      },
      "source": [
        "np_b = np.array([[1,4],[2,5],[3,6]])\n",
        "np_b"
      ],
      "execution_count": 29,
      "outputs": [
        {
          "output_type": "execute_result",
          "data": {
            "text/plain": [
              "array([[1, 4],\n",
              "       [2, 5],\n",
              "       [3, 6]])"
            ]
          },
          "metadata": {},
          "execution_count": 29
        }
      ]
    },
    {
      "cell_type": "code",
      "metadata": {
        "colab": {
          "base_uri": "https://localhost:8080/"
        },
        "id": "04UrEa8XoeMS",
        "outputId": "15009fab-648c-42ae-9e75-b8316166b6d8"
      },
      "source": [
        "np_a.T"
      ],
      "execution_count": 30,
      "outputs": [
        {
          "output_type": "execute_result",
          "data": {
            "text/plain": [
              "array([[1, 4],\n",
              "       [2, 5],\n",
              "       [3, 6]])"
            ]
          },
          "metadata": {},
          "execution_count": 30
        }
      ]
    },
    {
      "cell_type": "markdown",
      "metadata": {
        "id": "jVDSnJSuo59K"
      },
      "source": [
        "### สร้าง matrix เริ่มต้น (zeros,ones)"
      ]
    },
    {
      "cell_type": "code",
      "metadata": {
        "colab": {
          "base_uri": "https://localhost:8080/"
        },
        "id": "ZLbxtJ5co3o7",
        "outputId": "a43b9c52-2814-422f-8a50-c4594b5a01f9"
      },
      "source": [
        "np_z = np.zeros((4,5))  \n",
        "np_z"
      ],
      "execution_count": 31,
      "outputs": [
        {
          "output_type": "execute_result",
          "data": {
            "text/plain": [
              "array([[0., 0., 0., 0., 0.],\n",
              "       [0., 0., 0., 0., 0.],\n",
              "       [0., 0., 0., 0., 0.],\n",
              "       [0., 0., 0., 0., 0.]])"
            ]
          },
          "metadata": {},
          "execution_count": 31
        }
      ]
    },
    {
      "cell_type": "code",
      "metadata": {
        "colab": {
          "base_uri": "https://localhost:8080/"
        },
        "id": "6BHsrVJlpEtV",
        "outputId": "8086579c-c9ac-4f48-e4cc-be0bbe07460b"
      },
      "source": [
        "np_o = np.ones((5,6))\n",
        "np_o"
      ],
      "execution_count": 32,
      "outputs": [
        {
          "output_type": "execute_result",
          "data": {
            "text/plain": [
              "array([[1., 1., 1., 1., 1., 1.],\n",
              "       [1., 1., 1., 1., 1., 1.],\n",
              "       [1., 1., 1., 1., 1., 1.],\n",
              "       [1., 1., 1., 1., 1., 1.],\n",
              "       [1., 1., 1., 1., 1., 1.]])"
            ]
          },
          "metadata": {},
          "execution_count": 32
        }
      ]
    },
    {
      "cell_type": "code",
      "metadata": {
        "colab": {
          "base_uri": "https://localhost:8080/"
        },
        "id": "VNmo9amNpG3u",
        "outputId": "56ec1fe0-dcb6-459a-8477-4e6e4f2e6c56"
      },
      "source": [
        "np_200 = 200 * np.ones((4,7))\n",
        "np_200"
      ],
      "execution_count": 33,
      "outputs": [
        {
          "output_type": "execute_result",
          "data": {
            "text/plain": [
              "array([[200., 200., 200., 200., 200., 200., 200.],\n",
              "       [200., 200., 200., 200., 200., 200., 200.],\n",
              "       [200., 200., 200., 200., 200., 200., 200.],\n",
              "       [200., 200., 200., 200., 200., 200., 200.]])"
            ]
          },
          "metadata": {},
          "execution_count": 33
        }
      ]
    },
    {
      "cell_type": "markdown",
      "metadata": {
        "id": "mkopdld0pLLC"
      },
      "source": [
        "### สร้าง matrix random ค่าเเบบมั่ว ๆ"
      ]
    },
    {
      "cell_type": "code",
      "metadata": {
        "colab": {
          "base_uri": "https://localhost:8080/"
        },
        "id": "rx430DGspJG_",
        "outputId": "dfee8d0f-bec8-4bb0-950f-512d19fa3b70"
      },
      "source": [
        "np.random.randn(5,5) # randn คือ random เลขมาจาก normal distribution ที่มี mu=0 std=1"
      ],
      "execution_count": 34,
      "outputs": [
        {
          "output_type": "execute_result",
          "data": {
            "text/plain": [
              "array([[-0.57134641, -1.46083246, -1.45167459, -0.0546088 , -0.65790473],\n",
              "       [ 0.84554379, -0.4542728 , -0.21370754,  1.33202398,  0.27907908],\n",
              "       [-0.43781946, -1.30729522, -0.07661953, -0.67989086,  1.63361428],\n",
              "       [ 0.90084042,  0.74361932,  2.17592459,  0.72513873,  0.51049785],\n",
              "       [ 0.25830168,  0.25011036,  0.40136525,  0.85505433,  0.53676066]])"
            ]
          },
          "metadata": {},
          "execution_count": 34
        }
      ]
    },
    {
      "cell_type": "code",
      "metadata": {
        "colab": {
          "base_uri": "https://localhost:8080/"
        },
        "id": "_nNJ9DnYpPR9",
        "outputId": "8bd329a5-7c76-47ec-b52c-0230534345d7"
      },
      "source": [
        "2+(5*np.random.randn(3,3)) # random เลขมาจาก normal distribution ที่มี mu=2 std=5"
      ],
      "execution_count": 35,
      "outputs": [
        {
          "output_type": "execute_result",
          "data": {
            "text/plain": [
              "array([[-10.05350336,  -6.69062224,   0.37179752],\n",
              "       [ -0.32351938,  -1.01200947,   8.90970835],\n",
              "       [ -0.30719126,   4.59821793,   5.49178711]])"
            ]
          },
          "metadata": {},
          "execution_count": 35
        }
      ]
    },
    {
      "cell_type": "code",
      "metadata": {
        "colab": {
          "base_uri": "https://localhost:8080/"
        },
        "id": "IBvvJj7UpQ3k",
        "outputId": "c17affeb-20c6-421d-8a85-ebe46f4f1e47"
      },
      "source": [
        "np.random.randint(5,11,(4,5)) # random เลขจำนวนเต็ม ค่าตั้งเเต่ระหว่าง 5 ถึง 10 (5,11,(ขนาด 4x5))"
      ],
      "execution_count": 36,
      "outputs": [
        {
          "output_type": "execute_result",
          "data": {
            "text/plain": [
              "array([[ 9, 10,  5, 10,  5],\n",
              "       [ 6,  8, 10,  9,  9],\n",
              "       [ 8,  7,  5,  8,  6],\n",
              "       [10,  8,  9,  7, 10]])"
            ]
          },
          "metadata": {},
          "execution_count": 36
        }
      ]
    },
    {
      "cell_type": "markdown",
      "metadata": {
        "id": "03sWulKFoyea"
      },
      "source": [
        "#### matrix transpose"
      ]
    },
    {
      "cell_type": "code",
      "metadata": {
        "colab": {
          "base_uri": "https://localhost:8080/"
        },
        "id": "bNuz2NWNOq9_",
        "outputId": "b2c53627-6867-4ea9-afb5-2206aef78e5f"
      },
      "source": [
        "np_a"
      ],
      "execution_count": 37,
      "outputs": [
        {
          "output_type": "execute_result",
          "data": {
            "text/plain": [
              "array([[1, 2, 3],\n",
              "       [4, 5, 6]])"
            ]
          },
          "metadata": {},
          "execution_count": 37
        }
      ]
    },
    {
      "cell_type": "code",
      "metadata": {
        "colab": {
          "base_uri": "https://localhost:8080/"
        },
        "id": "mMxIJRAWOCq-",
        "outputId": "e0a386d4-ecfe-4e33-a32e-320ce0fb12e5"
      },
      "source": [
        "np_a.T #transpose สลับเเถวเป็ฯหลักสลับหลักเป็นเเถว"
      ],
      "execution_count": 40,
      "outputs": [
        {
          "output_type": "execute_result",
          "data": {
            "text/plain": [
              "array([[1, 4],\n",
              "       [2, 5],\n",
              "       [3, 6]])"
            ]
          },
          "metadata": {},
          "execution_count": 40
        }
      ]
    },
    {
      "cell_type": "code",
      "metadata": {
        "colab": {
          "base_uri": "https://localhost:8080/"
        },
        "id": "0eyilGe3Oobj",
        "outputId": "a9084cea-076e-48bf-c485-50af2966e037"
      },
      "source": [
        "1+np_a # add scalar to matrix"
      ],
      "execution_count": 38,
      "outputs": [
        {
          "output_type": "execute_result",
          "data": {
            "text/plain": [
              "array([[2, 3, 4],\n",
              "       [5, 6, 7]])"
            ]
          },
          "metadata": {},
          "execution_count": 38
        }
      ]
    },
    {
      "cell_type": "code",
      "metadata": {
        "colab": {
          "base_uri": "https://localhost:8080/"
        },
        "id": "iHrnCnqEO0SP",
        "outputId": "78ab91f6-f2f9-46e6-a401-d7faafcc8e0e"
      },
      "source": [
        "2 * np_a # maltiply scalar to matrix"
      ],
      "execution_count": 41,
      "outputs": [
        {
          "output_type": "execute_result",
          "data": {
            "text/plain": [
              "array([[ 2,  4,  6],\n",
              "       [ 8, 10, 12]])"
            ]
          },
          "metadata": {},
          "execution_count": 41
        }
      ]
    },
    {
      "cell_type": "code",
      "metadata": {
        "colab": {
          "base_uri": "https://localhost:8080/"
        },
        "id": "eG-Pl-77PCvJ",
        "outputId": "b4e91dac-768e-40fa-fe4d-2767b0578147"
      },
      "source": [
        "np_a.T + np_b"
      ],
      "execution_count": 42,
      "outputs": [
        {
          "output_type": "execute_result",
          "data": {
            "text/plain": [
              "array([[ 2,  8],\n",
              "       [ 4, 10],\n",
              "       [ 6, 12]])"
            ]
          },
          "metadata": {},
          "execution_count": 42
        }
      ]
    },
    {
      "cell_type": "code",
      "metadata": {
        "colab": {
          "base_uri": "https://localhost:8080/"
        },
        "id": "6EjkQB9DPQU3",
        "outputId": "24865f4d-f27a-4912-ad72-18c5ca02e1d9"
      },
      "source": [
        "np_c = np.array([[6,5,4],[3,2,1]])\n",
        "np_c"
      ],
      "execution_count": 44,
      "outputs": [
        {
          "output_type": "execute_result",
          "data": {
            "text/plain": [
              "array([[6, 5, 4],\n",
              "       [3, 2, 1]])"
            ]
          },
          "metadata": {},
          "execution_count": 44
        }
      ]
    },
    {
      "cell_type": "code",
      "metadata": {
        "colab": {
          "base_uri": "https://localhost:8080/"
        },
        "id": "eE6wtE25PPRz",
        "outputId": "64ee22fe-2396-4278-96d2-8c1ef79b0e0d"
      },
      "source": [
        "np_a + np_c #adding martrix to martrix"
      ],
      "execution_count": 46,
      "outputs": [
        {
          "output_type": "execute_result",
          "data": {
            "text/plain": [
              "array([[7, 7, 7],\n",
              "       [7, 7, 7]])"
            ]
          },
          "metadata": {},
          "execution_count": 46
        }
      ]
    },
    {
      "cell_type": "code",
      "metadata": {
        "colab": {
          "base_uri": "https://localhost:8080/"
        },
        "id": "nHYqOo-tP_EW",
        "outputId": "9b2b23cd-0b31-4b47-e6ce-3e8c54aaa4e9"
      },
      "source": [
        "np_c.shape"
      ],
      "execution_count": 47,
      "outputs": [
        {
          "output_type": "execute_result",
          "data": {
            "text/plain": [
              "(2, 3)"
            ]
          },
          "metadata": {},
          "execution_count": 47
        }
      ]
    },
    {
      "cell_type": "code",
      "metadata": {
        "colab": {
          "base_uri": "https://localhost:8080/"
        },
        "id": "jIolbBGVQFjK",
        "outputId": "12e1861c-051c-45f3-c550-ea735476f0ab"
      },
      "source": [
        "np_a.shape"
      ],
      "execution_count": 48,
      "outputs": [
        {
          "output_type": "execute_result",
          "data": {
            "text/plain": [
              "(2, 3)"
            ]
          },
          "metadata": {},
          "execution_count": 48
        }
      ]
    },
    {
      "cell_type": "code",
      "metadata": {
        "colab": {
          "base_uri": "https://localhost:8080/"
        },
        "id": "prYhCTIXQkUe",
        "outputId": "93644c8c-1054-457a-e408-8ee0efcdddec"
      },
      "source": [
        "np_c.T.shape"
      ],
      "execution_count": 50,
      "outputs": [
        {
          "output_type": "execute_result",
          "data": {
            "text/plain": [
              "(3, 2)"
            ]
          },
          "metadata": {},
          "execution_count": 50
        }
      ]
    },
    {
      "cell_type": "code",
      "metadata": {
        "colab": {
          "base_uri": "https://localhost:8080/"
        },
        "id": "CC5BOqgaQJrK",
        "outputId": "6f977eae-8d7b-4a93-bf64-10f05b74e4b1"
      },
      "source": [
        "np.dot(np_a,np_c.T) # mutpotling martrix to martrix (a,b) X (b,c) = (a,c)"
      ],
      "execution_count": 49,
      "outputs": [
        {
          "output_type": "execute_result",
          "data": {
            "text/plain": [
              "array([[28, 10],\n",
              "       [73, 28]])"
            ]
          },
          "metadata": {},
          "execution_count": 49
        }
      ]
    },
    {
      "cell_type": "markdown",
      "metadata": {
        "id": "F9ueC1DPRSwH"
      },
      "source": [
        "### Indexing & Slicing\n"
      ]
    },
    {
      "cell_type": "code",
      "metadata": {
        "colab": {
          "base_uri": "https://localhost:8080/"
        },
        "id": "x2FP5-N_QlMF",
        "outputId": "20f8f36a-d9fc-4324-8a0d-f4d688511e25"
      },
      "source": [
        "np_a"
      ],
      "execution_count": 51,
      "outputs": [
        {
          "output_type": "execute_result",
          "data": {
            "text/plain": [
              "array([[1, 2, 3],\n",
              "       [4, 5, 6]])"
            ]
          },
          "metadata": {},
          "execution_count": 51
        }
      ]
    },
    {
      "cell_type": "code",
      "metadata": {
        "colab": {
          "base_uri": "https://localhost:8080/"
        },
        "id": "EK2HQGXJRkUf",
        "outputId": "b2f337f9-30ae-418d-9c4b-2707fc90bb36"
      },
      "source": [
        "np_a[1,1]"
      ],
      "execution_count": 54,
      "outputs": [
        {
          "output_type": "execute_result",
          "data": {
            "text/plain": [
              "5"
            ]
          },
          "metadata": {},
          "execution_count": 54
        }
      ]
    },
    {
      "cell_type": "code",
      "metadata": {
        "colab": {
          "base_uri": "https://localhost:8080/"
        },
        "id": "juIRB0SLSIFo",
        "outputId": "9a08de2e-7216-46a9-f5e6-4f2fecdd0ad3"
      },
      "source": [
        "np_a[:2,:2]"
      ],
      "execution_count": 56,
      "outputs": [
        {
          "output_type": "execute_result",
          "data": {
            "text/plain": [
              "array([[1, 2],\n",
              "       [4, 5]])"
            ]
          },
          "metadata": {},
          "execution_count": 56
        }
      ]
    },
    {
      "cell_type": "code",
      "metadata": {
        "colab": {
          "base_uri": "https://localhost:8080/"
        },
        "id": "qfyYq-YvSS8b",
        "outputId": "fd5fc6d7-5505-418e-c073-101e6ba66569"
      },
      "source": [
        "np_a[0,:]\n"
      ],
      "execution_count": 58,
      "outputs": [
        {
          "output_type": "execute_result",
          "data": {
            "text/plain": [
              "array([1, 2, 3])"
            ]
          },
          "metadata": {},
          "execution_count": 58
        }
      ]
    },
    {
      "cell_type": "markdown",
      "metadata": {
        "id": "YIJxmY-GSm1D"
      },
      "source": [
        "## useful  functions"
      ]
    },
    {
      "cell_type": "code",
      "metadata": {
        "colab": {
          "base_uri": "https://localhost:8080/"
        },
        "id": "qrDJwnbISZhK",
        "outputId": "ca4b1bb7-3c0e-46fc-a17a-8a60c5adf969"
      },
      "source": [
        "np.sum(np_a)"
      ],
      "execution_count": 60,
      "outputs": [
        {
          "output_type": "execute_result",
          "data": {
            "text/plain": [
              "21"
            ]
          },
          "metadata": {},
          "execution_count": 60
        }
      ]
    },
    {
      "cell_type": "code",
      "metadata": {
        "colab": {
          "base_uri": "https://localhost:8080/"
        },
        "id": "ftTgxSaQSwhM",
        "outputId": "a46e611b-07b8-4435-f10b-17978f183ab1"
      },
      "source": [
        "np_a"
      ],
      "execution_count": 61,
      "outputs": [
        {
          "output_type": "execute_result",
          "data": {
            "text/plain": [
              "array([[1, 2, 3],\n",
              "       [4, 5, 6]])"
            ]
          },
          "metadata": {},
          "execution_count": 61
        }
      ]
    },
    {
      "cell_type": "code",
      "metadata": {
        "colab": {
          "base_uri": "https://localhost:8080/"
        },
        "id": "pgjHMZtsS4Pt",
        "outputId": "a8aa28bc-1f30-4557-e2f4-ed8685ee3b56"
      },
      "source": [
        "np.sum(np_a,axis=0) #axis 0 คือให้มันsumในเเกนไหน หรือรวมเลขในเเต่ละเเถว"
      ],
      "execution_count": 63,
      "outputs": [
        {
          "output_type": "execute_result",
          "data": {
            "text/plain": [
              "array([5, 7, 9])"
            ]
          },
          "metadata": {},
          "execution_count": 63
        }
      ]
    },
    {
      "cell_type": "code",
      "metadata": {
        "colab": {
          "base_uri": "https://localhost:8080/"
        },
        "id": "FK6ct-QoTF5U",
        "outputId": "f834002b-b0b8-4929-b7ae-6d0146e81a38"
      },
      "source": [
        "np.sum(np_a,axis=1) #axis 0 หรือรวมเลขในเเต่ละหลัก"
      ],
      "execution_count": 67,
      "outputs": [
        {
          "output_type": "execute_result",
          "data": {
            "text/plain": [
              "array([ 6, 15])"
            ]
          },
          "metadata": {},
          "execution_count": 67
        }
      ]
    },
    {
      "cell_type": "code",
      "metadata": {
        "colab": {
          "base_uri": "https://localhost:8080/"
        },
        "id": "ip7XUB7kTVCg",
        "outputId": "43f13855-7713-4e80-bcc0-60faa099f3ea"
      },
      "source": [
        "np.mean(np_a)"
      ],
      "execution_count": 65,
      "outputs": [
        {
          "output_type": "execute_result",
          "data": {
            "text/plain": [
              "3.5"
            ]
          },
          "metadata": {},
          "execution_count": 65
        }
      ]
    },
    {
      "cell_type": "code",
      "metadata": {
        "colab": {
          "base_uri": "https://localhost:8080/"
        },
        "id": "hnC_12NaTcZK",
        "outputId": "10146235-9f1b-4b73-a899-aff413e2cb0c"
      },
      "source": [
        "np.mean(np_a,axis=0) #หา mean ของคอมลัม"
      ],
      "execution_count": 66,
      "outputs": [
        {
          "output_type": "execute_result",
          "data": {
            "text/plain": [
              "array([2.5, 3.5, 4.5])"
            ]
          },
          "metadata": {},
          "execution_count": 66
        }
      ]
    },
    {
      "cell_type": "markdown",
      "metadata": {
        "id": "z4BabReSUt7K"
      },
      "source": [
        "## วนลูปเอง\n",
        "\n",
        "\n",
        "'''\n",
        " 1.จัดฟังก์ชันไม่ได้\n",
        " 2.ทำให้มันดูพิเศษ"
      ]
    },
    {
      "cell_type": "markdown",
      "metadata": {
        "id": "hygDNihaVAb7"
      },
      "source": [
        "summation"
      ]
    },
    {
      "cell_type": "code",
      "metadata": {
        "colab": {
          "base_uri": "https://localhost:8080/"
        },
        "id": "9cGCYN1qUH2m",
        "outputId": "57dee341-0eb6-4718-8d5b-fd3c422f14c5"
      },
      "source": [
        "sum_all = 0\n",
        "\n",
        "for  row in range(np_a.shape[0]):\n",
        "    for col in range(np_a.shape[1]):\n",
        "        sum_all = sum_all + np_a[row,col]\n",
        "        print(f'we are at row={row},col={col} np_a[{row},{col}]={np_a[row,col]} sum_all={sum_all}')\n",
        "    print(sum_all)"
      ],
      "execution_count": 71,
      "outputs": [
        {
          "output_type": "stream",
          "text": [
            "we are at row=0,col=0 np_a[0,0]=1 sum_all=1\n",
            "we are at row=0,col=1 np_a[0,1]=2 sum_all=3\n",
            "we are at row=0,col=2 np_a[0,2]=3 sum_all=6\n",
            "6\n",
            "we are at row=1,col=0 np_a[1,0]=4 sum_all=10\n",
            "we are at row=1,col=1 np_a[1,1]=5 sum_all=15\n",
            "we are at row=1,col=2 np_a[1,2]=6 sum_all=21\n",
            "21\n"
          ],
          "name": "stdout"
        }
      ]
    },
    {
      "cell_type": "markdown",
      "metadata": {
        "id": "Sfj56PYCWsKF"
      },
      "source": [
        "np.sum(np_a,axis = 0)"
      ]
    },
    {
      "cell_type": "code",
      "metadata": {
        "colab": {
          "base_uri": "https://localhost:8080/"
        },
        "id": "rgWUG3u0WChS",
        "outputId": "82522c09-e80d-48f9-ecdf-1481e1fff129"
      },
      "source": [
        "sum_all = np.zeros(np_a.shape[1])\n",
        "\n",
        "for  row in range(np_a.shape[0]):\n",
        "    for col in range(np_a.shape[1]):\n",
        "        sum_all[col] = sum_all[col] + np_a[row,col]\n",
        "print(sum_all)"
      ],
      "execution_count": 72,
      "outputs": [
        {
          "output_type": "stream",
          "text": [
            "[5. 7. 9.]\n"
          ],
          "name": "stdout"
        }
      ]
    },
    {
      "cell_type": "markdown",
      "metadata": {
        "id": "io-Mz-vJYiO-"
      },
      "source": [
        "Quiz กลุ่ม\n",
        "\n",
        "วนลูปหาค่า\n",
        "\n",
        "* ```np.sum(np_a,axis=1)``` sukuna /\n",
        "* ```np.mean(np_a)``` i love อ.ต้น /\n",
        "* ```np.mean(np_a,axis=0)``` natashar /\n",
        "* ```np.mean(np_a,axis=1)``` teletubby /\n",
        "* ```np.max(np_a)``` numba one /\n",
        "* ```np.max(np_a,axis=0)``` เอกาไร้สติ /\n",
        "* ```np.max(np_a,axis=1)``` sandbox /\n",
        "* ```np.min(np_a)``` ลูกหมี /\n",
        "* ```np.min(np_a,axis=0)``` wakame /\n",
        "* ```np.min(np_a,axis=1)``` แมวส้ม /"
      ]
    },
    {
      "cell_type": "code",
      "metadata": {
        "colab": {
          "base_uri": "https://localhost:8080/"
        },
        "id": "dGO_SMwPXf5P",
        "outputId": "1e3cc9cc-c315-4f72-b5b7-5097a54de4fd"
      },
      "source": [
        "# np.max(np_a,axis=1)\n",
        "max_all = np.zeros(np_a.shape[0])\n",
        "for row in range(np_a.shape[0]):\n",
        "    max_all[row] = max(np_a[row,:])\n",
        "print(max_all)"
      ],
      "execution_count": 132,
      "outputs": [
        {
          "output_type": "stream",
          "text": [
            "[3. 6.]\n"
          ],
          "name": "stdout"
        }
      ]
    },
    {
      "cell_type": "code",
      "metadata": {
        "colab": {
          "base_uri": "https://localhost:8080/"
        },
        "id": "KL8VuMv8dnRB",
        "outputId": "0b4b3004-b038-4590-bbd1-6302d2947757"
      },
      "source": [
        "#np.mean(np_a,axis=0)\n",
        "mean_all = np.zeros(np_a.shape[1])\n",
        "for row in range(np_a.shape[0]):\n",
        "     for col in range(np_a.shape[1]):\n",
        "          mean_all[col] = mean_all[col] + np_a[row,col]/np_a.shape[0]\n",
        "print(mean_all)"
      ],
      "execution_count": 133,
      "outputs": [
        {
          "output_type": "stream",
          "text": [
            "[2.5 3.5 4.5]\n"
          ],
          "name": "stdout"
        }
      ]
    },
    {
      "cell_type": "code",
      "metadata": {
        "colab": {
          "base_uri": "https://localhost:8080/"
        },
        "id": "nkL4nmose3yY",
        "outputId": "a1ff95f8-ad92-4d89-8b1f-342f7201b742"
      },
      "source": [
        "#np.mean(np_a,axis=1)\n",
        "sum_all = np.zeros(np_a.shape[0])\n",
        "for row in range(np_a.shape[0]):\n",
        "    for col in range(np_a.shape[1]): \n",
        "        sum_all[row] = sum_all[row] + np_a[row,col]\n",
        "sum_all = sum_all/np_a.shape[1]\n",
        "print(sum_all)"
      ],
      "execution_count": 134,
      "outputs": [
        {
          "output_type": "stream",
          "text": [
            "[2. 5.]\n"
          ],
          "name": "stdout"
        }
      ]
    },
    {
      "cell_type": "code",
      "metadata": {
        "colab": {
          "base_uri": "https://localhost:8080/"
        },
        "id": "quWQF_yEgOzm",
        "outputId": "df1145ee-4f1f-4538-e29a-ee3c11590d8f"
      },
      "source": [
        "#np.max(np_a)\n",
        "max_a = -100000000\n",
        "for row in range(np_a.shape[0]):\n",
        "    for col in range(np_a.shape[1]):\n",
        "        if np_a[row,col] > max_a :\n",
        "            max_a = np_a[row,col]\n",
        "print(max_a)"
      ],
      "execution_count": 135,
      "outputs": [
        {
          "output_type": "stream",
          "text": [
            "6\n"
          ],
          "name": "stdout"
        }
      ]
    },
    {
      "cell_type": "code",
      "metadata": {
        "colab": {
          "base_uri": "https://localhost:8080/"
        },
        "id": "LRGuywWlhAyZ",
        "outputId": "75c32849-03aa-454e-c144-34802bfff037"
      },
      "source": [
        "### 10. np.min(np_a,axis=1)\n",
        "min_row = np.zeros(np_a.shape[0])\n",
        "for row in range(np_a.shape[0]):\n",
        "   min_row[row] = min(np_a[row,:])\n",
        "print(min_row)"
      ],
      "execution_count": 136,
      "outputs": [
        {
          "output_type": "stream",
          "text": [
            "[1. 4.]\n"
          ],
          "name": "stdout"
        }
      ]
    },
    {
      "cell_type": "code",
      "metadata": {
        "colab": {
          "base_uri": "https://localhost:8080/"
        },
        "id": "z6A-Aw9eiHHD",
        "outputId": "34528653-1039-4e7a-b120-e9022c2b3517"
      },
      "source": [
        "# np.min(np_a,axis=0)\n",
        "min_all = np.zeros(np_a.shape[1])\n",
        "\n",
        "for col in range(np_a.shape[1]):\n",
        "    min_all[col] = min(np_a[:,col])\n",
        "print(min_all)"
      ],
      "execution_count": 137,
      "outputs": [
        {
          "output_type": "stream",
          "text": [
            "[1. 2. 3.]\n"
          ],
          "name": "stdout"
        }
      ]
    },
    {
      "cell_type": "code",
      "metadata": {
        "colab": {
          "base_uri": "https://localhost:8080/"
        },
        "id": "6a2EYE9Gixd4",
        "outputId": "b042ef5c-56d2-4ba1-e399-f369f7c132ad"
      },
      "source": [
        "# np.min(np_a)  ลูกหมี\n",
        "minV = 100000\n",
        "for row in range(np_a.shape[0]):\n",
        "    for col in range(np_a.shape[1]):\n",
        "        if np_a[row,col] < minV:\n",
        "            minV = np_a[row,col]\n",
        "print(minV)\n"
      ],
      "execution_count": 138,
      "outputs": [
        {
          "output_type": "stream",
          "text": [
            "1\n"
          ],
          "name": "stdout"
        }
      ]
    },
    {
      "cell_type": "code",
      "metadata": {
        "colab": {
          "base_uri": "https://localhost:8080/"
        },
        "id": "T6-aXIFyjZBX",
        "outputId": "97be2e8f-9589-4779-d335-ca8ed6d6ad22"
      },
      "source": [
        "# np.max(np_a,axis=0)\n",
        "max_all = -100000 * np.ones(np_a.shape[1])\n",
        "for col in range(np_a.shape[1]):\n",
        "    for row in range(np_a.shape[0]):\n",
        "        if np_a[row,col] > max_all[col]: \n",
        "            max_all[col] = np_a[row,col]\n",
        "print(max_all)"
      ],
      "execution_count": 139,
      "outputs": [
        {
          "output_type": "stream",
          "text": [
            "[4. 5. 6.]\n"
          ],
          "name": "stdout"
        }
      ]
    },
    {
      "cell_type": "code",
      "metadata": {
        "colab": {
          "base_uri": "https://localhost:8080/"
        },
        "id": "xjm10yXRkhGn",
        "outputId": "34592467-df9b-4eca-d9d9-56872b4e0d83"
      },
      "source": [
        "#np.mean(np_a)\n",
        "mean_all = 0\n",
        "for row in range(np_a.shape[0]):\n",
        "    for col in range(np_a.shape[1]):\n",
        "        mean_all = mean_all + np_a[row,col]\n",
        "mean_all = mean_all/(np_a.shape[0]*np_a.shape[1])\n",
        "print(mean_all)"
      ],
      "execution_count": 140,
      "outputs": [
        {
          "output_type": "stream",
          "text": [
            "3.5\n"
          ],
          "name": "stdout"
        }
      ]
    },
    {
      "cell_type": "code",
      "metadata": {
        "id": "1yVHwZUPnStC"
      },
      "source": [
        ""
      ],
      "execution_count": 140,
      "outputs": []
    }
  ]
}