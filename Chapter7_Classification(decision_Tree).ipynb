{
  "nbformat": 4,
  "nbformat_minor": 0,
  "metadata": {
    "colab": {
      "name": "Chapter7 Classification(decision Tree).ipynb",
      "provenance": [],
      "include_colab_link": true
    },
    "kernelspec": {
      "name": "python3",
      "display_name": "Python 3"
    },
    "language_info": {
      "name": "python"
    }
  },
  "cells": [
    {
      "cell_type": "markdown",
      "metadata": {
        "id": "view-in-github",
        "colab_type": "text"
      },
      "source": [
        "<a href=\"https://colab.research.google.com/github/kittikhun62/DWDM21/blob/main/Chapter7_Classification(decision_Tree).ipynb\" target=\"_parent\"><img src=\"https://colab.research.google.com/assets/colab-badge.svg\" alt=\"Open In Colab\"/></a>"
      ]
    },
    {
      "cell_type": "markdown",
      "metadata": {
        "id": "7TVB24VLu3qP"
      },
      "source": [
        "scikit-learn คือ package ที่รวบรวมอัลกอริทึ่มที่เกี่ยวข้องกับ machine learning-data mining(sklearn)"
      ]
    },
    {
      "cell_type": "markdown",
      "metadata": {
        "id": "V-1B4TNhumGc"
      },
      "source": [
        "# load Data"
      ]
    },
    {
      "cell_type": "code",
      "metadata": {
        "id": "ltXZt5cPuzdn"
      },
      "source": [
        "from sklearn import datasets\n",
        "\n",
        "iris_data = datasets.load_iris()"
      ],
      "execution_count": 73,
      "outputs": []
    },
    {
      "cell_type": "code",
      "metadata": {
        "colab": {
          "base_uri": "https://localhost:8080/"
        },
        "id": "2PIuSIeQuzbQ",
        "outputId": "3d78d6c1-5c85-45fe-def5-4f17e60cee68"
      },
      "source": [
        "iris_data"
      ],
      "execution_count": 74,
      "outputs": [
        {
          "output_type": "execute_result",
          "data": {
            "text/plain": [
              "{'DESCR': '.. _iris_dataset:\\n\\nIris plants dataset\\n--------------------\\n\\n**Data Set Characteristics:**\\n\\n    :Number of Instances: 150 (50 in each of three classes)\\n    :Number of Attributes: 4 numeric, predictive attributes and the class\\n    :Attribute Information:\\n        - sepal length in cm\\n        - sepal width in cm\\n        - petal length in cm\\n        - petal width in cm\\n        - class:\\n                - Iris-Setosa\\n                - Iris-Versicolour\\n                - Iris-Virginica\\n                \\n    :Summary Statistics:\\n\\n    ============== ==== ==== ======= ===== ====================\\n                    Min  Max   Mean    SD   Class Correlation\\n    ============== ==== ==== ======= ===== ====================\\n    sepal length:   4.3  7.9   5.84   0.83    0.7826\\n    sepal width:    2.0  4.4   3.05   0.43   -0.4194\\n    petal length:   1.0  6.9   3.76   1.76    0.9490  (high!)\\n    petal width:    0.1  2.5   1.20   0.76    0.9565  (high!)\\n    ============== ==== ==== ======= ===== ====================\\n\\n    :Missing Attribute Values: None\\n    :Class Distribution: 33.3% for each of 3 classes.\\n    :Creator: R.A. Fisher\\n    :Donor: Michael Marshall (MARSHALL%PLU@io.arc.nasa.gov)\\n    :Date: July, 1988\\n\\nThe famous Iris database, first used by Sir R.A. Fisher. The dataset is taken\\nfrom Fisher\\'s paper. Note that it\\'s the same as in R, but not as in the UCI\\nMachine Learning Repository, which has two wrong data points.\\n\\nThis is perhaps the best known database to be found in the\\npattern recognition literature.  Fisher\\'s paper is a classic in the field and\\nis referenced frequently to this day.  (See Duda & Hart, for example.)  The\\ndata set contains 3 classes of 50 instances each, where each class refers to a\\ntype of iris plant.  One class is linearly separable from the other 2; the\\nlatter are NOT linearly separable from each other.\\n\\n.. topic:: References\\n\\n   - Fisher, R.A. \"The use of multiple measurements in taxonomic problems\"\\n     Annual Eugenics, 7, Part II, 179-188 (1936); also in \"Contributions to\\n     Mathematical Statistics\" (John Wiley, NY, 1950).\\n   - Duda, R.O., & Hart, P.E. (1973) Pattern Classification and Scene Analysis.\\n     (Q327.D83) John Wiley & Sons.  ISBN 0-471-22361-1.  See page 218.\\n   - Dasarathy, B.V. (1980) \"Nosing Around the Neighborhood: A New System\\n     Structure and Classification Rule for Recognition in Partially Exposed\\n     Environments\".  IEEE Transactions on Pattern Analysis and Machine\\n     Intelligence, Vol. PAMI-2, No. 1, 67-71.\\n   - Gates, G.W. (1972) \"The Reduced Nearest Neighbor Rule\".  IEEE Transactions\\n     on Information Theory, May 1972, 431-433.\\n   - See also: 1988 MLC Proceedings, 54-64.  Cheeseman et al\"s AUTOCLASS II\\n     conceptual clustering system finds 3 classes in the data.\\n   - Many, many more ...',\n",
              " 'data': array([[5.1, 3.5, 1.4, 0.2],\n",
              "        [4.9, 3. , 1.4, 0.2],\n",
              "        [4.7, 3.2, 1.3, 0.2],\n",
              "        [4.6, 3.1, 1.5, 0.2],\n",
              "        [5. , 3.6, 1.4, 0.2],\n",
              "        [5.4, 3.9, 1.7, 0.4],\n",
              "        [4.6, 3.4, 1.4, 0.3],\n",
              "        [5. , 3.4, 1.5, 0.2],\n",
              "        [4.4, 2.9, 1.4, 0.2],\n",
              "        [4.9, 3.1, 1.5, 0.1],\n",
              "        [5.4, 3.7, 1.5, 0.2],\n",
              "        [4.8, 3.4, 1.6, 0.2],\n",
              "        [4.8, 3. , 1.4, 0.1],\n",
              "        [4.3, 3. , 1.1, 0.1],\n",
              "        [5.8, 4. , 1.2, 0.2],\n",
              "        [5.7, 4.4, 1.5, 0.4],\n",
              "        [5.4, 3.9, 1.3, 0.4],\n",
              "        [5.1, 3.5, 1.4, 0.3],\n",
              "        [5.7, 3.8, 1.7, 0.3],\n",
              "        [5.1, 3.8, 1.5, 0.3],\n",
              "        [5.4, 3.4, 1.7, 0.2],\n",
              "        [5.1, 3.7, 1.5, 0.4],\n",
              "        [4.6, 3.6, 1. , 0.2],\n",
              "        [5.1, 3.3, 1.7, 0.5],\n",
              "        [4.8, 3.4, 1.9, 0.2],\n",
              "        [5. , 3. , 1.6, 0.2],\n",
              "        [5. , 3.4, 1.6, 0.4],\n",
              "        [5.2, 3.5, 1.5, 0.2],\n",
              "        [5.2, 3.4, 1.4, 0.2],\n",
              "        [4.7, 3.2, 1.6, 0.2],\n",
              "        [4.8, 3.1, 1.6, 0.2],\n",
              "        [5.4, 3.4, 1.5, 0.4],\n",
              "        [5.2, 4.1, 1.5, 0.1],\n",
              "        [5.5, 4.2, 1.4, 0.2],\n",
              "        [4.9, 3.1, 1.5, 0.2],\n",
              "        [5. , 3.2, 1.2, 0.2],\n",
              "        [5.5, 3.5, 1.3, 0.2],\n",
              "        [4.9, 3.6, 1.4, 0.1],\n",
              "        [4.4, 3. , 1.3, 0.2],\n",
              "        [5.1, 3.4, 1.5, 0.2],\n",
              "        [5. , 3.5, 1.3, 0.3],\n",
              "        [4.5, 2.3, 1.3, 0.3],\n",
              "        [4.4, 3.2, 1.3, 0.2],\n",
              "        [5. , 3.5, 1.6, 0.6],\n",
              "        [5.1, 3.8, 1.9, 0.4],\n",
              "        [4.8, 3. , 1.4, 0.3],\n",
              "        [5.1, 3.8, 1.6, 0.2],\n",
              "        [4.6, 3.2, 1.4, 0.2],\n",
              "        [5.3, 3.7, 1.5, 0.2],\n",
              "        [5. , 3.3, 1.4, 0.2],\n",
              "        [7. , 3.2, 4.7, 1.4],\n",
              "        [6.4, 3.2, 4.5, 1.5],\n",
              "        [6.9, 3.1, 4.9, 1.5],\n",
              "        [5.5, 2.3, 4. , 1.3],\n",
              "        [6.5, 2.8, 4.6, 1.5],\n",
              "        [5.7, 2.8, 4.5, 1.3],\n",
              "        [6.3, 3.3, 4.7, 1.6],\n",
              "        [4.9, 2.4, 3.3, 1. ],\n",
              "        [6.6, 2.9, 4.6, 1.3],\n",
              "        [5.2, 2.7, 3.9, 1.4],\n",
              "        [5. , 2. , 3.5, 1. ],\n",
              "        [5.9, 3. , 4.2, 1.5],\n",
              "        [6. , 2.2, 4. , 1. ],\n",
              "        [6.1, 2.9, 4.7, 1.4],\n",
              "        [5.6, 2.9, 3.6, 1.3],\n",
              "        [6.7, 3.1, 4.4, 1.4],\n",
              "        [5.6, 3. , 4.5, 1.5],\n",
              "        [5.8, 2.7, 4.1, 1. ],\n",
              "        [6.2, 2.2, 4.5, 1.5],\n",
              "        [5.6, 2.5, 3.9, 1.1],\n",
              "        [5.9, 3.2, 4.8, 1.8],\n",
              "        [6.1, 2.8, 4. , 1.3],\n",
              "        [6.3, 2.5, 4.9, 1.5],\n",
              "        [6.1, 2.8, 4.7, 1.2],\n",
              "        [6.4, 2.9, 4.3, 1.3],\n",
              "        [6.6, 3. , 4.4, 1.4],\n",
              "        [6.8, 2.8, 4.8, 1.4],\n",
              "        [6.7, 3. , 5. , 1.7],\n",
              "        [6. , 2.9, 4.5, 1.5],\n",
              "        [5.7, 2.6, 3.5, 1. ],\n",
              "        [5.5, 2.4, 3.8, 1.1],\n",
              "        [5.5, 2.4, 3.7, 1. ],\n",
              "        [5.8, 2.7, 3.9, 1.2],\n",
              "        [6. , 2.7, 5.1, 1.6],\n",
              "        [5.4, 3. , 4.5, 1.5],\n",
              "        [6. , 3.4, 4.5, 1.6],\n",
              "        [6.7, 3.1, 4.7, 1.5],\n",
              "        [6.3, 2.3, 4.4, 1.3],\n",
              "        [5.6, 3. , 4.1, 1.3],\n",
              "        [5.5, 2.5, 4. , 1.3],\n",
              "        [5.5, 2.6, 4.4, 1.2],\n",
              "        [6.1, 3. , 4.6, 1.4],\n",
              "        [5.8, 2.6, 4. , 1.2],\n",
              "        [5. , 2.3, 3.3, 1. ],\n",
              "        [5.6, 2.7, 4.2, 1.3],\n",
              "        [5.7, 3. , 4.2, 1.2],\n",
              "        [5.7, 2.9, 4.2, 1.3],\n",
              "        [6.2, 2.9, 4.3, 1.3],\n",
              "        [5.1, 2.5, 3. , 1.1],\n",
              "        [5.7, 2.8, 4.1, 1.3],\n",
              "        [6.3, 3.3, 6. , 2.5],\n",
              "        [5.8, 2.7, 5.1, 1.9],\n",
              "        [7.1, 3. , 5.9, 2.1],\n",
              "        [6.3, 2.9, 5.6, 1.8],\n",
              "        [6.5, 3. , 5.8, 2.2],\n",
              "        [7.6, 3. , 6.6, 2.1],\n",
              "        [4.9, 2.5, 4.5, 1.7],\n",
              "        [7.3, 2.9, 6.3, 1.8],\n",
              "        [6.7, 2.5, 5.8, 1.8],\n",
              "        [7.2, 3.6, 6.1, 2.5],\n",
              "        [6.5, 3.2, 5.1, 2. ],\n",
              "        [6.4, 2.7, 5.3, 1.9],\n",
              "        [6.8, 3. , 5.5, 2.1],\n",
              "        [5.7, 2.5, 5. , 2. ],\n",
              "        [5.8, 2.8, 5.1, 2.4],\n",
              "        [6.4, 3.2, 5.3, 2.3],\n",
              "        [6.5, 3. , 5.5, 1.8],\n",
              "        [7.7, 3.8, 6.7, 2.2],\n",
              "        [7.7, 2.6, 6.9, 2.3],\n",
              "        [6. , 2.2, 5. , 1.5],\n",
              "        [6.9, 3.2, 5.7, 2.3],\n",
              "        [5.6, 2.8, 4.9, 2. ],\n",
              "        [7.7, 2.8, 6.7, 2. ],\n",
              "        [6.3, 2.7, 4.9, 1.8],\n",
              "        [6.7, 3.3, 5.7, 2.1],\n",
              "        [7.2, 3.2, 6. , 1.8],\n",
              "        [6.2, 2.8, 4.8, 1.8],\n",
              "        [6.1, 3. , 4.9, 1.8],\n",
              "        [6.4, 2.8, 5.6, 2.1],\n",
              "        [7.2, 3. , 5.8, 1.6],\n",
              "        [7.4, 2.8, 6.1, 1.9],\n",
              "        [7.9, 3.8, 6.4, 2. ],\n",
              "        [6.4, 2.8, 5.6, 2.2],\n",
              "        [6.3, 2.8, 5.1, 1.5],\n",
              "        [6.1, 2.6, 5.6, 1.4],\n",
              "        [7.7, 3. , 6.1, 2.3],\n",
              "        [6.3, 3.4, 5.6, 2.4],\n",
              "        [6.4, 3.1, 5.5, 1.8],\n",
              "        [6. , 3. , 4.8, 1.8],\n",
              "        [6.9, 3.1, 5.4, 2.1],\n",
              "        [6.7, 3.1, 5.6, 2.4],\n",
              "        [6.9, 3.1, 5.1, 2.3],\n",
              "        [5.8, 2.7, 5.1, 1.9],\n",
              "        [6.8, 3.2, 5.9, 2.3],\n",
              "        [6.7, 3.3, 5.7, 2.5],\n",
              "        [6.7, 3. , 5.2, 2.3],\n",
              "        [6.3, 2.5, 5. , 1.9],\n",
              "        [6.5, 3. , 5.2, 2. ],\n",
              "        [6.2, 3.4, 5.4, 2.3],\n",
              "        [5.9, 3. , 5.1, 1.8]]),\n",
              " 'feature_names': ['sepal length (cm)',\n",
              "  'sepal width (cm)',\n",
              "  'petal length (cm)',\n",
              "  'petal width (cm)'],\n",
              " 'filename': '/usr/local/lib/python3.7/dist-packages/sklearn/datasets/data/iris.csv',\n",
              " 'target': array([0, 0, 0, 0, 0, 0, 0, 0, 0, 0, 0, 0, 0, 0, 0, 0, 0, 0, 0, 0, 0, 0,\n",
              "        0, 0, 0, 0, 0, 0, 0, 0, 0, 0, 0, 0, 0, 0, 0, 0, 0, 0, 0, 0, 0, 0,\n",
              "        0, 0, 0, 0, 0, 0, 1, 1, 1, 1, 1, 1, 1, 1, 1, 1, 1, 1, 1, 1, 1, 1,\n",
              "        1, 1, 1, 1, 1, 1, 1, 1, 1, 1, 1, 1, 1, 1, 1, 1, 1, 1, 1, 1, 1, 1,\n",
              "        1, 1, 1, 1, 1, 1, 1, 1, 1, 1, 1, 1, 2, 2, 2, 2, 2, 2, 2, 2, 2, 2,\n",
              "        2, 2, 2, 2, 2, 2, 2, 2, 2, 2, 2, 2, 2, 2, 2, 2, 2, 2, 2, 2, 2, 2,\n",
              "        2, 2, 2, 2, 2, 2, 2, 2, 2, 2, 2, 2, 2, 2, 2, 2, 2, 2]),\n",
              " 'target_names': array(['setosa', 'versicolor', 'virginica'], dtype='<U10')}"
            ]
          },
          "metadata": {},
          "execution_count": 74
        }
      ]
    },
    {
      "cell_type": "code",
      "metadata": {
        "id": "vqgFKaIDuzZJ"
      },
      "source": [
        "X = iris_data['data']\n",
        "Y = iris_data['target']"
      ],
      "execution_count": 75,
      "outputs": []
    },
    {
      "cell_type": "code",
      "metadata": {
        "id": "vQOkVdJSuzUD"
      },
      "source": [
        ""
      ],
      "execution_count": 75,
      "outputs": []
    },
    {
      "cell_type": "code",
      "metadata": {
        "id": "Fz_E2YbIuzEP"
      },
      "source": [
        ""
      ],
      "execution_count": 75,
      "outputs": []
    },
    {
      "cell_type": "markdown",
      "metadata": {
        "id": "iCnXcDWiupiN"
      },
      "source": [
        "#Train model"
      ]
    },
    {
      "cell_type": "markdown",
      "metadata": {
        "id": "BN7OeB0Vw4wX"
      },
      "source": [
        "## import (เรียกใช้ algorithm ที่เราต้องการ)"
      ]
    },
    {
      "cell_type": "code",
      "metadata": {
        "id": "9Hn8-FrwxVpX"
      },
      "source": [
        "from sklearn.tree import DecisionTreeClassifier"
      ],
      "execution_count": 76,
      "outputs": []
    },
    {
      "cell_type": "markdown",
      "metadata": {
        "id": "lqZvx8OEw_24"
      },
      "source": [
        "## define (กำหนด parameters ให้กับ model)"
      ]
    },
    {
      "cell_type": "code",
      "metadata": {
        "id": "pgyNjxsjxvbv"
      },
      "source": [
        "mytree = DecisionTreeClassifier(max_depth=2)"
      ],
      "execution_count": 77,
      "outputs": []
    },
    {
      "cell_type": "markdown",
      "metadata": {
        "id": "sUCK5OhnxKF4"
      },
      "source": [
        "## train (ฝึกสอนตัวเเบบ)"
      ]
    },
    {
      "cell_type": "code",
      "metadata": {
        "colab": {
          "base_uri": "https://localhost:8080/"
        },
        "id": "43_YevIJw4Rw",
        "outputId": "566f498f-b0cb-4f64-b8d7-f06f41789c39"
      },
      "source": [
        "mytree.fit(X,Y)\n"
      ],
      "execution_count": 78,
      "outputs": [
        {
          "output_type": "execute_result",
          "data": {
            "text/plain": [
              "DecisionTreeClassifier(ccp_alpha=0.0, class_weight=None, criterion='gini',\n",
              "                       max_depth=2, max_features=None, max_leaf_nodes=None,\n",
              "                       min_impurity_decrease=0.0, min_impurity_split=None,\n",
              "                       min_samples_leaf=1, min_samples_split=2,\n",
              "                       min_weight_fraction_leaf=0.0, presort='deprecated',\n",
              "                       random_state=None, splitter='best')"
            ]
          },
          "metadata": {},
          "execution_count": 78
        }
      ]
    },
    {
      "cell_type": "markdown",
      "metadata": {
        "id": "62pxry4HyKD3"
      },
      "source": [
        "# plot tree"
      ]
    },
    {
      "cell_type": "code",
      "metadata": {
        "id": "mmH_LO5TyYPX"
      },
      "source": [
        "from sklearn.tree import plot_tree\n",
        "\n"
      ],
      "execution_count": 79,
      "outputs": []
    },
    {
      "cell_type": "code",
      "metadata": {
        "colab": {
          "base_uri": "https://localhost:8080/",
          "height": 332
        },
        "id": "A6QLAP7cyYMn",
        "outputId": "baf395eb-df24-474f-c18a-f076b046c8b9"
      },
      "source": [
        "plot_tree(mytree)"
      ],
      "execution_count": 80,
      "outputs": [
        {
          "output_type": "execute_result",
          "data": {
            "text/plain": [
              "[Text(133.92000000000002, 181.2, 'X[2] <= 2.45\\ngini = 0.667\\nsamples = 150\\nvalue = [50, 50, 50]'),\n",
              " Text(66.96000000000001, 108.72, 'gini = 0.0\\nsamples = 50\\nvalue = [50, 0, 0]'),\n",
              " Text(200.88000000000002, 108.72, 'X[3] <= 1.75\\ngini = 0.5\\nsamples = 100\\nvalue = [0, 50, 50]'),\n",
              " Text(133.92000000000002, 36.23999999999998, 'gini = 0.168\\nsamples = 54\\nvalue = [0, 49, 5]'),\n",
              " Text(267.84000000000003, 36.23999999999998, 'gini = 0.043\\nsamples = 46\\nvalue = [0, 1, 45]')]"
            ]
          },
          "metadata": {},
          "execution_count": 80
        },
        {
          "output_type": "display_data",
          "data": {
            "image/png": "[encoded data removed]",
            "text/plain": [
              "<Figure size 432x288 with 1 Axes>"
            ]
          },
          "metadata": {
            "needs_background": "light"
          }
        }
      ]
    },
    {
      "cell_type": "markdown",
      "metadata": {
        "id": "9lMo8J_9upgH"
      },
      "source": [
        "# Evaluation\n"
      ]
    },
    {
      "cell_type": "code",
      "metadata": {
        "colab": {
          "base_uri": "https://localhost:8080/"
        },
        "id": "ygkZbWZbuow_",
        "outputId": "a76044b6-90a8-4649-ec29-d0ac79b3236a"
      },
      "source": [
        "mytree.predict([[6.3, 2.5, 5. , 1.9]])"
      ],
      "execution_count": 81,
      "outputs": [
        {
          "output_type": "execute_result",
          "data": {
            "text/plain": [
              "array([2])"
            ]
          },
          "metadata": {},
          "execution_count": 81
        }
      ]
    },
    {
      "cell_type": "code",
      "metadata": {
        "id": "fjvb7gG10X7A"
      },
      "source": [
        ""
      ],
      "execution_count": 81,
      "outputs": []
    },
    {
      "cell_type": "markdown",
      "metadata": {
        "id": "GyI8MzzZs2m4"
      },
      "source": [
        "### Random"
      ]
    },
    {
      "cell_type": "code",
      "metadata": {
        "id": "VpskYh0vs1-F"
      },
      "source": [
        "import numpy as np"
      ],
      "execution_count": 82,
      "outputs": []
    },
    {
      "cell_type": "code",
      "metadata": {
        "id": "HWBanLjZtJGr"
      },
      "source": [
        "np.random.seed(6)"
      ],
      "execution_count": 83,
      "outputs": []
    },
    {
      "cell_type": "code",
      "metadata": {
        "id": "14mvj9Tys1j0",
        "colab": {
          "base_uri": "https://localhost:8080/",
          "height": 0
        },
        "outputId": "f72fe019-84a1-46cb-b212-2b3ff767b912"
      },
      "source": [
        "np.random.choice(['a','b','c','d'])"
      ],
      "execution_count": 84,
      "outputs": [
        {
          "output_type": "execute_result",
          "data": {
            "application/vnd.google.colaboratory.intrinsic+json": {
              "type": "string"
            },
            "text/plain": [
              "'c'"
            ]
          },
          "metadata": {},
          "execution_count": 84
        }
      ]
    },
    {
      "cell_type": "markdown",
      "metadata": {
        "id": "9vs77GvHjky4"
      },
      "source": [
        "# Advanced Tree"
      ]
    },
    {
      "cell_type": "markdown",
      "metadata": {
        "id": "aSq4smddtoWP"
      },
      "source": [
        "### Import"
      ]
    },
    {
      "cell_type": "code",
      "metadata": {
        "id": "6zDG0GPht6ja"
      },
      "source": [
        "from sklearn.tree import DecisionTreeClassifier"
      ],
      "execution_count": 85,
      "outputs": []
    },
    {
      "cell_type": "markdown",
      "metadata": {
        "id": "XYDZZOsztoRd"
      },
      "source": [
        "### Define"
      ]
    },
    {
      "cell_type": "markdown",
      "metadata": {
        "id": "oU5A9SJkt8IA"
      },
      "source": [
        "ต้นไม้ที่มีใบ 5 ใบ  และใช้ entropy  เป็นเกณฑ์"
      ]
    },
    {
      "cell_type": "code",
      "metadata": {
        "id": "cAGBfuppuavz"
      },
      "source": [
        "mytree = DecisionTreeClassifier(max_leaf_nodes=5,criterion='entropy')"
      ],
      "execution_count": 86,
      "outputs": []
    },
    {
      "cell_type": "markdown",
      "metadata": {
        "id": "lrDOa2QQtoNu"
      },
      "source": [
        "### Train"
      ]
    },
    {
      "cell_type": "code",
      "metadata": {
        "id": "SFg9sXmwuNKK",
        "colab": {
          "base_uri": "https://localhost:8080/"
        },
        "outputId": "7f49e57b-0dfa-405c-a014-6d98c5a65e87"
      },
      "source": [
        "mytree.fit(X,Y)"
      ],
      "execution_count": 87,
      "outputs": [
        {
          "output_type": "execute_result",
          "data": {
            "text/plain": [
              "DecisionTreeClassifier(ccp_alpha=0.0, class_weight=None, criterion='entropy',\n",
              "                       max_depth=None, max_features=None, max_leaf_nodes=5,\n",
              "                       min_impurity_decrease=0.0, min_impurity_split=None,\n",
              "                       min_samples_leaf=1, min_samples_split=2,\n",
              "                       min_weight_fraction_leaf=0.0, presort='deprecated',\n",
              "                       random_state=None, splitter='best')"
            ]
          },
          "metadata": {},
          "execution_count": 87
        }
      ]
    },
    {
      "cell_type": "code",
      "metadata": {
        "id": "UFRiPOF8uQV2",
        "colab": {
          "base_uri": "https://localhost:8080/",
          "height": 0
        },
        "outputId": "a13500e0-f8ea-4051-9d02-289f93a9eeb5"
      },
      "source": [
        "plot_tree(mytree)"
      ],
      "execution_count": 88,
      "outputs": [
        {
          "output_type": "execute_result",
          "data": {
            "text/plain": [
              "[Text(167.4, 195.696, 'X[3] <= 0.8\\nentropy = 1.585\\nsamples = 150\\nvalue = [50, 50, 50]'),\n",
              " Text(111.60000000000001, 152.208, 'entropy = 0.0\\nsamples = 50\\nvalue = [50, 0, 0]'),\n",
              " Text(223.20000000000002, 152.208, 'X[3] <= 1.75\\nentropy = 1.0\\nsamples = 100\\nvalue = [0, 50, 50]'),\n",
              " Text(167.4, 108.72, 'X[2] <= 4.95\\nentropy = 0.445\\nsamples = 54\\nvalue = [0, 49, 5]'),\n",
              " Text(111.60000000000001, 65.232, 'X[3] <= 1.65\\nentropy = 0.146\\nsamples = 48\\nvalue = [0, 47, 1]'),\n",
              " Text(55.800000000000004, 21.744, 'entropy = 0.0\\nsamples = 47\\nvalue = [0, 47, 0]'),\n",
              " Text(167.4, 21.744, 'entropy = 0.0\\nsamples = 1\\nvalue = [0, 0, 1]'),\n",
              " Text(223.20000000000002, 65.232, 'entropy = 0.918\\nsamples = 6\\nvalue = [0, 2, 4]'),\n",
              " Text(279.0, 108.72, 'entropy = 0.151\\nsamples = 46\\nvalue = [0, 1, 45]')]"
            ]
          },
          "metadata": {},
          "execution_count": 88
        },
        {
          "output_type": "display_data",
          "data": {
            "image/png": "[encoded data removed]",
            "text/plain": [
              "<Figure size 432x288 with 1 Axes>"
            ]
          },
          "metadata": {
            "needs_background": "light"
          }
        }
      ]
    },
    {
      "cell_type": "markdown",
      "metadata": {
        "id": "GJA5CUhpyQ5_"
      },
      "source": [
        "# TEST"
      ]
    },
    {
      "cell_type": "code",
      "metadata": {
        "id": "Ms-JQrVouWyS"
      },
      "source": [
        "from sklearn import datasets\n",
        "\n",
        "digit_data = datasets.load_digits()"
      ],
      "execution_count": 89,
      "outputs": []
    },
    {
      "cell_type": "code",
      "metadata": {
        "id": "LVXEMuOqykis",
        "colab": {
          "base_uri": "https://localhost:8080/"
        },
        "outputId": "58794e8a-ba97-4934-c0a6-d008fad2c325"
      },
      "source": [
        "X = digit_data['data']\n",
        "X.shape"
      ],
      "execution_count": 90,
      "outputs": [
        {
          "output_type": "execute_result",
          "data": {
            "text/plain": [
              "(1797, 64)"
            ]
          },
          "metadata": {},
          "execution_count": 90
        }
      ]
    },
    {
      "cell_type": "code",
      "metadata": {
        "id": "qZYnO661ytLf",
        "colab": {
          "base_uri": "https://localhost:8080/"
        },
        "outputId": "bdef5e81-60f6-48e6-ba30-015d4c52a010"
      },
      "source": [
        "X[0,:]"
      ],
      "execution_count": 91,
      "outputs": [
        {
          "output_type": "execute_result",
          "data": {
            "text/plain": [
              "array([ 0.,  0.,  5., 13.,  9.,  1.,  0.,  0.,  0.,  0., 13., 15., 10.,\n",
              "       15.,  5.,  0.,  0.,  3., 15.,  2.,  0., 11.,  8.,  0.,  0.,  4.,\n",
              "       12.,  0.,  0.,  8.,  8.,  0.,  0.,  5.,  8.,  0.,  0.,  9.,  8.,\n",
              "        0.,  0.,  4., 11.,  0.,  1., 12.,  7.,  0.,  0.,  2., 14.,  5.,\n",
              "       10., 12.,  0.,  0.,  0.,  0.,  6., 13., 10.,  0.,  0.,  0.])"
            ]
          },
          "metadata": {},
          "execution_count": 91
        }
      ]
    },
    {
      "cell_type": "code",
      "metadata": {
        "id": "tf4wWnUryzIk"
      },
      "source": [
        "from matplotlib import pyplot as plt"
      ],
      "execution_count": 92,
      "outputs": []
    },
    {
      "cell_type": "code",
      "metadata": {
        "id": "FjjTB5VIy6jM",
        "colab": {
          "base_uri": "https://localhost:8080/",
          "height": 0
        },
        "outputId": "ffaaa48a-a1dc-4479-8dd2-9ca2ff5d8379"
      },
      "source": [
        "plt.imshow(np.reshape(X[0,:],(8,8)))"
      ],
      "execution_count": 93,
      "outputs": [
        {
          "output_type": "execute_result",
          "data": {
            "text/plain": [
              "<matplotlib.image.AxesImage at 0x7f85a5172dd0>"
            ]
          },
          "metadata": {},
          "execution_count": 93
        },
        {
          "output_type": "display_data",
          "data": {
            "image/png": "[encoded data removed]",
            "text/plain": [
              "<Figure size 432x288 with 1 Axes>"
            ]
          },
          "metadata": {
            "needs_background": "light"
          }
        }
      ]
    },
    {
      "cell_type": "code",
      "metadata": {
        "id": "5Io9kg8TzwIq",
        "colab": {
          "base_uri": "https://localhost:8080/",
          "height": 0
        },
        "outputId": "9752dba7-88be-4a93-f348-87fbd146e26b"
      },
      "source": [
        "plt.imshow(np.reshape(X[1,:],(8,8)))"
      ],
      "execution_count": 94,
      "outputs": [
        {
          "output_type": "execute_result",
          "data": {
            "text/plain": [
              "<matplotlib.image.AxesImage at 0x7f85a4f65210>"
            ]
          },
          "metadata": {},
          "execution_count": 94
        },
        {
          "output_type": "display_data",
          "data": {
            "image/png": "[encoded data removed]",
            "text/plain": [
              "<Figure size 432x288 with 1 Axes>"
            ]
          },
          "metadata": {
            "needs_background": "light"
          }
        }
      ]
    },
    {
      "cell_type": "code",
      "metadata": {
        "id": "3u7Vd5iFzDG_"
      },
      "source": [
        "y = digit_data['target']"
      ],
      "execution_count": 95,
      "outputs": []
    },
    {
      "cell_type": "code",
      "metadata": {
        "id": "9nb9PTPqzqz_",
        "colab": {
          "base_uri": "https://localhost:8080/"
        },
        "outputId": "f252e3d8-7748-4053-a2ef-2336e2a83c74"
      },
      "source": [
        "y"
      ],
      "execution_count": 96,
      "outputs": [
        {
          "output_type": "execute_result",
          "data": {
            "text/plain": [
              "array([0, 1, 2, ..., 8, 9, 8])"
            ]
          },
          "metadata": {},
          "execution_count": 96
        }
      ]
    },
    {
      "cell_type": "markdown",
      "metadata": {
        "id": "QYSfMGGnz2bs"
      },
      "source": [
        "# Start here"
      ]
    },
    {
      "cell_type": "code",
      "metadata": {
        "id": "rUlObkExzrmx"
      },
      "source": [
        "from sklearn.model_selection import train_test_split"
      ],
      "execution_count": 97,
      "outputs": []
    },
    {
      "cell_type": "markdown",
      "metadata": {
        "id": "rPmOdSW30HX9"
      },
      "source": [
        "Train - Test"
      ]
    },
    {
      "cell_type": "code",
      "metadata": {
        "id": "Dv4Qx1dH0GVx"
      },
      "source": [
        "X_train, X_test, y_train, y_test = train_test_split(X, y, test_size=0.5, random_state=6)"
      ],
      "execution_count": 98,
      "outputs": []
    },
    {
      "cell_type": "code",
      "metadata": {
        "id": "yxh9vauk0ccz",
        "colab": {
          "base_uri": "https://localhost:8080/"
        },
        "outputId": "eb8970cf-584b-4117-d1d4-1d7c6dc86d17"
      },
      "source": [
        "X_train.shape"
      ],
      "execution_count": 99,
      "outputs": [
        {
          "output_type": "execute_result",
          "data": {
            "text/plain": [
              "(898, 64)"
            ]
          },
          "metadata": {},
          "execution_count": 99
        }
      ]
    },
    {
      "cell_type": "markdown",
      "metadata": {
        "id": "np55bUUE0lOt"
      },
      "source": [
        "Train - Validation"
      ]
    },
    {
      "cell_type": "code",
      "metadata": {
        "id": "iNF1Oplz0ez0"
      },
      "source": [
        "X_train2, X_val, y_train2, y_val = train_test_split(X_train, y_train, test_size=0.3, random_state=6)"
      ],
      "execution_count": 100,
      "outputs": []
    },
    {
      "cell_type": "code",
      "metadata": {
        "id": "dtd0J9rc01A8",
        "colab": {
          "base_uri": "https://localhost:8080/"
        },
        "outputId": "e3938f2c-5da7-40ce-b5a9-446507eff1b2"
      },
      "source": [
        "X_train2.shape"
      ],
      "execution_count": 101,
      "outputs": [
        {
          "output_type": "execute_result",
          "data": {
            "text/plain": [
              "(628, 64)"
            ]
          },
          "metadata": {},
          "execution_count": 101
        }
      ]
    },
    {
      "cell_type": "markdown",
      "metadata": {
        "id": "3KuiQQOO1crP"
      },
      "source": [
        "#### Import"
      ]
    },
    {
      "cell_type": "code",
      "metadata": {
        "id": "xy2G9EMj1qFF"
      },
      "source": [
        "from sklearn.tree import DecisionTreeClassifier"
      ],
      "execution_count": 102,
      "outputs": []
    },
    {
      "cell_type": "markdown",
      "metadata": {
        "id": "qMfho23G1cnq"
      },
      "source": [
        "#### Define"
      ]
    },
    {
      "cell_type": "code",
      "metadata": {
        "id": "23N9vvVw1wQX"
      },
      "source": [
        "mytree1 = DecisionTreeClassifier()"
      ],
      "execution_count": 103,
      "outputs": []
    },
    {
      "cell_type": "markdown",
      "metadata": {
        "id": "RnTjSwxB1cdW"
      },
      "source": [
        "#### Train"
      ]
    },
    {
      "cell_type": "code",
      "metadata": {
        "id": "oOSHiPdR10AB",
        "colab": {
          "base_uri": "https://localhost:8080/"
        },
        "outputId": "bf417ca3-e8a7-4a95-edba-982c3659ce01"
      },
      "source": [
        "mytree1.fit(X_train2,y_train2)"
      ],
      "execution_count": 104,
      "outputs": [
        {
          "output_type": "execute_result",
          "data": {
            "text/plain": [
              "DecisionTreeClassifier(ccp_alpha=0.0, class_weight=None, criterion='gini',\n",
              "                       max_depth=None, max_features=None, max_leaf_nodes=None,\n",
              "                       min_impurity_decrease=0.0, min_impurity_split=None,\n",
              "                       min_samples_leaf=1, min_samples_split=2,\n",
              "                       min_weight_fraction_leaf=0.0, presort='deprecated',\n",
              "                       random_state=None, splitter='best')"
            ]
          },
          "metadata": {},
          "execution_count": 104
        }
      ]
    },
    {
      "cell_type": "markdown",
      "metadata": {
        "id": "oJAe4RS71kI9"
      },
      "source": [
        "#### Evaluate"
      ]
    },
    {
      "cell_type": "code",
      "metadata": {
        "id": "jUSpnhxa03W9"
      },
      "source": [
        "from sklearn.metrics import accuracy_score"
      ],
      "execution_count": 105,
      "outputs": []
    },
    {
      "cell_type": "markdown",
      "metadata": {
        "id": "0QpJEcGF2R4-"
      },
      "source": [
        "Test"
      ]
    },
    {
      "cell_type": "code",
      "metadata": {
        "id": "HVxTmbhV2QTa"
      },
      "source": [
        "tree1_result = mytree1.predict(X_val)"
      ],
      "execution_count": 106,
      "outputs": []
    },
    {
      "cell_type": "code",
      "metadata": {
        "id": "LKCM_oJg2KLf",
        "colab": {
          "base_uri": "https://localhost:8080/"
        },
        "outputId": "788ca791-dfcc-447c-dcec-cdbb919e4a82"
      },
      "source": [
        "accuracy_score(y_val, tree1_result )"
      ],
      "execution_count": 107,
      "outputs": [
        {
          "output_type": "execute_result",
          "data": {
            "text/plain": [
              "0.762962962962963"
            ]
          },
          "metadata": {},
          "execution_count": 107
        }
      ]
    },
    {
      "cell_type": "markdown",
      "metadata": {
        "id": "NS8mZJdy05p-"
      },
      "source": [
        "# HW\n",
        "\n",
        "1. ต้นไม้ที่ใช้เกณฑ์ Entropy มีความสูงไม่เกิน 4 ชั้น\n",
        "2. ต้นไม้ที่ใช้เกณฑ์ Gini มีใบไม่เกิน 25 ใบ\n",
        "3. ต้นไม้ที่ใช้เกณฑ์ Entropy และใช้การ split แบบ random\n",
        "4. ต้นไม้ที่เราคิดเอง\n",
        "\n"
      ]
    },
    {
      "cell_type": "markdown",
      "metadata": {
        "id": "UWs-AQ1vozXG"
      },
      "source": [
        "T2"
      ]
    },
    {
      "cell_type": "code",
      "metadata": {
        "colab": {
          "base_uri": "https://localhost:8080/"
        },
        "id": "z3YuvUs22ksw",
        "outputId": "9bc1650d-14fd-413c-9a53-a69ef4e7a0c3"
      },
      "source": [
        "#import\n",
        "from sklearn.tree import DecisionTreeClassifier\n",
        "#define\n",
        "T2 = DecisionTreeClassifier(criterion='entropy',max_depth=4)\n",
        "#train\n",
        "T2.fit(X_train2,y_train2)\n",
        "#test-evaluate\n",
        "T2_result = T2.predict(X_val)\n",
        "accuracy_score(y_val, T2_result)"
      ],
      "execution_count": 108,
      "outputs": [
        {
          "output_type": "execute_result",
          "data": {
            "text/plain": [
              "0.6851851851851852"
            ]
          },
          "metadata": {},
          "execution_count": 108
        }
      ]
    },
    {
      "cell_type": "markdown",
      "metadata": {
        "id": "OlGFbDgIk3nK"
      },
      "source": [
        "T3"
      ]
    },
    {
      "cell_type": "code",
      "metadata": {
        "id": "6BUbGCf3k19H",
        "colab": {
          "base_uri": "https://localhost:8080/"
        },
        "outputId": "61b1ff59-e9cb-4255-82f9-ceac5b4f4fcf"
      },
      "source": [
        "#import\n",
        "from sklearn.tree import DecisionTreeClassifier\n",
        "#define\n",
        "T3 = DecisionTreeClassifier(criterion='gini',max_leaf_nodes=25)\n",
        "#train\n",
        "T3.fit(X_train2,y_train2)\n",
        "#test-evaluate\n",
        "T3_result = T3.predict(X_val)\n",
        "accuracy_score(y_val, T3_result)"
      ],
      "execution_count": 109,
      "outputs": [
        {
          "output_type": "execute_result",
          "data": {
            "text/plain": [
              "0.7555555555555555"
            ]
          },
          "metadata": {},
          "execution_count": 109
        }
      ]
    },
    {
      "cell_type": "markdown",
      "metadata": {
        "id": "SHo2sNlWlE6b"
      },
      "source": [
        "T4"
      ]
    },
    {
      "cell_type": "code",
      "metadata": {
        "id": "raTQ5QLrlDKx",
        "colab": {
          "base_uri": "https://localhost:8080/"
        },
        "outputId": "4fd4fdf0-60a3-4492-fe1f-32e4c5666d50"
      },
      "source": [
        "#import\n",
        "from sklearn.tree import DecisionTreeClassifier\n",
        "#define\n",
        "T4 = DecisionTreeClassifier(criterion='entropy',random_state=6,splitter='random')\n",
        "#train\n",
        "T4.fit(X_train2,y_train2)\n",
        "#test-evaluate\n",
        "T4_result = T4.predict(X_val)\n",
        "accuracy_score(y_val, T4_result)"
      ],
      "execution_count": 110,
      "outputs": [
        {
          "output_type": "execute_result",
          "data": {
            "text/plain": [
              "0.8222222222222222"
            ]
          },
          "metadata": {},
          "execution_count": 110
        }
      ]
    },
    {
      "cell_type": "markdown",
      "metadata": {
        "id": "mhNSAzLGlZjO"
      },
      "source": [
        "## เลือก T4 แล้ว train ใหม่ด้วย Training "
      ]
    },
    {
      "cell_type": "code",
      "metadata": {
        "id": "1Xb6Fr4_lUq4",
        "colab": {
          "base_uri": "https://localhost:8080/"
        },
        "outputId": "39c2cc45-8ed2-4950-e7d5-30f9ca5496c3"
      },
      "source": [
        "#import\n",
        "from sklearn.tree import DecisionTreeClassifier\n",
        "#define\n",
        "T4final = DecisionTreeClassifier(max_leaf_nodes=31,criterion='entropy')\n",
        "#train\n",
        "T4final.fit(X_train,y_train)\n",
        "#test-evaluate\n",
        "T4_finalresult = T4final.predict(X_test)\n",
        "accuracy_score(y_test, T4_finalresult)"
      ],
      "execution_count": 126,
      "outputs": [
        {
          "output_type": "execute_result",
          "data": {
            "text/plain": [
              "0.8175750834260289"
            ]
          },
          "metadata": {},
          "execution_count": 126
        }
      ]
    },
    {
      "cell_type": "markdown",
      "metadata": {
        "id": "mFK4uYyXqd-m"
      },
      "source": [
        "#ต้นไม้ที่เราคิดเอง"
      ]
    },
    {
      "cell_type": "code",
      "metadata": {
        "id": "CIuKKWCpnoXe"
      },
      "source": [
        "mytree_KT = DecisionTreeClassifier(max_leaf_nodes=31,criterion='entropy')"
      ],
      "execution_count": 123,
      "outputs": []
    },
    {
      "cell_type": "code",
      "metadata": {
        "id": "HfPGOJvhpOVP",
        "outputId": "dbe92169-30f0-4439-a7a4-f7ff401d133e",
        "colab": {
          "base_uri": "https://localhost:8080/"
        }
      },
      "source": [
        "mytree_KT.fit(X_train2,y_train2)"
      ],
      "execution_count": 124,
      "outputs": [
        {
          "output_type": "execute_result",
          "data": {
            "text/plain": [
              "DecisionTreeClassifier(ccp_alpha=0.0, class_weight=None, criterion='entropy',\n",
              "                       max_depth=None, max_features=None, max_leaf_nodes=31,\n",
              "                       min_impurity_decrease=0.0, min_impurity_split=None,\n",
              "                       min_samples_leaf=1, min_samples_split=2,\n",
              "                       min_weight_fraction_leaf=0.0, presort='deprecated',\n",
              "                       random_state=None, splitter='best')"
            ]
          },
          "metadata": {},
          "execution_count": 124
        }
      ]
    },
    {
      "cell_type": "code",
      "metadata": {
        "id": "M_0a5tMApYhQ",
        "outputId": "29238bf0-4fc1-472b-a9ae-2d55b1d08bd0",
        "colab": {
          "base_uri": "https://localhost:8080/",
          "height": 1000
        }
      },
      "source": [
        "plot_tree(mytree_KT)"
      ],
      "execution_count": 125,
      "outputs": [
        {
          "output_type": "execute_result",
          "data": {
            "text/plain": [
              "[Text(187.37386363636364, 203.85, 'X[30] <= 0.5\\nentropy = 3.315\\nsamples = 628\\nvalue = [57, 70, 56, 74, 54, 61, 62, 61, 64, 69]'),\n",
              " Text(89.40681818181818, 176.67000000000002, 'X[20] <= 3.5\\nentropy = 2.915\\nsamples = 383\\nvalue = [0, 62, 54, 68, 11, 54, 61, 12, 51, 10]'),\n",
              " Text(38.04545454545455, 149.49, 'X[42] <= 9.5\\nentropy = 1.856\\nsamples = 122\\nvalue = [0, 3, 1, 1, 4, 43, 58, 1, 10, 1]'),\n",
              " Text(22.827272727272728, 122.31, 'X[21] <= 7.0\\nentropy = 1.266\\nsamples = 50\\nvalue = [0, 3, 1, 1, 0, 39, 1, 0, 4, 1]'),\n",
              " Text(15.218181818181819, 95.13, 'X[55] <= 0.5\\nentropy = 0.522\\nsamples = 43\\nvalue = [0, 3, 0, 0, 0, 39, 1, 0, 0, 0]'),\n",
              " Text(7.609090909090909, 67.94999999999999, 'entropy = 0.169\\nsamples = 40\\nvalue = [0, 0, 0, 0, 0, 39, 1, 0, 0, 0]'),\n",
              " Text(22.827272727272728, 67.94999999999999, 'entropy = 0.0\\nsamples = 3\\nvalue = [0, 3, 0, 0, 0, 0, 0, 0, 0, 0]'),\n",
              " Text(30.436363636363637, 95.13, 'entropy = 1.664\\nsamples = 7\\nvalue = [0, 0, 1, 1, 0, 0, 0, 0, 4, 1]'),\n",
              " Text(53.263636363636365, 122.31, 'X[21] <= 5.0\\nentropy = 1.115\\nsamples = 72\\nvalue = [0, 0, 0, 0, 4, 4, 57, 1, 6, 0]'),\n",
              " Text(45.654545454545456, 95.13, 'X[61] <= 6.5\\nentropy = 0.661\\nsamples = 65\\nvalue = [0, 0, 0, 0, 4, 4, 57, 0, 0, 0]'),\n",
              " Text(38.04545454545455, 67.94999999999999, 'entropy = 0.985\\nsamples = 7\\nvalue = [0, 0, 0, 0, 4, 3, 0, 0, 0, 0]'),\n",
              " Text(53.263636363636365, 67.94999999999999, 'entropy = 0.126\\nsamples = 58\\nvalue = [0, 0, 0, 0, 0, 1, 57, 0, 0, 0]'),\n",
              " Text(60.872727272727275, 95.13, 'entropy = 0.592\\nsamples = 7\\nvalue = [0, 0, 0, 0, 0, 0, 0, 1, 6, 0]'),\n",
              " Text(140.76818181818183, 149.49, 'X[43] <= 4.5\\nentropy = 2.642\\nsamples = 261\\nvalue = [0, 59, 53, 67, 7, 11, 3, 11, 41, 9]'),\n",
              " Text(91.30909090909091, 122.31, 'X[26] <= 5.5\\nentropy = 1.728\\nsamples = 102\\nvalue = [0, 15, 0, 62, 0, 9, 0, 0, 8, 8]'),\n",
              " Text(76.0909090909091, 95.13, 'X[11] <= 13.5\\nentropy = 0.654\\nsamples = 66\\nvalue = [0, 4, 0, 58, 0, 0, 0, 0, 4, 0]'),\n",
              " Text(68.48181818181818, 67.94999999999999, 'entropy = 0.214\\nsamples = 59\\nvalue = [0, 0, 0, 57, 0, 0, 0, 0, 2, 0]'),\n",
              " Text(83.7, 67.94999999999999, 'entropy = 1.379\\nsamples = 7\\nvalue = [0, 4, 0, 1, 0, 0, 0, 0, 2, 0]'),\n",
              " Text(106.52727272727273, 95.13, 'X[10] <= 8.5\\nentropy = 2.209\\nsamples = 36\\nvalue = [0, 11, 0, 4, 0, 9, 0, 0, 4, 8]'),\n",
              " Text(98.91818181818182, 67.94999999999999, 'entropy = 1.089\\nsamples = 14\\nvalue = [0, 11, 0, 1, 0, 0, 0, 0, 1, 1]'),\n",
              " Text(114.13636363636364, 67.94999999999999, 'X[21] <= 3.0\\nentropy = 1.837\\nsamples = 22\\nvalue = [0, 0, 0, 3, 0, 9, 0, 0, 3, 7]'),\n",
              " Text(106.52727272727273, 40.77000000000001, 'entropy = 0.722\\nsamples = 10\\nvalue = [0, 0, 0, 2, 0, 8, 0, 0, 0, 0]'),\n",
              " Text(121.74545454545455, 40.77000000000001, 'entropy = 1.551\\nsamples = 12\\nvalue = [0, 0, 0, 1, 0, 1, 0, 0, 3, 7]'),\n",
              " Text(190.22727272727275, 122.31, 'X[19] <= 9.5\\nentropy = 2.367\\nsamples = 159\\nvalue = [0, 44, 53, 5, 7, 2, 3, 11, 33, 1]'),\n",
              " Text(159.7909090909091, 95.13, 'X[54] <= 1.5\\nentropy = 1.702\\nsamples = 83\\nvalue = [0, 0, 47, 4, 1, 0, 0, 11, 19, 1]'),\n",
              " Text(144.57272727272726, 67.94999999999999, 'X[38] <= 0.5\\nentropy = 1.911\\nsamples = 33\\nvalue = [0, 0, 2, 3, 1, 0, 0, 11, 15, 1]'),\n",
              " Text(136.96363636363637, 40.77000000000001, 'X[50] <= 5.5\\nentropy = 1.489\\nsamples = 22\\nvalue = [0, 0, 2, 3, 1, 0, 0, 0, 15, 1]'),\n",
              " Text(129.35454545454547, 13.590000000000003, 'entropy = 1.371\\nsamples = 5\\nvalue = [0, 0, 1, 3, 0, 0, 0, 0, 0, 1]'),\n",
              " Text(144.57272727272726, 13.590000000000003, 'entropy = 0.64\\nsamples = 17\\nvalue = [0, 0, 1, 0, 1, 0, 0, 0, 15, 0]'),\n",
              " Text(152.1818181818182, 40.77000000000001, 'entropy = 0.0\\nsamples = 11\\nvalue = [0, 0, 0, 0, 0, 0, 0, 11, 0, 0]'),\n",
              " Text(175.0090909090909, 67.94999999999999, 'X[45] <= 10.5\\nentropy = 0.541\\nsamples = 50\\nvalue = [0, 0, 45, 1, 0, 0, 0, 0, 4, 0]'),\n",
              " Text(167.4, 40.77000000000001, 'entropy = 0.0\\nsamples = 44\\nvalue = [0, 0, 44, 0, 0, 0, 0, 0, 0, 0]'),\n",
              " Text(182.61818181818182, 40.77000000000001, 'entropy = 1.252\\nsamples = 6\\nvalue = [0, 0, 1, 1, 0, 0, 0, 0, 4, 0]'),\n",
              " Text(220.66363636363639, 95.13, 'X[12] <= 14.5\\nentropy = 1.889\\nsamples = 76\\nvalue = [0, 44, 6, 1, 6, 2, 3, 0, 14, 0]'),\n",
              " Text(205.44545454545454, 67.94999999999999, 'X[21] <= 3.0\\nentropy = 2.071\\nsamples = 29\\nvalue = [0, 5, 5, 0, 3, 0, 3, 0, 13, 0]'),\n",
              " Text(197.83636363636364, 40.77000000000001, 'entropy = 1.809\\nsamples = 14\\nvalue = [0, 5, 5, 0, 1, 0, 3, 0, 0, 0]'),\n",
              " Text(213.05454545454546, 40.77000000000001, 'entropy = 0.567\\nsamples = 15\\nvalue = [0, 0, 0, 0, 2, 0, 0, 0, 13, 0]'),\n",
              " Text(235.88181818181818, 67.94999999999999, 'X[46] <= 1.0\\nentropy = 1.025\\nsamples = 47\\nvalue = [0, 39, 1, 1, 3, 2, 0, 0, 1, 0]'),\n",
              " Text(228.27272727272728, 40.77000000000001, 'X[20] <= 10.0\\nentropy = 0.437\\nsamples = 42\\nvalue = [0, 39, 1, 0, 0, 2, 0, 0, 0, 0]'),\n",
              " Text(220.66363636363639, 13.590000000000003, 'entropy = 0.918\\nsamples = 3\\nvalue = [0, 0, 1, 0, 0, 2, 0, 0, 0, 0]'),\n",
              " Text(235.88181818181818, 13.590000000000003, 'entropy = 0.0\\nsamples = 39\\nvalue = [0, 39, 0, 0, 0, 0, 0, 0, 0, 0]'),\n",
              " Text(243.4909090909091, 40.77000000000001, 'entropy = 1.371\\nsamples = 5\\nvalue = [0, 0, 0, 1, 3, 0, 0, 0, 1, 0]'),\n",
              " Text(285.3409090909091, 176.67000000000002, 'X[33] <= 2.5\\nentropy = 2.642\\nsamples = 245\\nvalue = [57, 8, 2, 6, 43, 7, 1, 49, 13, 59]'),\n",
              " Text(266.3181818181818, 149.49, 'X[43] <= 2.5\\nentropy = 2.163\\nsamples = 130\\nvalue = [1, 5, 2, 6, 1, 4, 1, 38, 13, 59]'),\n",
              " Text(251.10000000000002, 122.31, 'X[21] <= 10.5\\nentropy = 1.288\\nsamples = 72\\nvalue = [0, 4, 0, 6, 0, 4, 0, 2, 1, 55]'),\n",
              " Text(243.4909090909091, 95.13, 'entropy = 1.823\\nsamples = 11\\nvalue = [0, 0, 0, 4, 0, 4, 0, 2, 0, 1]'),\n",
              " Text(258.70909090909095, 95.13, 'X[59] <= 4.0\\nentropy = 0.672\\nsamples = 61\\nvalue = [0, 4, 0, 2, 0, 0, 0, 0, 1, 54]'),\n",
              " Text(251.10000000000002, 67.94999999999999, 'entropy = 1.406\\nsamples = 8\\nvalue = [0, 4, 0, 0, 0, 0, 0, 0, 1, 3]'),\n",
              " Text(266.3181818181818, 67.94999999999999, 'entropy = 0.232\\nsamples = 53\\nvalue = [0, 0, 0, 2, 0, 0, 0, 0, 0, 51]'),\n",
              " Text(281.53636363636366, 122.31, 'X[61] <= 0.5\\nentropy = 1.735\\nsamples = 58\\nvalue = [1, 1, 2, 0, 1, 0, 1, 36, 12, 4]'),\n",
              " Text(273.92727272727274, 95.13, 'entropy = 0.297\\nsamples = 38\\nvalue = [0, 0, 0, 0, 0, 0, 0, 36, 0, 2]'),\n",
              " Text(289.1454545454545, 95.13, 'X[38] <= 0.5\\nentropy = 1.971\\nsamples = 20\\nvalue = [1, 1, 2, 0, 1, 0, 1, 0, 12, 2]'),\n",
              " Text(281.53636363636366, 67.94999999999999, 'entropy = 0.906\\nsamples = 15\\nvalue = [0, 1, 2, 0, 0, 0, 0, 0, 12, 0]'),\n",
              " Text(296.75454545454545, 67.94999999999999, 'entropy = 1.922\\nsamples = 5\\nvalue = [1, 0, 0, 0, 1, 0, 1, 0, 0, 2]'),\n",
              " Text(304.3636363636364, 149.49, 'X[36] <= 0.5\\nentropy = 1.635\\nsamples = 115\\nvalue = [56, 3, 0, 0, 42, 3, 0, 11, 0, 0]'),\n",
              " Text(296.75454545454545, 122.31, 'entropy = 0.337\\nsamples = 59\\nvalue = [56, 0, 0, 0, 2, 1, 0, 0, 0, 0]'),\n",
              " Text(311.9727272727273, 122.31, 'X[13] <= 9.0\\nentropy = 1.206\\nsamples = 56\\nvalue = [0, 3, 0, 0, 40, 2, 0, 11, 0, 0]'),\n",
              " Text(304.3636363636364, 95.13, 'entropy = 0.286\\nsamples = 40\\nvalue = [0, 0, 0, 0, 38, 2, 0, 0, 0, 0]'),\n",
              " Text(319.5818181818182, 95.13, 'X[2] <= 1.5\\nentropy = 1.199\\nsamples = 16\\nvalue = [0, 3, 0, 0, 2, 0, 0, 11, 0, 0]'),\n",
              " Text(311.9727272727273, 67.94999999999999, 'entropy = 0.971\\nsamples = 5\\nvalue = [0, 3, 0, 0, 2, 0, 0, 0, 0, 0]'),\n",
              " Text(327.1909090909091, 67.94999999999999, 'entropy = 0.0\\nsamples = 11\\nvalue = [0, 0, 0, 0, 0, 0, 0, 11, 0, 0]')]"
            ]
          },
          "metadata": {},
          "execution_count": 125
        },
        {
          "output_type": "display_data",
          "data": {
            "image/png": "[encoded data removed]",
            "text/plain": [
              "<Figure size 432x288 with 1 Axes>"
            ]
          },
          "metadata": {
            "needs_background": "light"
          }
        }
      ]
    },
    {
      "cell_type": "code",
      "metadata": {
        "id": "ebE6ZYx1pi73"
      },
      "source": [
        ""
      ],
      "execution_count": null,
      "outputs": []
    }
  ]
}